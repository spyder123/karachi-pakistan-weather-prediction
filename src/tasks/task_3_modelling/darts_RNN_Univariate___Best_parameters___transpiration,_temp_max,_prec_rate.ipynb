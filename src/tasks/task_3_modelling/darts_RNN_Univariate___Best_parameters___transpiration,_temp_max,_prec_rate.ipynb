{
  "metadata": {
    "colab": {
      "provenance": [],
      "gpuType": "T4"
    },
    "kernelspec": {
      "name": "python3",
      "display_name": "Python 3",
      "language": "python"
    },
    "language_info": {
      "name": "python",
      "version": "3.10.12",
      "mimetype": "text/x-python",
      "codemirror_mode": {
        "name": "ipython",
        "version": 3
      },
      "pygments_lexer": "ipython3",
      "nbconvert_exporter": "python",
      "file_extension": ".py"
    },
    "accelerator": "GPU",
    "widgets": {
      "application/vnd.jupyter.widget-state+json": {
        "70c6407b087245309f6d5cc8969eb144": {
          "model_module": "@jupyter-widgets/controls",
          "model_name": "HBoxModel",
          "model_module_version": "1.5.0",
          "state": {
            "_dom_classes": [],
            "_model_module": "@jupyter-widgets/controls",
            "_model_module_version": "1.5.0",
            "_model_name": "HBoxModel",
            "_view_count": null,
            "_view_module": "@jupyter-widgets/controls",
            "_view_module_version": "1.5.0",
            "_view_name": "HBoxView",
            "box_style": "",
            "children": [
              "IPY_MODEL_2a3b556b01e64b829303e18061a9da1e",
              "IPY_MODEL_795ae0f7236c4448af931f6921900d38",
              "IPY_MODEL_01282e53a24d43c09f72f2ae027ac6d5"
            ],
            "layout": "IPY_MODEL_ac928be00a1a45a2aff92039fff7f107"
          }
        },
        "2a3b556b01e64b829303e18061a9da1e": {
          "model_module": "@jupyter-widgets/controls",
          "model_name": "HTMLModel",
          "model_module_version": "1.5.0",
          "state": {
            "_dom_classes": [],
            "_model_module": "@jupyter-widgets/controls",
            "_model_module_version": "1.5.0",
            "_model_name": "HTMLModel",
            "_view_count": null,
            "_view_module": "@jupyter-widgets/controls",
            "_view_module_version": "1.5.0",
            "_view_name": "HTMLView",
            "description": "",
            "description_tooltip": null,
            "layout": "IPY_MODEL_dce4a764f7ef4305b7dcf1b0f90111e6",
            "placeholder": "​",
            "style": "IPY_MODEL_449a3c99eb964b7aa2854c3689165e53",
            "value": "Predicting DataLoader 0: 100%"
          }
        },
        "795ae0f7236c4448af931f6921900d38": {
          "model_module": "@jupyter-widgets/controls",
          "model_name": "FloatProgressModel",
          "model_module_version": "1.5.0",
          "state": {
            "_dom_classes": [],
            "_model_module": "@jupyter-widgets/controls",
            "_model_module_version": "1.5.0",
            "_model_name": "FloatProgressModel",
            "_view_count": null,
            "_view_module": "@jupyter-widgets/controls",
            "_view_module_version": "1.5.0",
            "_view_name": "ProgressView",
            "bar_style": "success",
            "description": "",
            "description_tooltip": null,
            "layout": "IPY_MODEL_4c6799350e5c4137aa8348534ca10ecd",
            "max": 1,
            "min": 0,
            "orientation": "horizontal",
            "style": "IPY_MODEL_e0b04382a06240b4ae0e84415545cd77",
            "value": 1
          }
        },
        "01282e53a24d43c09f72f2ae027ac6d5": {
          "model_module": "@jupyter-widgets/controls",
          "model_name": "HTMLModel",
          "model_module_version": "1.5.0",
          "state": {
            "_dom_classes": [],
            "_model_module": "@jupyter-widgets/controls",
            "_model_module_version": "1.5.0",
            "_model_name": "HTMLModel",
            "_view_count": null,
            "_view_module": "@jupyter-widgets/controls",
            "_view_module_version": "1.5.0",
            "_view_name": "HTMLView",
            "description": "",
            "description_tooltip": null,
            "layout": "IPY_MODEL_0eed928595194e46b54257886682a719",
            "placeholder": "​",
            "style": "IPY_MODEL_7d64deae51ed4d91960d5fa51f5bc6bb",
            "value": " 1/1 [00:00&lt;00:00, 26.17it/s]"
          }
        },
        "ac928be00a1a45a2aff92039fff7f107": {
          "model_module": "@jupyter-widgets/base",
          "model_name": "LayoutModel",
          "model_module_version": "1.2.0",
          "state": {
            "_model_module": "@jupyter-widgets/base",
            "_model_module_version": "1.2.0",
            "_model_name": "LayoutModel",
            "_view_count": null,
            "_view_module": "@jupyter-widgets/base",
            "_view_module_version": "1.2.0",
            "_view_name": "LayoutView",
            "align_content": null,
            "align_items": null,
            "align_self": null,
            "border": null,
            "bottom": null,
            "display": "inline-flex",
            "flex": null,
            "flex_flow": "row wrap",
            "grid_area": null,
            "grid_auto_columns": null,
            "grid_auto_flow": null,
            "grid_auto_rows": null,
            "grid_column": null,
            "grid_gap": null,
            "grid_row": null,
            "grid_template_areas": null,
            "grid_template_columns": null,
            "grid_template_rows": null,
            "height": null,
            "justify_content": null,
            "justify_items": null,
            "left": null,
            "margin": null,
            "max_height": null,
            "max_width": null,
            "min_height": null,
            "min_width": null,
            "object_fit": null,
            "object_position": null,
            "order": null,
            "overflow": null,
            "overflow_x": null,
            "overflow_y": null,
            "padding": null,
            "right": null,
            "top": null,
            "visibility": null,
            "width": "100%"
          }
        },
        "dce4a764f7ef4305b7dcf1b0f90111e6": {
          "model_module": "@jupyter-widgets/base",
          "model_name": "LayoutModel",
          "model_module_version": "1.2.0",
          "state": {
            "_model_module": "@jupyter-widgets/base",
            "_model_module_version": "1.2.0",
            "_model_name": "LayoutModel",
            "_view_count": null,
            "_view_module": "@jupyter-widgets/base",
            "_view_module_version": "1.2.0",
            "_view_name": "LayoutView",
            "align_content": null,
            "align_items": null,
            "align_self": null,
            "border": null,
            "bottom": null,
            "display": null,
            "flex": null,
            "flex_flow": null,
            "grid_area": null,
            "grid_auto_columns": null,
            "grid_auto_flow": null,
            "grid_auto_rows": null,
            "grid_column": null,
            "grid_gap": null,
            "grid_row": null,
            "grid_template_areas": null,
            "grid_template_columns": null,
            "grid_template_rows": null,
            "height": null,
            "justify_content": null,
            "justify_items": null,
            "left": null,
            "margin": null,
            "max_height": null,
            "max_width": null,
            "min_height": null,
            "min_width": null,
            "object_fit": null,
            "object_position": null,
            "order": null,
            "overflow": null,
            "overflow_x": null,
            "overflow_y": null,
            "padding": null,
            "right": null,
            "top": null,
            "visibility": null,
            "width": null
          }
        },
        "449a3c99eb964b7aa2854c3689165e53": {
          "model_module": "@jupyter-widgets/controls",
          "model_name": "DescriptionStyleModel",
          "model_module_version": "1.5.0",
          "state": {
            "_model_module": "@jupyter-widgets/controls",
            "_model_module_version": "1.5.0",
            "_model_name": "DescriptionStyleModel",
            "_view_count": null,
            "_view_module": "@jupyter-widgets/base",
            "_view_module_version": "1.2.0",
            "_view_name": "StyleView",
            "description_width": ""
          }
        },
        "4c6799350e5c4137aa8348534ca10ecd": {
          "model_module": "@jupyter-widgets/base",
          "model_name": "LayoutModel",
          "model_module_version": "1.2.0",
          "state": {
            "_model_module": "@jupyter-widgets/base",
            "_model_module_version": "1.2.0",
            "_model_name": "LayoutModel",
            "_view_count": null,
            "_view_module": "@jupyter-widgets/base",
            "_view_module_version": "1.2.0",
            "_view_name": "LayoutView",
            "align_content": null,
            "align_items": null,
            "align_self": null,
            "border": null,
            "bottom": null,
            "display": null,
            "flex": "2",
            "flex_flow": null,
            "grid_area": null,
            "grid_auto_columns": null,
            "grid_auto_flow": null,
            "grid_auto_rows": null,
            "grid_column": null,
            "grid_gap": null,
            "grid_row": null,
            "grid_template_areas": null,
            "grid_template_columns": null,
            "grid_template_rows": null,
            "height": null,
            "justify_content": null,
            "justify_items": null,
            "left": null,
            "margin": null,
            "max_height": null,
            "max_width": null,
            "min_height": null,
            "min_width": null,
            "object_fit": null,
            "object_position": null,
            "order": null,
            "overflow": null,
            "overflow_x": null,
            "overflow_y": null,
            "padding": null,
            "right": null,
            "top": null,
            "visibility": null,
            "width": null
          }
        },
        "e0b04382a06240b4ae0e84415545cd77": {
          "model_module": "@jupyter-widgets/controls",
          "model_name": "ProgressStyleModel",
          "model_module_version": "1.5.0",
          "state": {
            "_model_module": "@jupyter-widgets/controls",
            "_model_module_version": "1.5.0",
            "_model_name": "ProgressStyleModel",
            "_view_count": null,
            "_view_module": "@jupyter-widgets/base",
            "_view_module_version": "1.2.0",
            "_view_name": "StyleView",
            "bar_color": null,
            "description_width": ""
          }
        },
        "0eed928595194e46b54257886682a719": {
          "model_module": "@jupyter-widgets/base",
          "model_name": "LayoutModel",
          "model_module_version": "1.2.0",
          "state": {
            "_model_module": "@jupyter-widgets/base",
            "_model_module_version": "1.2.0",
            "_model_name": "LayoutModel",
            "_view_count": null,
            "_view_module": "@jupyter-widgets/base",
            "_view_module_version": "1.2.0",
            "_view_name": "LayoutView",
            "align_content": null,
            "align_items": null,
            "align_self": null,
            "border": null,
            "bottom": null,
            "display": null,
            "flex": null,
            "flex_flow": null,
            "grid_area": null,
            "grid_auto_columns": null,
            "grid_auto_flow": null,
            "grid_auto_rows": null,
            "grid_column": null,
            "grid_gap": null,
            "grid_row": null,
            "grid_template_areas": null,
            "grid_template_columns": null,
            "grid_template_rows": null,
            "height": null,
            "justify_content": null,
            "justify_items": null,
            "left": null,
            "margin": null,
            "max_height": null,
            "max_width": null,
            "min_height": null,
            "min_width": null,
            "object_fit": null,
            "object_position": null,
            "order": null,
            "overflow": null,
            "overflow_x": null,
            "overflow_y": null,
            "padding": null,
            "right": null,
            "top": null,
            "visibility": null,
            "width": null
          }
        },
        "7d64deae51ed4d91960d5fa51f5bc6bb": {
          "model_module": "@jupyter-widgets/controls",
          "model_name": "DescriptionStyleModel",
          "model_module_version": "1.5.0",
          "state": {
            "_model_module": "@jupyter-widgets/controls",
            "_model_module_version": "1.5.0",
            "_model_name": "DescriptionStyleModel",
            "_view_count": null,
            "_view_module": "@jupyter-widgets/base",
            "_view_module_version": "1.2.0",
            "_view_name": "StyleView",
            "description_width": ""
          }
        },
        "eb020e69992a46e5bdf88e050cd9ffcc": {
          "model_module": "@jupyter-widgets/controls",
          "model_name": "HBoxModel",
          "model_module_version": "1.5.0",
          "state": {
            "_dom_classes": [],
            "_model_module": "@jupyter-widgets/controls",
            "_model_module_version": "1.5.0",
            "_model_name": "HBoxModel",
            "_view_count": null,
            "_view_module": "@jupyter-widgets/controls",
            "_view_module_version": "1.5.0",
            "_view_name": "HBoxView",
            "box_style": "",
            "children": [
              "IPY_MODEL_1e3dccf9c5de4b0b889704484251a874",
              "IPY_MODEL_a1bcc257f0054f7a9bd977daa669e789",
              "IPY_MODEL_c541c31bd81e42faac827d18bcba4309"
            ],
            "layout": "IPY_MODEL_2c4889563aea4a7a8679293ccc432fe1"
          }
        },
        "1e3dccf9c5de4b0b889704484251a874": {
          "model_module": "@jupyter-widgets/controls",
          "model_name": "HTMLModel",
          "model_module_version": "1.5.0",
          "state": {
            "_dom_classes": [],
            "_model_module": "@jupyter-widgets/controls",
            "_model_module_version": "1.5.0",
            "_model_name": "HTMLModel",
            "_view_count": null,
            "_view_module": "@jupyter-widgets/controls",
            "_view_module_version": "1.5.0",
            "_view_name": "HTMLView",
            "description": "",
            "description_tooltip": null,
            "layout": "IPY_MODEL_4f795288101341ec86783746ebbac6f8",
            "placeholder": "​",
            "style": "IPY_MODEL_4d5d15ca73e4416f93a1f0f3eff5c54d",
            "value": "Predicting DataLoader 0: 100%"
          }
        },
        "a1bcc257f0054f7a9bd977daa669e789": {
          "model_module": "@jupyter-widgets/controls",
          "model_name": "FloatProgressModel",
          "model_module_version": "1.5.0",
          "state": {
            "_dom_classes": [],
            "_model_module": "@jupyter-widgets/controls",
            "_model_module_version": "1.5.0",
            "_model_name": "FloatProgressModel",
            "_view_count": null,
            "_view_module": "@jupyter-widgets/controls",
            "_view_module_version": "1.5.0",
            "_view_name": "ProgressView",
            "bar_style": "success",
            "description": "",
            "description_tooltip": null,
            "layout": "IPY_MODEL_4031fae6a80a463a8cc8a02a2d70b047",
            "max": 1,
            "min": 0,
            "orientation": "horizontal",
            "style": "IPY_MODEL_dc9ce9d5b104446d9f16e82d779cc60b",
            "value": 1
          }
        },
        "c541c31bd81e42faac827d18bcba4309": {
          "model_module": "@jupyter-widgets/controls",
          "model_name": "HTMLModel",
          "model_module_version": "1.5.0",
          "state": {
            "_dom_classes": [],
            "_model_module": "@jupyter-widgets/controls",
            "_model_module_version": "1.5.0",
            "_model_name": "HTMLModel",
            "_view_count": null,
            "_view_module": "@jupyter-widgets/controls",
            "_view_module_version": "1.5.0",
            "_view_name": "HTMLView",
            "description": "",
            "description_tooltip": null,
            "layout": "IPY_MODEL_a1aacee5ae40414b928e5552d816b632",
            "placeholder": "​",
            "style": "IPY_MODEL_cedc2d331f00432f8b5f7ba14be60ead",
            "value": " 1/1 [00:00&lt;00:00, 46.41it/s]"
          }
        },
        "2c4889563aea4a7a8679293ccc432fe1": {
          "model_module": "@jupyter-widgets/base",
          "model_name": "LayoutModel",
          "model_module_version": "1.2.0",
          "state": {
            "_model_module": "@jupyter-widgets/base",
            "_model_module_version": "1.2.0",
            "_model_name": "LayoutModel",
            "_view_count": null,
            "_view_module": "@jupyter-widgets/base",
            "_view_module_version": "1.2.0",
            "_view_name": "LayoutView",
            "align_content": null,
            "align_items": null,
            "align_self": null,
            "border": null,
            "bottom": null,
            "display": "inline-flex",
            "flex": null,
            "flex_flow": "row wrap",
            "grid_area": null,
            "grid_auto_columns": null,
            "grid_auto_flow": null,
            "grid_auto_rows": null,
            "grid_column": null,
            "grid_gap": null,
            "grid_row": null,
            "grid_template_areas": null,
            "grid_template_columns": null,
            "grid_template_rows": null,
            "height": null,
            "justify_content": null,
            "justify_items": null,
            "left": null,
            "margin": null,
            "max_height": null,
            "max_width": null,
            "min_height": null,
            "min_width": null,
            "object_fit": null,
            "object_position": null,
            "order": null,
            "overflow": null,
            "overflow_x": null,
            "overflow_y": null,
            "padding": null,
            "right": null,
            "top": null,
            "visibility": null,
            "width": "100%"
          }
        },
        "4f795288101341ec86783746ebbac6f8": {
          "model_module": "@jupyter-widgets/base",
          "model_name": "LayoutModel",
          "model_module_version": "1.2.0",
          "state": {
            "_model_module": "@jupyter-widgets/base",
            "_model_module_version": "1.2.0",
            "_model_name": "LayoutModel",
            "_view_count": null,
            "_view_module": "@jupyter-widgets/base",
            "_view_module_version": "1.2.0",
            "_view_name": "LayoutView",
            "align_content": null,
            "align_items": null,
            "align_self": null,
            "border": null,
            "bottom": null,
            "display": null,
            "flex": null,
            "flex_flow": null,
            "grid_area": null,
            "grid_auto_columns": null,
            "grid_auto_flow": null,
            "grid_auto_rows": null,
            "grid_column": null,
            "grid_gap": null,
            "grid_row": null,
            "grid_template_areas": null,
            "grid_template_columns": null,
            "grid_template_rows": null,
            "height": null,
            "justify_content": null,
            "justify_items": null,
            "left": null,
            "margin": null,
            "max_height": null,
            "max_width": null,
            "min_height": null,
            "min_width": null,
            "object_fit": null,
            "object_position": null,
            "order": null,
            "overflow": null,
            "overflow_x": null,
            "overflow_y": null,
            "padding": null,
            "right": null,
            "top": null,
            "visibility": null,
            "width": null
          }
        },
        "4d5d15ca73e4416f93a1f0f3eff5c54d": {
          "model_module": "@jupyter-widgets/controls",
          "model_name": "DescriptionStyleModel",
          "model_module_version": "1.5.0",
          "state": {
            "_model_module": "@jupyter-widgets/controls",
            "_model_module_version": "1.5.0",
            "_model_name": "DescriptionStyleModel",
            "_view_count": null,
            "_view_module": "@jupyter-widgets/base",
            "_view_module_version": "1.2.0",
            "_view_name": "StyleView",
            "description_width": ""
          }
        },
        "4031fae6a80a463a8cc8a02a2d70b047": {
          "model_module": "@jupyter-widgets/base",
          "model_name": "LayoutModel",
          "model_module_version": "1.2.0",
          "state": {
            "_model_module": "@jupyter-widgets/base",
            "_model_module_version": "1.2.0",
            "_model_name": "LayoutModel",
            "_view_count": null,
            "_view_module": "@jupyter-widgets/base",
            "_view_module_version": "1.2.0",
            "_view_name": "LayoutView",
            "align_content": null,
            "align_items": null,
            "align_self": null,
            "border": null,
            "bottom": null,
            "display": null,
            "flex": "2",
            "flex_flow": null,
            "grid_area": null,
            "grid_auto_columns": null,
            "grid_auto_flow": null,
            "grid_auto_rows": null,
            "grid_column": null,
            "grid_gap": null,
            "grid_row": null,
            "grid_template_areas": null,
            "grid_template_columns": null,
            "grid_template_rows": null,
            "height": null,
            "justify_content": null,
            "justify_items": null,
            "left": null,
            "margin": null,
            "max_height": null,
            "max_width": null,
            "min_height": null,
            "min_width": null,
            "object_fit": null,
            "object_position": null,
            "order": null,
            "overflow": null,
            "overflow_x": null,
            "overflow_y": null,
            "padding": null,
            "right": null,
            "top": null,
            "visibility": null,
            "width": null
          }
        },
        "dc9ce9d5b104446d9f16e82d779cc60b": {
          "model_module": "@jupyter-widgets/controls",
          "model_name": "ProgressStyleModel",
          "model_module_version": "1.5.0",
          "state": {
            "_model_module": "@jupyter-widgets/controls",
            "_model_module_version": "1.5.0",
            "_model_name": "ProgressStyleModel",
            "_view_count": null,
            "_view_module": "@jupyter-widgets/base",
            "_view_module_version": "1.2.0",
            "_view_name": "StyleView",
            "bar_color": null,
            "description_width": ""
          }
        },
        "a1aacee5ae40414b928e5552d816b632": {
          "model_module": "@jupyter-widgets/base",
          "model_name": "LayoutModel",
          "model_module_version": "1.2.0",
          "state": {
            "_model_module": "@jupyter-widgets/base",
            "_model_module_version": "1.2.0",
            "_model_name": "LayoutModel",
            "_view_count": null,
            "_view_module": "@jupyter-widgets/base",
            "_view_module_version": "1.2.0",
            "_view_name": "LayoutView",
            "align_content": null,
            "align_items": null,
            "align_self": null,
            "border": null,
            "bottom": null,
            "display": null,
            "flex": null,
            "flex_flow": null,
            "grid_area": null,
            "grid_auto_columns": null,
            "grid_auto_flow": null,
            "grid_auto_rows": null,
            "grid_column": null,
            "grid_gap": null,
            "grid_row": null,
            "grid_template_areas": null,
            "grid_template_columns": null,
            "grid_template_rows": null,
            "height": null,
            "justify_content": null,
            "justify_items": null,
            "left": null,
            "margin": null,
            "max_height": null,
            "max_width": null,
            "min_height": null,
            "min_width": null,
            "object_fit": null,
            "object_position": null,
            "order": null,
            "overflow": null,
            "overflow_x": null,
            "overflow_y": null,
            "padding": null,
            "right": null,
            "top": null,
            "visibility": null,
            "width": null
          }
        },
        "cedc2d331f00432f8b5f7ba14be60ead": {
          "model_module": "@jupyter-widgets/controls",
          "model_name": "DescriptionStyleModel",
          "model_module_version": "1.5.0",
          "state": {
            "_model_module": "@jupyter-widgets/controls",
            "_model_module_version": "1.5.0",
            "_model_name": "DescriptionStyleModel",
            "_view_count": null,
            "_view_module": "@jupyter-widgets/base",
            "_view_module_version": "1.2.0",
            "_view_name": "StyleView",
            "description_width": ""
          }
        },
        "e7f7152fbf0d42a38f3c1a7144bfff10": {
          "model_module": "@jupyter-widgets/controls",
          "model_name": "HBoxModel",
          "model_module_version": "1.5.0",
          "state": {
            "_dom_classes": [],
            "_model_module": "@jupyter-widgets/controls",
            "_model_module_version": "1.5.0",
            "_model_name": "HBoxModel",
            "_view_count": null,
            "_view_module": "@jupyter-widgets/controls",
            "_view_module_version": "1.5.0",
            "_view_name": "HBoxView",
            "box_style": "",
            "children": [
              "IPY_MODEL_bcf6bdbe26f64ec38c4939b2c7617046",
              "IPY_MODEL_0726421778fd45d793643382dccaaaed",
              "IPY_MODEL_73ea67468d334ac1b2f87ab8e32f6f67"
            ],
            "layout": "IPY_MODEL_8eb605149c6840008a2aea74b3fda34e"
          }
        },
        "bcf6bdbe26f64ec38c4939b2c7617046": {
          "model_module": "@jupyter-widgets/controls",
          "model_name": "HTMLModel",
          "model_module_version": "1.5.0",
          "state": {
            "_dom_classes": [],
            "_model_module": "@jupyter-widgets/controls",
            "_model_module_version": "1.5.0",
            "_model_name": "HTMLModel",
            "_view_count": null,
            "_view_module": "@jupyter-widgets/controls",
            "_view_module_version": "1.5.0",
            "_view_name": "HTMLView",
            "description": "",
            "description_tooltip": null,
            "layout": "IPY_MODEL_ada575d7289146a18aa2763e91e98225",
            "placeholder": "​",
            "style": "IPY_MODEL_3fdb51b91ac34ebb80e69c79e6f4c033",
            "value": "Predicting DataLoader 0: 100%"
          }
        },
        "0726421778fd45d793643382dccaaaed": {
          "model_module": "@jupyter-widgets/controls",
          "model_name": "FloatProgressModel",
          "model_module_version": "1.5.0",
          "state": {
            "_dom_classes": [],
            "_model_module": "@jupyter-widgets/controls",
            "_model_module_version": "1.5.0",
            "_model_name": "FloatProgressModel",
            "_view_count": null,
            "_view_module": "@jupyter-widgets/controls",
            "_view_module_version": "1.5.0",
            "_view_name": "ProgressView",
            "bar_style": "success",
            "description": "",
            "description_tooltip": null,
            "layout": "IPY_MODEL_b4efeaadcc3e4b5fb3f058a988b6b548",
            "max": 1,
            "min": 0,
            "orientation": "horizontal",
            "style": "IPY_MODEL_f2cbd71c0e774105bc6bd8992e3171c9",
            "value": 1
          }
        },
        "73ea67468d334ac1b2f87ab8e32f6f67": {
          "model_module": "@jupyter-widgets/controls",
          "model_name": "HTMLModel",
          "model_module_version": "1.5.0",
          "state": {
            "_dom_classes": [],
            "_model_module": "@jupyter-widgets/controls",
            "_model_module_version": "1.5.0",
            "_model_name": "HTMLModel",
            "_view_count": null,
            "_view_module": "@jupyter-widgets/controls",
            "_view_module_version": "1.5.0",
            "_view_name": "HTMLView",
            "description": "",
            "description_tooltip": null,
            "layout": "IPY_MODEL_cca52cf89a18423f9b0061223d5193f1",
            "placeholder": "​",
            "style": "IPY_MODEL_07020d9d2fa14ca19499dab62e12a4be",
            "value": " 1/1 [00:00&lt;00:00, 44.70it/s]"
          }
        },
        "8eb605149c6840008a2aea74b3fda34e": {
          "model_module": "@jupyter-widgets/base",
          "model_name": "LayoutModel",
          "model_module_version": "1.2.0",
          "state": {
            "_model_module": "@jupyter-widgets/base",
            "_model_module_version": "1.2.0",
            "_model_name": "LayoutModel",
            "_view_count": null,
            "_view_module": "@jupyter-widgets/base",
            "_view_module_version": "1.2.0",
            "_view_name": "LayoutView",
            "align_content": null,
            "align_items": null,
            "align_self": null,
            "border": null,
            "bottom": null,
            "display": "inline-flex",
            "flex": null,
            "flex_flow": "row wrap",
            "grid_area": null,
            "grid_auto_columns": null,
            "grid_auto_flow": null,
            "grid_auto_rows": null,
            "grid_column": null,
            "grid_gap": null,
            "grid_row": null,
            "grid_template_areas": null,
            "grid_template_columns": null,
            "grid_template_rows": null,
            "height": null,
            "justify_content": null,
            "justify_items": null,
            "left": null,
            "margin": null,
            "max_height": null,
            "max_width": null,
            "min_height": null,
            "min_width": null,
            "object_fit": null,
            "object_position": null,
            "order": null,
            "overflow": null,
            "overflow_x": null,
            "overflow_y": null,
            "padding": null,
            "right": null,
            "top": null,
            "visibility": null,
            "width": "100%"
          }
        },
        "ada575d7289146a18aa2763e91e98225": {
          "model_module": "@jupyter-widgets/base",
          "model_name": "LayoutModel",
          "model_module_version": "1.2.0",
          "state": {
            "_model_module": "@jupyter-widgets/base",
            "_model_module_version": "1.2.0",
            "_model_name": "LayoutModel",
            "_view_count": null,
            "_view_module": "@jupyter-widgets/base",
            "_view_module_version": "1.2.0",
            "_view_name": "LayoutView",
            "align_content": null,
            "align_items": null,
            "align_self": null,
            "border": null,
            "bottom": null,
            "display": null,
            "flex": null,
            "flex_flow": null,
            "grid_area": null,
            "grid_auto_columns": null,
            "grid_auto_flow": null,
            "grid_auto_rows": null,
            "grid_column": null,
            "grid_gap": null,
            "grid_row": null,
            "grid_template_areas": null,
            "grid_template_columns": null,
            "grid_template_rows": null,
            "height": null,
            "justify_content": null,
            "justify_items": null,
            "left": null,
            "margin": null,
            "max_height": null,
            "max_width": null,
            "min_height": null,
            "min_width": null,
            "object_fit": null,
            "object_position": null,
            "order": null,
            "overflow": null,
            "overflow_x": null,
            "overflow_y": null,
            "padding": null,
            "right": null,
            "top": null,
            "visibility": null,
            "width": null
          }
        },
        "3fdb51b91ac34ebb80e69c79e6f4c033": {
          "model_module": "@jupyter-widgets/controls",
          "model_name": "DescriptionStyleModel",
          "model_module_version": "1.5.0",
          "state": {
            "_model_module": "@jupyter-widgets/controls",
            "_model_module_version": "1.5.0",
            "_model_name": "DescriptionStyleModel",
            "_view_count": null,
            "_view_module": "@jupyter-widgets/base",
            "_view_module_version": "1.2.0",
            "_view_name": "StyleView",
            "description_width": ""
          }
        },
        "b4efeaadcc3e4b5fb3f058a988b6b548": {
          "model_module": "@jupyter-widgets/base",
          "model_name": "LayoutModel",
          "model_module_version": "1.2.0",
          "state": {
            "_model_module": "@jupyter-widgets/base",
            "_model_module_version": "1.2.0",
            "_model_name": "LayoutModel",
            "_view_count": null,
            "_view_module": "@jupyter-widgets/base",
            "_view_module_version": "1.2.0",
            "_view_name": "LayoutView",
            "align_content": null,
            "align_items": null,
            "align_self": null,
            "border": null,
            "bottom": null,
            "display": null,
            "flex": "2",
            "flex_flow": null,
            "grid_area": null,
            "grid_auto_columns": null,
            "grid_auto_flow": null,
            "grid_auto_rows": null,
            "grid_column": null,
            "grid_gap": null,
            "grid_row": null,
            "grid_template_areas": null,
            "grid_template_columns": null,
            "grid_template_rows": null,
            "height": null,
            "justify_content": null,
            "justify_items": null,
            "left": null,
            "margin": null,
            "max_height": null,
            "max_width": null,
            "min_height": null,
            "min_width": null,
            "object_fit": null,
            "object_position": null,
            "order": null,
            "overflow": null,
            "overflow_x": null,
            "overflow_y": null,
            "padding": null,
            "right": null,
            "top": null,
            "visibility": null,
            "width": null
          }
        },
        "f2cbd71c0e774105bc6bd8992e3171c9": {
          "model_module": "@jupyter-widgets/controls",
          "model_name": "ProgressStyleModel",
          "model_module_version": "1.5.0",
          "state": {
            "_model_module": "@jupyter-widgets/controls",
            "_model_module_version": "1.5.0",
            "_model_name": "ProgressStyleModel",
            "_view_count": null,
            "_view_module": "@jupyter-widgets/base",
            "_view_module_version": "1.2.0",
            "_view_name": "StyleView",
            "bar_color": null,
            "description_width": ""
          }
        },
        "cca52cf89a18423f9b0061223d5193f1": {
          "model_module": "@jupyter-widgets/base",
          "model_name": "LayoutModel",
          "model_module_version": "1.2.0",
          "state": {
            "_model_module": "@jupyter-widgets/base",
            "_model_module_version": "1.2.0",
            "_model_name": "LayoutModel",
            "_view_count": null,
            "_view_module": "@jupyter-widgets/base",
            "_view_module_version": "1.2.0",
            "_view_name": "LayoutView",
            "align_content": null,
            "align_items": null,
            "align_self": null,
            "border": null,
            "bottom": null,
            "display": null,
            "flex": null,
            "flex_flow": null,
            "grid_area": null,
            "grid_auto_columns": null,
            "grid_auto_flow": null,
            "grid_auto_rows": null,
            "grid_column": null,
            "grid_gap": null,
            "grid_row": null,
            "grid_template_areas": null,
            "grid_template_columns": null,
            "grid_template_rows": null,
            "height": null,
            "justify_content": null,
            "justify_items": null,
            "left": null,
            "margin": null,
            "max_height": null,
            "max_width": null,
            "min_height": null,
            "min_width": null,
            "object_fit": null,
            "object_position": null,
            "order": null,
            "overflow": null,
            "overflow_x": null,
            "overflow_y": null,
            "padding": null,
            "right": null,
            "top": null,
            "visibility": null,
            "width": null
          }
        },
        "07020d9d2fa14ca19499dab62e12a4be": {
          "model_module": "@jupyter-widgets/controls",
          "model_name": "DescriptionStyleModel",
          "model_module_version": "1.5.0",
          "state": {
            "_model_module": "@jupyter-widgets/controls",
            "_model_module_version": "1.5.0",
            "_model_name": "DescriptionStyleModel",
            "_view_count": null,
            "_view_module": "@jupyter-widgets/base",
            "_view_module_version": "1.2.0",
            "_view_name": "StyleView",
            "description_width": ""
          }
        }
      }
    }
  },
  "nbformat_minor": 0,
  "nbformat": 4,
  "cells": [
    {
      "cell_type": "code",
      "source": [
        "!pip install u8darts[all] optuna"
      ],
      "metadata": {
        "colab": {
          "base_uri": "https://localhost:8080/"
        },
        "id": "ZHlBKgHyIEx-",
        "outputId": "165f3b64-4555-4fa2-eb37-454bbbc2019e",
        "execution": {
          "iopub.status.busy": "2023-09-08T05:38:21.407720Z",
          "iopub.execute_input": "2023-09-08T05:38:21.408841Z",
          "iopub.status.idle": "2023-09-08T05:38:35.541349Z",
          "shell.execute_reply.started": "2023-09-08T05:38:21.408773Z",
          "shell.execute_reply": "2023-09-08T05:38:35.539919Z"
        },
        "trusted": true
      },
      "execution_count": null,
      "outputs": [
        {
          "name": "stdout",
          "text": "Requirement already satisfied: u8darts[all] in /opt/conda/lib/python3.10/site-packages (0.25.0)\nRequirement already satisfied: optuna in /opt/conda/lib/python3.10/site-packages (3.3.0)\nRequirement already satisfied: holidays>=0.11.1 in /opt/conda/lib/python3.10/site-packages (from u8darts[all]) (0.24)\nRequirement already satisfied: joblib>=0.16.0 in /opt/conda/lib/python3.10/site-packages (from u8darts[all]) (1.3.2)\nRequirement already satisfied: matplotlib>=3.3.0 in /opt/conda/lib/python3.10/site-packages (from u8darts[all]) (3.7.2)\nRequirement already satisfied: nfoursid>=1.0.0 in /opt/conda/lib/python3.10/site-packages (from u8darts[all]) (1.0.1)\nRequirement already satisfied: numpy>=1.19.0 in /opt/conda/lib/python3.10/site-packages (from u8darts[all]) (1.23.5)\nRequirement already satisfied: pmdarima>=1.8.0 in /opt/conda/lib/python3.10/site-packages (from u8darts[all]) (2.0.3)\nRequirement already satisfied: pyod>=0.9.5 in /opt/conda/lib/python3.10/site-packages (from u8darts[all]) (1.1.0)\nRequirement already satisfied: requests>=2.22.0 in /opt/conda/lib/python3.10/site-packages (from u8darts[all]) (2.31.0)\nRequirement already satisfied: scikit-learn>=1.0.1 in /opt/conda/lib/python3.10/site-packages (from u8darts[all]) (1.2.2)\nRequirement already satisfied: scipy>=1.3.2 in /opt/conda/lib/python3.10/site-packages (from u8darts[all]) (1.11.2)\nRequirement already satisfied: shap>=0.40.0 in /opt/conda/lib/python3.10/site-packages (from u8darts[all]) (0.42.1)\nRequirement already satisfied: statsforecast>=1.4 in /opt/conda/lib/python3.10/site-packages (from u8darts[all]) (1.6.0)\nRequirement already satisfied: statsmodels>=0.14.0 in /opt/conda/lib/python3.10/site-packages (from u8darts[all]) (0.14.0)\nRequirement already satisfied: tbats>=1.1.0 in /opt/conda/lib/python3.10/site-packages (from u8darts[all]) (1.1.3)\nRequirement already satisfied: tqdm>=4.60.0 in /opt/conda/lib/python3.10/site-packages (from u8darts[all]) (4.66.1)\nRequirement already satisfied: typing-extensions in /opt/conda/lib/python3.10/site-packages (from u8darts[all]) (4.6.3)\nRequirement already satisfied: xarray>=0.17.0 in /opt/conda/lib/python3.10/site-packages (from u8darts[all]) (2023.8.0)\nRequirement already satisfied: xgboost>=1.6.0 in /opt/conda/lib/python3.10/site-packages (from u8darts[all]) (1.7.6)\nRequirement already satisfied: pandas>=1.0.5 in /opt/conda/lib/python3.10/site-packages (from u8darts[all]) (2.0.2)\nRequirement already satisfied: pytorch-lightning>=1.5.0 in /opt/conda/lib/python3.10/site-packages (from u8darts[all]) (2.0.8)\nRequirement already satisfied: tensorboardX>=2.1 in /opt/conda/lib/python3.10/site-packages (from u8darts[all]) (2.6)\nRequirement already satisfied: torch>=1.8.0 in /opt/conda/lib/python3.10/site-packages (from u8darts[all]) (2.0.0)\nRequirement already satisfied: prophet>=1.1.1 in /opt/conda/lib/python3.10/site-packages (from u8darts[all]) (1.1.1)\nRequirement already satisfied: catboost>=1.0.6 in /opt/conda/lib/python3.10/site-packages (from u8darts[all]) (1.2.1)\nRequirement already satisfied: lightgbm>=3.2.0 in /opt/conda/lib/python3.10/site-packages (from u8darts[all]) (3.3.2)\nRequirement already satisfied: alembic>=1.5.0 in /opt/conda/lib/python3.10/site-packages (from optuna) (1.12.0)\nRequirement already satisfied: cmaes>=0.10.0 in /opt/conda/lib/python3.10/site-packages (from optuna) (0.10.0)\nRequirement already satisfied: colorlog in /opt/conda/lib/python3.10/site-packages (from optuna) (6.7.0)\nRequirement already satisfied: packaging>=20.0 in /opt/conda/lib/python3.10/site-packages (from optuna) (21.3)\nRequirement already satisfied: sqlalchemy>=1.3.0 in /opt/conda/lib/python3.10/site-packages (from optuna) (2.0.17)\nRequirement already satisfied: PyYAML in /opt/conda/lib/python3.10/site-packages (from optuna) (6.0)\nRequirement already satisfied: Mako in /opt/conda/lib/python3.10/site-packages (from alembic>=1.5.0->optuna) (1.2.4)\nRequirement already satisfied: graphviz in /opt/conda/lib/python3.10/site-packages (from catboost>=1.0.6->u8darts[all]) (0.20.1)\nRequirement already satisfied: plotly in /opt/conda/lib/python3.10/site-packages (from catboost>=1.0.6->u8darts[all]) (5.15.0)\nRequirement already satisfied: six in /opt/conda/lib/python3.10/site-packages (from catboost>=1.0.6->u8darts[all]) (1.16.0)\nRequirement already satisfied: hijri-converter in /opt/conda/lib/python3.10/site-packages (from holidays>=0.11.1->u8darts[all]) (2.3.1)\nRequirement already satisfied: korean-lunar-calendar in /opt/conda/lib/python3.10/site-packages (from holidays>=0.11.1->u8darts[all]) (0.3.1)\nRequirement already satisfied: python-dateutil in /opt/conda/lib/python3.10/site-packages (from holidays>=0.11.1->u8darts[all]) (2.8.2)\nRequirement already satisfied: wheel in /opt/conda/lib/python3.10/site-packages (from lightgbm>=3.2.0->u8darts[all]) (0.40.0)\nRequirement already satisfied: contourpy>=1.0.1 in /opt/conda/lib/python3.10/site-packages (from matplotlib>=3.3.0->u8darts[all]) (1.1.0)\nRequirement already satisfied: cycler>=0.10 in /opt/conda/lib/python3.10/site-packages (from matplotlib>=3.3.0->u8darts[all]) (0.11.0)\nRequirement already satisfied: fonttools>=4.22.0 in /opt/conda/lib/python3.10/site-packages (from matplotlib>=3.3.0->u8darts[all]) (4.40.0)\nRequirement already satisfied: kiwisolver>=1.0.1 in /opt/conda/lib/python3.10/site-packages (from matplotlib>=3.3.0->u8darts[all]) (1.4.4)\nRequirement already satisfied: pillow>=6.2.0 in /opt/conda/lib/python3.10/site-packages (from matplotlib>=3.3.0->u8darts[all]) (9.5.0)\nRequirement already satisfied: pyparsing<3.1,>=2.3.1 in /opt/conda/lib/python3.10/site-packages (from matplotlib>=3.3.0->u8darts[all]) (3.0.9)\nRequirement already satisfied: pytz>=2020.1 in /opt/conda/lib/python3.10/site-packages (from pandas>=1.0.5->u8darts[all]) (2023.3)\nRequirement already satisfied: tzdata>=2022.1 in /opt/conda/lib/python3.10/site-packages (from pandas>=1.0.5->u8darts[all]) (2023.3)\nRequirement already satisfied: Cython!=0.29.18,!=0.29.31,>=0.29 in /opt/conda/lib/python3.10/site-packages (from pmdarima>=1.8.0->u8darts[all]) (0.29.35)\nRequirement already satisfied: urllib3 in /opt/conda/lib/python3.10/site-packages (from pmdarima>=1.8.0->u8darts[all]) (1.26.15)\nRequirement already satisfied: setuptools!=50.0.0,>=38.6.0 in /opt/conda/lib/python3.10/site-packages (from pmdarima>=1.8.0->u8darts[all]) (68.0.0)\nRequirement already satisfied: cmdstanpy>=1.0.4 in /opt/conda/lib/python3.10/site-packages (from prophet>=1.1.1->u8darts[all]) (1.1.0)\nRequirement already satisfied: LunarCalendar>=0.0.9 in /opt/conda/lib/python3.10/site-packages (from prophet>=1.1.1->u8darts[all]) (0.0.9)\nRequirement already satisfied: convertdate>=2.1.2 in /opt/conda/lib/python3.10/site-packages (from prophet>=1.1.1->u8darts[all]) (2.4.0)\nRequirement already satisfied: setuptools-git>=1.2 in /opt/conda/lib/python3.10/site-packages (from prophet>=1.1.1->u8darts[all]) (1.2)\nRequirement already satisfied: numba>=0.51 in /opt/conda/lib/python3.10/site-packages (from pyod>=0.9.5->u8darts[all]) (0.57.1)\nRequirement already satisfied: fsspec[http]>2021.06.0 in /opt/conda/lib/python3.10/site-packages (from pytorch-lightning>=1.5.0->u8darts[all]) (2023.9.0)\nRequirement already satisfied: torchmetrics>=0.7.0 in /opt/conda/lib/python3.10/site-packages (from pytorch-lightning>=1.5.0->u8darts[all]) (1.1.1)\nRequirement already satisfied: lightning-utilities>=0.7.0 in /opt/conda/lib/python3.10/site-packages (from pytorch-lightning>=1.5.0->u8darts[all]) (0.9.0)\nRequirement already satisfied: charset-normalizer<4,>=2 in /opt/conda/lib/python3.10/site-packages (from requests>=2.22.0->u8darts[all]) (3.1.0)\nRequirement already satisfied: idna<4,>=2.5 in /opt/conda/lib/python3.10/site-packages (from requests>=2.22.0->u8darts[all]) (3.4)\nRequirement already satisfied: certifi>=2017.4.17 in /opt/conda/lib/python3.10/site-packages (from requests>=2.22.0->u8darts[all]) (2023.7.22)\nRequirement already satisfied: threadpoolctl>=2.0.0 in /opt/conda/lib/python3.10/site-packages (from scikit-learn>=1.0.1->u8darts[all]) (3.1.0)\nRequirement already satisfied: slicer==0.0.7 in /opt/conda/lib/python3.10/site-packages (from shap>=0.40.0->u8darts[all]) (0.0.7)\nRequirement already satisfied: cloudpickle in /opt/conda/lib/python3.10/site-packages (from shap>=0.40.0->u8darts[all]) (2.2.1)\nRequirement already satisfied: greenlet!=0.4.17 in /opt/conda/lib/python3.10/site-packages (from sqlalchemy>=1.3.0->optuna) (2.0.2)\nRequirement already satisfied: polars in /opt/conda/lib/python3.10/site-packages (from statsforecast>=1.4->u8darts[all]) (0.19.2)\nRequirement already satisfied: fugue>=0.8.1 in /opt/conda/lib/python3.10/site-packages (from statsforecast>=1.4->u8darts[all]) (0.8.6)\nRequirement already satisfied: patsy>=0.5.2 in /opt/conda/lib/python3.10/site-packages (from statsmodels>=0.14.0->u8darts[all]) (0.5.3)\nRequirement already satisfied: protobuf<4,>=3.8.0 in /opt/conda/lib/python3.10/site-packages (from tensorboardX>=2.1->u8darts[all]) (3.20.3)\nRequirement already satisfied: filelock in /opt/conda/lib/python3.10/site-packages (from torch>=1.8.0->u8darts[all]) (3.12.2)\nRequirement already satisfied: sympy in /opt/conda/lib/python3.10/site-packages (from torch>=1.8.0->u8darts[all]) (1.12)\nRequirement already satisfied: networkx in /opt/conda/lib/python3.10/site-packages (from torch>=1.8.0->u8darts[all]) (3.1)\nRequirement already satisfied: jinja2 in /opt/conda/lib/python3.10/site-packages (from torch>=1.8.0->u8darts[all]) (3.1.2)\nRequirement already satisfied: pymeeus<=1,>=0.3.13 in /opt/conda/lib/python3.10/site-packages (from convertdate>=2.1.2->prophet>=1.1.1->u8darts[all]) (0.5.12)\nRequirement already satisfied: aiohttp!=4.0.0a0,!=4.0.0a1 in /opt/conda/lib/python3.10/site-packages (from fsspec[http]>2021.06.0->pytorch-lightning>=1.5.0->u8darts[all]) (3.8.4)\nRequirement already satisfied: triad>=0.9.1 in /opt/conda/lib/python3.10/site-packages (from fugue>=0.8.1->statsforecast>=1.4->u8darts[all]) (0.9.1)\nRequirement already satisfied: adagio>=0.2.4 in /opt/conda/lib/python3.10/site-packages (from fugue>=0.8.1->statsforecast>=1.4->u8darts[all]) (0.2.4)\nRequirement already satisfied: pyarrow>=0.15.1 in /opt/conda/lib/python3.10/site-packages (from fugue>=0.8.1->statsforecast>=1.4->u8darts[all]) (11.0.0)\nRequirement already satisfied: qpd>=0.4.4 in /opt/conda/lib/python3.10/site-packages (from fugue>=0.8.1->statsforecast>=1.4->u8darts[all]) (0.4.4)\nRequirement already satisfied: fugue-sql-antlr>=0.1.6 in /opt/conda/lib/python3.10/site-packages (from fugue>=0.8.1->statsforecast>=1.4->u8darts[all]) (0.1.6)\nRequirement already satisfied: sqlglot in /opt/conda/lib/python3.10/site-packages (from fugue>=0.8.1->statsforecast>=1.4->u8darts[all]) (17.16.2)\nRequirement already satisfied: ephem>=3.7.5.3 in /opt/conda/lib/python3.10/site-packages (from LunarCalendar>=0.0.9->prophet>=1.1.1->u8darts[all]) (4.1.4)\nRequirement already satisfied: llvmlite<0.41,>=0.40.0dev0 in /opt/conda/lib/python3.10/site-packages (from numba>=0.51->pyod>=0.9.5->u8darts[all]) (0.40.1)\nRequirement already satisfied: MarkupSafe>=2.0 in /opt/conda/lib/python3.10/site-packages (from jinja2->torch>=1.8.0->u8darts[all]) (2.1.3)\nRequirement already satisfied: tenacity>=6.2.0 in /opt/conda/lib/python3.10/site-packages (from plotly->catboost>=1.0.6->u8darts[all]) (8.2.2)\nRequirement already satisfied: mpmath>=0.19 in /opt/conda/lib/python3.10/site-packages (from sympy->torch>=1.8.0->u8darts[all]) (1.3.0)\nRequirement already satisfied: attrs>=17.3.0 in /opt/conda/lib/python3.10/site-packages (from aiohttp!=4.0.0a0,!=4.0.0a1->fsspec[http]>2021.06.0->pytorch-lightning>=1.5.0->u8darts[all]) (23.1.0)\nRequirement already satisfied: multidict<7.0,>=4.5 in /opt/conda/lib/python3.10/site-packages (from aiohttp!=4.0.0a0,!=4.0.0a1->fsspec[http]>2021.06.0->pytorch-lightning>=1.5.0->u8darts[all]) (6.0.4)\nRequirement already satisfied: async-timeout<5.0,>=4.0.0a3 in /opt/conda/lib/python3.10/site-packages (from aiohttp!=4.0.0a0,!=4.0.0a1->fsspec[http]>2021.06.0->pytorch-lightning>=1.5.0->u8darts[all]) (4.0.2)\nRequirement already satisfied: yarl<2.0,>=1.0 in /opt/conda/lib/python3.10/site-packages (from aiohttp!=4.0.0a0,!=4.0.0a1->fsspec[http]>2021.06.0->pytorch-lightning>=1.5.0->u8darts[all]) (1.9.2)\nRequirement already satisfied: frozenlist>=1.1.1 in /opt/conda/lib/python3.10/site-packages (from aiohttp!=4.0.0a0,!=4.0.0a1->fsspec[http]>2021.06.0->pytorch-lightning>=1.5.0->u8darts[all]) (1.3.3)\nRequirement already satisfied: aiosignal>=1.1.2 in /opt/conda/lib/python3.10/site-packages (from aiohttp!=4.0.0a0,!=4.0.0a1->fsspec[http]>2021.06.0->pytorch-lightning>=1.5.0->u8darts[all]) (1.3.1)\nRequirement already satisfied: antlr4-python3-runtime<4.12,>=4.11.1 in /opt/conda/lib/python3.10/site-packages (from fugue-sql-antlr>=0.1.6->fugue>=0.8.1->statsforecast>=1.4->u8darts[all]) (4.11.1)\nRequirement already satisfied: fs in /opt/conda/lib/python3.10/site-packages (from triad>=0.9.1->fugue>=0.8.1->statsforecast>=1.4->u8darts[all]) (2.4.16)\nRequirement already satisfied: appdirs~=1.4.3 in /opt/conda/lib/python3.10/site-packages (from fs->triad>=0.9.1->fugue>=0.8.1->statsforecast>=1.4->u8darts[all]) (1.4.4)\n",
          "output_type": "stream"
        }
      ]
    },
    {
      "cell_type": "code",
      "source": [
        "import pandas as pd\n",
        "import numpy as np\n",
        "import matplotlib.pyplot as plt\n",
        "\n",
        "from datetime import datetime, timedelta\n",
        "\n",
        "import requests\n",
        "import darts\n",
        "import random\n",
        "from darts import TimeSeries\n",
        "from darts.dataprocessing.transformers import Scaler\n",
        "from darts.models import RegressionModel, CatBoostModel, RandomForest, LightGBMModel, XGBModel, RNNModel\n",
        "from darts.metrics import rmse, mape\n",
        "from sklearn.preprocessing import StandardScaler, MinMaxScaler\n",
        "from sklearn.linear_model import LinearRegression\n",
        "import optuna\n",
        "from pytorch_lightning.callbacks import EarlyStopping\n",
        "\n",
        "\n",
        "from sklearn.metrics import mean_squared_error\n",
        "\n",
        "import warnings\n",
        "warnings.filterwarnings('ignore')"
      ],
      "metadata": {
        "id": "7YYkFCs0IeQl",
        "execution": {
          "iopub.status.busy": "2023-09-08T05:38:35.545151Z",
          "iopub.execute_input": "2023-09-08T05:38:35.545571Z",
          "iopub.status.idle": "2023-09-08T05:38:35.554376Z",
          "shell.execute_reply.started": "2023-09-08T05:38:35.545536Z",
          "shell.execute_reply": "2023-09-08T05:38:35.552975Z"
        },
        "trusted": true
      },
      "execution_count": null,
      "outputs": []
    },
    {
      "cell_type": "code",
      "source": [
        "import tensorflow as tf\n",
        "tf.test.gpu_device_name()"
      ],
      "metadata": {
        "colab": {
          "base_uri": "https://localhost:8080/",
          "height": 35
        },
        "id": "0BdsGauKtJ7P",
        "outputId": "788e7696-2459-4476-b5ec-2ba0ea739ac2",
        "execution": {
          "iopub.status.busy": "2023-09-08T05:38:35.555807Z",
          "iopub.execute_input": "2023-09-08T05:38:35.556189Z",
          "iopub.status.idle": "2023-09-08T05:38:35.571832Z",
          "shell.execute_reply.started": "2023-09-08T05:38:35.556153Z",
          "shell.execute_reply": "2023-09-08T05:38:35.570503Z"
        },
        "trusted": true
      },
      "execution_count": null,
      "outputs": [
        {
          "execution_count": 19,
          "output_type": "execute_result",
          "data": {
            "text/plain": "'/device:GPU:0'"
          },
          "metadata": {}
        }
      ]
    },
    {
      "cell_type": "code",
      "source": [
        "data = pd.read_csv('/kaggle/input/df-final-karachi/df_final_Karachi.csv')\n",
        "data.tail(10)"
      ],
      "metadata": {
        "colab": {
          "base_uri": "https://localhost:8080/",
          "height": 557
        },
        "id": "1LmxgqwCgOe3",
        "outputId": "c29ce666-fc66-4eb3-81c7-a197dd4e143f",
        "execution": {
          "iopub.status.busy": "2023-09-08T05:38:35.574979Z",
          "iopub.execute_input": "2023-09-08T05:38:35.575360Z",
          "iopub.status.idle": "2023-09-08T05:38:35.632758Z",
          "shell.execute_reply.started": "2023-09-08T05:38:35.575327Z",
          "shell.execute_reply": "2023-09-08T05:38:35.631266Z"
        },
        "trusted": true
      },
      "execution_count": null,
      "outputs": [
        {
          "execution_count": 20,
          "output_type": "execute_result",
          "data": {
            "text/plain": "            time     city  temperature_2m_min  temperature_2m_mean  \\\n4956  2023-07-28  Karachi                27.4                 28.5   \n4957  2023-07-29  Karachi                27.3                 28.5   \n4958  2023-07-30  Karachi                27.2                 28.6   \n4959  2023-07-31  Karachi                27.3                 28.7   \n4960  2023-08-01  Karachi                27.2                 28.5   \n4961  2023-08-02  Karachi                27.0                 28.3   \n4962  2023-08-03  Karachi                27.0                 28.3   \n4963  2023-08-04  Karachi                26.8                 28.3   \n4964  2023-08-05  Karachi                26.7                 28.2   \n4965  2023-08-06  Karachi                26.6                 27.8   \n\n      temperature_2m_max  temp_range   daylight  precipitation_sum  \\\n4956                30.2         2.8  13.366667                1.1   \n4957                30.3         3.0  13.333333                0.8   \n4958                30.3         3.1  13.333333                0.9   \n4959                30.5         3.2  13.300000                0.9   \n4960                30.4         3.2  13.283333                0.9   \n4961                30.3         3.3  13.266667                0.5   \n4962                30.0         3.0  13.250000                0.6   \n4963                30.2         3.4  13.233333                0.0   \n4964                30.0         3.3  13.216667                0.1   \n4965                29.4         2.8  13.200000                0.5   \n\n      precipitation_hours  precipitation_rate  windspeed_10m_max  \\\n4956                    8              0.1375               32.4   \n4957                    8              0.1000               33.9   \n4958                    9              0.1000               28.4   \n4959                    9              0.1000               30.2   \n4960                    9              0.1000               31.3   \n4961                    5              0.1000               34.6   \n4962                    6              0.1000               29.2   \n4963                    0              0.0000               25.6   \n4964                    1              0.1000               28.3   \n4965                    5              0.1000               37.8   \n\n      windgusts_10m_max  shortwave_radiation_sum  et0_fao_evapotranspiration  \n4956               47.2                    16.61                        4.00  \n4957               50.4                    18.17                        4.23  \n4958               44.6                    15.24                        3.60  \n4959               45.0                    16.25                        3.78  \n4960               46.1                    14.80                        3.51  \n4961               49.7                    15.92                        3.76  \n4962               43.6                    16.76                        3.97  \n4963               40.3                    16.96                        3.89  \n4964               43.2                    16.95                        4.07  \n4965               55.4                    14.81                        3.84  ",
            "text/html": "<div>\n<style scoped>\n    .dataframe tbody tr th:only-of-type {\n        vertical-align: middle;\n    }\n\n    .dataframe tbody tr th {\n        vertical-align: top;\n    }\n\n    .dataframe thead th {\n        text-align: right;\n    }\n</style>\n<table border=\"1\" class=\"dataframe\">\n  <thead>\n    <tr style=\"text-align: right;\">\n      <th></th>\n      <th>time</th>\n      <th>city</th>\n      <th>temperature_2m_min</th>\n      <th>temperature_2m_mean</th>\n      <th>temperature_2m_max</th>\n      <th>temp_range</th>\n      <th>daylight</th>\n      <th>precipitation_sum</th>\n      <th>precipitation_hours</th>\n      <th>precipitation_rate</th>\n      <th>windspeed_10m_max</th>\n      <th>windgusts_10m_max</th>\n      <th>shortwave_radiation_sum</th>\n      <th>et0_fao_evapotranspiration</th>\n    </tr>\n  </thead>\n  <tbody>\n    <tr>\n      <th>4956</th>\n      <td>2023-07-28</td>\n      <td>Karachi</td>\n      <td>27.4</td>\n      <td>28.5</td>\n      <td>30.2</td>\n      <td>2.8</td>\n      <td>13.366667</td>\n      <td>1.1</td>\n      <td>8</td>\n      <td>0.1375</td>\n      <td>32.4</td>\n      <td>47.2</td>\n      <td>16.61</td>\n      <td>4.00</td>\n    </tr>\n    <tr>\n      <th>4957</th>\n      <td>2023-07-29</td>\n      <td>Karachi</td>\n      <td>27.3</td>\n      <td>28.5</td>\n      <td>30.3</td>\n      <td>3.0</td>\n      <td>13.333333</td>\n      <td>0.8</td>\n      <td>8</td>\n      <td>0.1000</td>\n      <td>33.9</td>\n      <td>50.4</td>\n      <td>18.17</td>\n      <td>4.23</td>\n    </tr>\n    <tr>\n      <th>4958</th>\n      <td>2023-07-30</td>\n      <td>Karachi</td>\n      <td>27.2</td>\n      <td>28.6</td>\n      <td>30.3</td>\n      <td>3.1</td>\n      <td>13.333333</td>\n      <td>0.9</td>\n      <td>9</td>\n      <td>0.1000</td>\n      <td>28.4</td>\n      <td>44.6</td>\n      <td>15.24</td>\n      <td>3.60</td>\n    </tr>\n    <tr>\n      <th>4959</th>\n      <td>2023-07-31</td>\n      <td>Karachi</td>\n      <td>27.3</td>\n      <td>28.7</td>\n      <td>30.5</td>\n      <td>3.2</td>\n      <td>13.300000</td>\n      <td>0.9</td>\n      <td>9</td>\n      <td>0.1000</td>\n      <td>30.2</td>\n      <td>45.0</td>\n      <td>16.25</td>\n      <td>3.78</td>\n    </tr>\n    <tr>\n      <th>4960</th>\n      <td>2023-08-01</td>\n      <td>Karachi</td>\n      <td>27.2</td>\n      <td>28.5</td>\n      <td>30.4</td>\n      <td>3.2</td>\n      <td>13.283333</td>\n      <td>0.9</td>\n      <td>9</td>\n      <td>0.1000</td>\n      <td>31.3</td>\n      <td>46.1</td>\n      <td>14.80</td>\n      <td>3.51</td>\n    </tr>\n    <tr>\n      <th>4961</th>\n      <td>2023-08-02</td>\n      <td>Karachi</td>\n      <td>27.0</td>\n      <td>28.3</td>\n      <td>30.3</td>\n      <td>3.3</td>\n      <td>13.266667</td>\n      <td>0.5</td>\n      <td>5</td>\n      <td>0.1000</td>\n      <td>34.6</td>\n      <td>49.7</td>\n      <td>15.92</td>\n      <td>3.76</td>\n    </tr>\n    <tr>\n      <th>4962</th>\n      <td>2023-08-03</td>\n      <td>Karachi</td>\n      <td>27.0</td>\n      <td>28.3</td>\n      <td>30.0</td>\n      <td>3.0</td>\n      <td>13.250000</td>\n      <td>0.6</td>\n      <td>6</td>\n      <td>0.1000</td>\n      <td>29.2</td>\n      <td>43.6</td>\n      <td>16.76</td>\n      <td>3.97</td>\n    </tr>\n    <tr>\n      <th>4963</th>\n      <td>2023-08-04</td>\n      <td>Karachi</td>\n      <td>26.8</td>\n      <td>28.3</td>\n      <td>30.2</td>\n      <td>3.4</td>\n      <td>13.233333</td>\n      <td>0.0</td>\n      <td>0</td>\n      <td>0.0000</td>\n      <td>25.6</td>\n      <td>40.3</td>\n      <td>16.96</td>\n      <td>3.89</td>\n    </tr>\n    <tr>\n      <th>4964</th>\n      <td>2023-08-05</td>\n      <td>Karachi</td>\n      <td>26.7</td>\n      <td>28.2</td>\n      <td>30.0</td>\n      <td>3.3</td>\n      <td>13.216667</td>\n      <td>0.1</td>\n      <td>1</td>\n      <td>0.1000</td>\n      <td>28.3</td>\n      <td>43.2</td>\n      <td>16.95</td>\n      <td>4.07</td>\n    </tr>\n    <tr>\n      <th>4965</th>\n      <td>2023-08-06</td>\n      <td>Karachi</td>\n      <td>26.6</td>\n      <td>27.8</td>\n      <td>29.4</td>\n      <td>2.8</td>\n      <td>13.200000</td>\n      <td>0.5</td>\n      <td>5</td>\n      <td>0.1000</td>\n      <td>37.8</td>\n      <td>55.4</td>\n      <td>14.81</td>\n      <td>3.84</td>\n    </tr>\n  </tbody>\n</table>\n</div>"
          },
          "metadata": {}
        }
      ]
    },
    {
      "cell_type": "code",
      "source": [
        "data['time'] = pd.to_datetime(data['time'])\n",
        "data.set_index('time', inplace=True)\n",
        "data.head()"
      ],
      "metadata": {
        "colab": {
          "base_uri": "https://localhost:8080/",
          "height": 344
        },
        "id": "EKEdbg_1IfOR",
        "outputId": "32ee3bcd-a2e2-4c0b-b7db-5aacdaedf1bb",
        "execution": {
          "iopub.status.busy": "2023-09-08T05:38:35.634676Z",
          "iopub.execute_input": "2023-09-08T05:38:35.636218Z",
          "iopub.status.idle": "2023-09-08T05:38:35.666549Z",
          "shell.execute_reply.started": "2023-09-08T05:38:35.636193Z",
          "shell.execute_reply": "2023-09-08T05:38:35.665387Z"
        },
        "trusted": true
      },
      "execution_count": null,
      "outputs": [
        {
          "execution_count": 21,
          "output_type": "execute_result",
          "data": {
            "text/plain": "               city  temperature_2m_min  temperature_2m_mean  \\\ntime                                                           \n2010-01-01  Karachi                14.8                 20.9   \n2010-01-02  Karachi                15.6                 20.5   \n2010-01-03  Karachi                14.3                 19.9   \n2010-01-04  Karachi                15.0                 20.4   \n2010-01-05  Karachi                16.3                 20.7   \n\n            temperature_2m_max  temp_range   daylight  precipitation_sum  \\\ntime                                                                       \n2010-01-01                26.0        11.2  10.633333                0.0   \n2010-01-02                25.3         9.7  10.616667                0.0   \n2010-01-03                25.0        10.7  10.633333                0.0   \n2010-01-04                25.6        10.6  10.650000                0.0   \n2010-01-05                25.4         9.1  10.650000                0.0   \n\n            precipitation_hours  precipitation_rate  windspeed_10m_max  \\\ntime                                                                     \n2010-01-01                    0                 0.0               18.3   \n2010-01-02                    0                 0.0               24.6   \n2010-01-03                    0                 0.0               16.6   \n2010-01-04                    0                 0.0               14.0   \n2010-01-05                    0                 0.0               19.3   \n\n            windgusts_10m_max  shortwave_radiation_sum  \\\ntime                                                     \n2010-01-01               25.6                    16.25   \n2010-01-02               35.3                     9.15   \n2010-01-03               28.1                    16.03   \n2010-01-04               22.7                    16.32   \n2010-01-05               29.2                    16.37   \n\n            et0_fao_evapotranspiration  \ntime                                    \n2010-01-01                        4.38  \n2010-01-02                        3.84  \n2010-01-03                        3.69  \n2010-01-04                        3.63  \n2010-01-05                        3.55  ",
            "text/html": "<div>\n<style scoped>\n    .dataframe tbody tr th:only-of-type {\n        vertical-align: middle;\n    }\n\n    .dataframe tbody tr th {\n        vertical-align: top;\n    }\n\n    .dataframe thead th {\n        text-align: right;\n    }\n</style>\n<table border=\"1\" class=\"dataframe\">\n  <thead>\n    <tr style=\"text-align: right;\">\n      <th></th>\n      <th>city</th>\n      <th>temperature_2m_min</th>\n      <th>temperature_2m_mean</th>\n      <th>temperature_2m_max</th>\n      <th>temp_range</th>\n      <th>daylight</th>\n      <th>precipitation_sum</th>\n      <th>precipitation_hours</th>\n      <th>precipitation_rate</th>\n      <th>windspeed_10m_max</th>\n      <th>windgusts_10m_max</th>\n      <th>shortwave_radiation_sum</th>\n      <th>et0_fao_evapotranspiration</th>\n    </tr>\n    <tr>\n      <th>time</th>\n      <th></th>\n      <th></th>\n      <th></th>\n      <th></th>\n      <th></th>\n      <th></th>\n      <th></th>\n      <th></th>\n      <th></th>\n      <th></th>\n      <th></th>\n      <th></th>\n      <th></th>\n    </tr>\n  </thead>\n  <tbody>\n    <tr>\n      <th>2010-01-01</th>\n      <td>Karachi</td>\n      <td>14.8</td>\n      <td>20.9</td>\n      <td>26.0</td>\n      <td>11.2</td>\n      <td>10.633333</td>\n      <td>0.0</td>\n      <td>0</td>\n      <td>0.0</td>\n      <td>18.3</td>\n      <td>25.6</td>\n      <td>16.25</td>\n      <td>4.38</td>\n    </tr>\n    <tr>\n      <th>2010-01-02</th>\n      <td>Karachi</td>\n      <td>15.6</td>\n      <td>20.5</td>\n      <td>25.3</td>\n      <td>9.7</td>\n      <td>10.616667</td>\n      <td>0.0</td>\n      <td>0</td>\n      <td>0.0</td>\n      <td>24.6</td>\n      <td>35.3</td>\n      <td>9.15</td>\n      <td>3.84</td>\n    </tr>\n    <tr>\n      <th>2010-01-03</th>\n      <td>Karachi</td>\n      <td>14.3</td>\n      <td>19.9</td>\n      <td>25.0</td>\n      <td>10.7</td>\n      <td>10.633333</td>\n      <td>0.0</td>\n      <td>0</td>\n      <td>0.0</td>\n      <td>16.6</td>\n      <td>28.1</td>\n      <td>16.03</td>\n      <td>3.69</td>\n    </tr>\n    <tr>\n      <th>2010-01-04</th>\n      <td>Karachi</td>\n      <td>15.0</td>\n      <td>20.4</td>\n      <td>25.6</td>\n      <td>10.6</td>\n      <td>10.650000</td>\n      <td>0.0</td>\n      <td>0</td>\n      <td>0.0</td>\n      <td>14.0</td>\n      <td>22.7</td>\n      <td>16.32</td>\n      <td>3.63</td>\n    </tr>\n    <tr>\n      <th>2010-01-05</th>\n      <td>Karachi</td>\n      <td>16.3</td>\n      <td>20.7</td>\n      <td>25.4</td>\n      <td>9.1</td>\n      <td>10.650000</td>\n      <td>0.0</td>\n      <td>0</td>\n      <td>0.0</td>\n      <td>19.3</td>\n      <td>29.2</td>\n      <td>16.37</td>\n      <td>3.55</td>\n    </tr>\n  </tbody>\n</table>\n</div>"
          },
          "metadata": {}
        }
      ]
    },
    {
      "cell_type": "markdown",
      "source": [
        "**NOTE**\n",
        "\n",
        "I found the best parameters that produce the best results using **Optuna** and then used those parameters for each fearure below"
      ],
      "metadata": {
        "id": "zkDTaIm_mldr"
      }
    },
    {
      "cell_type": "markdown",
      "source": [
        "## **et0_fao_evapotranspiration**"
      ],
      "metadata": {
        "id": "P3rXhz8ysgCu"
      }
    },
    {
      "cell_type": "markdown",
      "source": [
        "**Using best parameters on a new Model**"
      ],
      "metadata": {
        "id": "vL2FabxKObBF"
      }
    },
    {
      "cell_type": "code",
      "source": [
        "%%time\n",
        "n_params = {'training_length': 13, 'lr': 0.00039982048662377925, 'dropout': 0.28118606540118873, 'input_chunk_length': 6, 'Model': 'GRU', 'batch_size': 48, 'num_loader_workers': 8}\n",
        "col = 'et0_fao_evapotranspiration'\n",
        "\n",
        "train = data.loc[:'2023-07-28']\n",
        "test = data.loc['2023-07-28':]\n",
        "\n",
        "y_train = TimeSeries.from_series(train[col])\n",
        "y_test = TimeSeries.from_series(test[col])\n",
        "scaler = StandardScaler()\n",
        "\n",
        "transformer = Scaler(scaler)\n",
        "series_transformed = transformer.fit_transform(y_train)\n",
        "\n",
        "early_stopper = EarlyStopping(\"train_loss\",min_delta=0.001, patience=10,verbose=False)\n",
        "callbacks = [early_stopper]\n",
        "\n",
        "pl_trainer_kwargs = {\n",
        "    \"accelerator\": \"auto\",\n",
        "    \"callbacks\": callbacks,\n",
        "}\n",
        "\n",
        "model = RNNModel(\n",
        "    input_chunk_length=n_params['input_chunk_length'],\n",
        "    model=n_params['Model'],\n",
        "    hidden_dim=20,\n",
        "    dropout=n_params['dropout'],\n",
        "    batch_size=n_params['batch_size'],\n",
        "    n_epochs=300,\n",
        "    optimizer_kwargs={\"lr\": n_params['lr']},\n",
        "    model_name=\"Karachi_RNN\",\n",
        "    pl_trainer_kwargs=pl_trainer_kwargs,\n",
        "    log_tensorboard=True,\n",
        "    random_state=42,\n",
        "    training_length=n_params['training_length'],\n",
        "    force_reset=True,\n",
        "    save_checkpoints=True\n",
        ")\n",
        "\n",
        "model.fit(\n",
        "    series=series_transformed, verbose=0,\n",
        "    num_loader_workers=n_params['num_loader_workers']\n",
        "          )\n",
        "\n",
        "preds = model.predict(n=len(test), series=series_transformed)\n",
        "n_preds = transformer.inverse_transform(preds)\n",
        "\n",
        "val = rmse(y_test, n_preds)\n",
        "print(f'RMSE: {val}')"
      ],
      "metadata": {
        "colab": {
          "base_uri": "https://localhost:8080/",
          "height": 275,
          "referenced_widgets": [
            "70c6407b087245309f6d5cc8969eb144",
            "2a3b556b01e64b829303e18061a9da1e",
            "795ae0f7236c4448af931f6921900d38",
            "01282e53a24d43c09f72f2ae027ac6d5",
            "ac928be00a1a45a2aff92039fff7f107",
            "dce4a764f7ef4305b7dcf1b0f90111e6",
            "449a3c99eb964b7aa2854c3689165e53",
            "4c6799350e5c4137aa8348534ca10ecd",
            "e0b04382a06240b4ae0e84415545cd77",
            "0eed928595194e46b54257886682a719",
            "7d64deae51ed4d91960d5fa51f5bc6bb",
            "2d5fa23f9aa84f07be454b99f1aab649"
          ]
        },
        "id": "jwyrWG_zOZW3",
        "outputId": "7e618b3a-4935-46b9-c0e6-0257fd7ce7c8",
        "execution": {
          "iopub.status.busy": "2023-09-08T05:38:35.668206Z",
          "iopub.execute_input": "2023-09-08T05:38:35.669017Z",
          "iopub.status.idle": "2023-09-08T05:39:33.840979Z",
          "shell.execute_reply.started": "2023-09-08T05:38:35.668981Z",
          "shell.execute_reply": "2023-09-08T05:39:33.839772Z"
        },
        "trusted": true
      },
      "execution_count": null,
      "outputs": [
        {
          "output_type": "display_data",
          "data": {
            "text/plain": "Predicting: 0it [00:00, ?it/s]",
            "application/vnd.jupyter.widget-view+json": {
              "version_major": 2,
              "version_minor": 0,
              "model_id": "2d5fa23f9aa84f07be454b99f1aab649"
            }
          },
          "metadata": {}
        },
        {
          "name": "stdout",
          "text": "RMSE: 0.22536520937875312\nCPU times: user 21.2 s, sys: 11.4 s, total: 32.6 s\nWall time: 58.2 s\n",
          "output_type": "stream"
        }
      ]
    },
    {
      "cell_type": "code",
      "source": [
        "n_preds.plot(label='Predicted')\n",
        "y_test.plot(label='Actual')\n",
        "plt.legend()"
      ],
      "metadata": {
        "colab": {
          "base_uri": "https://localhost:8080/",
          "height": 498
        },
        "id": "fcOqWT4q1Z3P",
        "outputId": "02bcc8db-dd92-4196-d971-2ab2d66e1f17",
        "execution": {
          "iopub.status.busy": "2023-09-08T05:39:33.843287Z",
          "iopub.execute_input": "2023-09-08T05:39:33.843670Z",
          "iopub.status.idle": "2023-09-08T05:39:34.360650Z",
          "shell.execute_reply.started": "2023-09-08T05:39:33.843631Z",
          "shell.execute_reply": "2023-09-08T05:39:34.359742Z"
        },
        "trusted": true
      },
      "execution_count": null,
      "outputs": [
        {
          "execution_count": 23,
          "output_type": "execute_result",
          "data": {
            "text/plain": "<matplotlib.legend.Legend at 0x7e26576c0220>"
          },
          "metadata": {}
        },
        {
          "output_type": "display_data",
          "data": {
            "text/plain": "<Figure size 640x480 with 1 Axes>",
            "image/png": "[encoded data removed]"
          },
          "metadata": {}
        }
      ]
    },
    {
      "cell_type": "markdown",
      "source": [
        "## **precipitation_rate**"
      ],
      "metadata": {
        "id": "eiRr6A7sBEur"
      }
    },
    {
      "cell_type": "code",
      "source": [
        "%%time\n",
        "n_params = {'training_length': 23,\n",
        " 'lr': 0.02017550308521077,\n",
        " 'dropout': 0.07008706051045033,\n",
        " 'input_chunk_length': 20,\n",
        " 'Model': 'LSTM',\n",
        " 'batch_size': 64,\n",
        " 'num_loader_workers': 2}\n",
        "\n",
        "col = 'precipitation_rate'\n",
        "\n",
        "train = data.loc[:'2023-07-28']\n",
        "test = data.loc['2023-07-28':]\n",
        "\n",
        "y_train = TimeSeries.from_series(train[col])\n",
        "y_test = TimeSeries.from_series(test[col])\n",
        "scaler = StandardScaler()\n",
        "\n",
        "transformer = Scaler(scaler)\n",
        "series_transformed = transformer.fit_transform(y_train)\n",
        "\n",
        "early_stopper = EarlyStopping(\"train_loss\",min_delta=0.001, patience=10,verbose=False)\n",
        "callbacks = [early_stopper]\n",
        "\n",
        "pl_trainer_kwargs = {\n",
        "    \"accelerator\": \"auto\",\n",
        "    \"callbacks\": callbacks,\n",
        "}\n",
        "\n",
        "model = RNNModel(\n",
        "    input_chunk_length=n_params['input_chunk_length'],\n",
        "    model=n_params['Model'],\n",
        "    hidden_dim=20,\n",
        "    dropout=n_params['dropout'],\n",
        "    batch_size=n_params['batch_size'],\n",
        "    n_epochs=300,\n",
        "    optimizer_kwargs={\"lr\": n_params['lr']},\n",
        "    model_name=\"Karachi_RNN\",\n",
        "    pl_trainer_kwargs=pl_trainer_kwargs,\n",
        "    log_tensorboard=True,\n",
        "    random_state=42,\n",
        "    training_length=n_params['training_length'],\n",
        "    force_reset=True,\n",
        "    save_checkpoints=True\n",
        ")\n",
        "\n",
        "model.fit(\n",
        "    series=series_transformed, verbose=0,\n",
        "    num_loader_workers=n_params['num_loader_workers']\n",
        "          )\n",
        "\n",
        "preds = model.predict(n=len(test), series=series_transformed)\n",
        "n_preds = transformer.inverse_transform(preds)\n",
        "\n",
        "val = rmse(y_test, n_preds)\n",
        "print(f'RMSE: {val}')"
      ],
      "metadata": {
        "colab": {
          "base_uri": "https://localhost:8080/",
          "height": 275,
          "referenced_widgets": [
            "eb020e69992a46e5bdf88e050cd9ffcc",
            "1e3dccf9c5de4b0b889704484251a874",
            "a1bcc257f0054f7a9bd977daa669e789",
            "c541c31bd81e42faac827d18bcba4309",
            "2c4889563aea4a7a8679293ccc432fe1",
            "4f795288101341ec86783746ebbac6f8",
            "4d5d15ca73e4416f93a1f0f3eff5c54d",
            "4031fae6a80a463a8cc8a02a2d70b047",
            "dc9ce9d5b104446d9f16e82d779cc60b",
            "a1aacee5ae40414b928e5552d816b632",
            "cedc2d331f00432f8b5f7ba14be60ead",
            "4fec09499c4f491393d196baa5e2d4c1"
          ]
        },
        "id": "WwPt8uKmCHJ2",
        "outputId": "4ad67a2a-7a4d-4c3e-84ea-eb3ce4f44bbf",
        "execution": {
          "iopub.status.busy": "2023-09-08T05:39:34.362613Z",
          "iopub.execute_input": "2023-09-08T05:39:34.363638Z",
          "iopub.status.idle": "2023-09-08T05:39:50.374891Z",
          "shell.execute_reply.started": "2023-09-08T05:39:34.363593Z",
          "shell.execute_reply": "2023-09-08T05:39:50.373828Z"
        },
        "trusted": true
      },
      "execution_count": null,
      "outputs": [
        {
          "output_type": "display_data",
          "data": {
            "text/plain": "Predicting: 0it [00:00, ?it/s]",
            "application/vnd.jupyter.widget-view+json": {
              "version_major": 2,
              "version_minor": 0,
              "model_id": "4fec09499c4f491393d196baa5e2d4c1"
            }
          },
          "metadata": {}
        },
        {
          "name": "stdout",
          "text": "RMSE: 0.03397997965337979\nCPU times: user 7.4 s, sys: 1.68 s, total: 9.08 s\nWall time: 16 s\n",
          "output_type": "stream"
        }
      ]
    },
    {
      "cell_type": "code",
      "source": [
        "n_preds.plot(label='Predicted')\n",
        "y_test.plot(label='Actual')\n",
        "plt.legend()"
      ],
      "metadata": {
        "execution": {
          "iopub.status.busy": "2023-09-08T05:39:50.376791Z",
          "iopub.execute_input": "2023-09-08T05:39:50.377165Z",
          "iopub.status.idle": "2023-09-08T05:39:50.888771Z",
          "shell.execute_reply.started": "2023-09-08T05:39:50.377113Z",
          "shell.execute_reply": "2023-09-08T05:39:50.887735Z"
        },
        "trusted": true,
        "id": "3JxHHoIfShTt",
        "outputId": "22219400-d24a-4104-89ac-7693fba3bd87"
      },
      "execution_count": null,
      "outputs": [
        {
          "execution_count": 25,
          "output_type": "execute_result",
          "data": {
            "text/plain": "<matplotlib.legend.Legend at 0x7e27e3473220>"
          },
          "metadata": {}
        },
        {
          "output_type": "display_data",
          "data": {
            "text/plain": "<Figure size 640x480 with 1 Axes>",
            "image/png": "[encoded data removed]"
          },
          "metadata": {}
        }
      ]
    },
    {
      "cell_type": "markdown",
      "source": [
        "## **temperature_2m_max**"
      ],
      "metadata": {
        "id": "VacZdxTK8Zvm"
      }
    },
    {
      "cell_type": "code",
      "source": [
        "%%time\n",
        "n_params = {'training_length': 31, 'lr': 1e-3, 'dropout': 0.1070411107413366, 'input_chunk_length': 17, 'Model': 'LSTM', 'batch_size': 16, 'num_loader_workers': 10}\n",
        "col = 'temperature_2m_max'\n",
        "\n",
        "train = data.loc[:'2023-07-28']\n",
        "test = data.loc['2023-07-28':]\n",
        "\n",
        "y_train = TimeSeries.from_series(train[col])\n",
        "y_test = TimeSeries.from_series(test[col])\n",
        "scaler = StandardScaler()\n",
        "\n",
        "transformer = Scaler(scaler)\n",
        "series_transformed = transformer.fit_transform(y_train)\n",
        "\n",
        "early_stopper = EarlyStopping(\"train_loss\",min_delta=0.001, patience=10,verbose=False)\n",
        "callbacks = [early_stopper]\n",
        "\n",
        "pl_trainer_kwargs = {\n",
        "    \"accelerator\": \"auto\",\n",
        "    \"callbacks\": callbacks,\n",
        "}\n",
        "\n",
        "model = RNNModel(\n",
        "    input_chunk_length=n_params['input_chunk_length'],\n",
        "    model=n_params['Model'],\n",
        "    hidden_dim=20,\n",
        "    dropout=n_params['dropout'],\n",
        "    batch_size=n_params['batch_size'],\n",
        "    n_epochs=300,\n",
        "    optimizer_kwargs={\"lr\": n_params['lr']},\n",
        "    model_name=\"Karachi_RNN\",\n",
        "    pl_trainer_kwargs=pl_trainer_kwargs,\n",
        "    log_tensorboard=True,\n",
        "    random_state=42,\n",
        "    training_length=n_params['training_length'],\n",
        "    force_reset=True,\n",
        "    save_checkpoints=True\n",
        ")\n",
        "\n",
        "model.fit(\n",
        "    series=series_transformed, verbose=0,\n",
        "    num_loader_workers=n_params['num_loader_workers']\n",
        "          )\n",
        "\n",
        "preds = model.predict(n=len(test), series=series_transformed)\n",
        "n_preds = transformer.inverse_transform(preds)\n",
        "\n",
        "val = rmse(y_test, n_preds)\n",
        "print(f'RMSE: {val}')"
      ],
      "metadata": {
        "colab": {
          "base_uri": "https://localhost:8080/",
          "height": 275,
          "referenced_widgets": [
            "e7f7152fbf0d42a38f3c1a7144bfff10",
            "bcf6bdbe26f64ec38c4939b2c7617046",
            "0726421778fd45d793643382dccaaaed",
            "73ea67468d334ac1b2f87ab8e32f6f67",
            "8eb605149c6840008a2aea74b3fda34e",
            "ada575d7289146a18aa2763e91e98225",
            "3fdb51b91ac34ebb80e69c79e6f4c033",
            "b4efeaadcc3e4b5fb3f058a988b6b548",
            "f2cbd71c0e774105bc6bd8992e3171c9",
            "cca52cf89a18423f9b0061223d5193f1",
            "07020d9d2fa14ca19499dab62e12a4be",
            "a0f9d8ca25f648e4b8f6ec950ed10eff"
          ]
        },
        "id": "7B_lnjWA0owA",
        "outputId": "6883e65d-225e-49f9-bda8-1b6c5791f8fc",
        "execution": {
          "iopub.status.busy": "2023-09-08T05:39:50.892177Z",
          "iopub.execute_input": "2023-09-08T05:39:50.892445Z",
          "iopub.status.idle": "2023-09-08T05:41:42.144524Z",
          "shell.execute_reply.started": "2023-09-08T05:39:50.892421Z",
          "shell.execute_reply": "2023-09-08T05:41:42.143303Z"
        },
        "trusted": true
      },
      "execution_count": null,
      "outputs": [
        {
          "output_type": "display_data",
          "data": {
            "text/plain": "Predicting: 0it [00:00, ?it/s]",
            "application/vnd.jupyter.widget-view+json": {
              "version_major": 2,
              "version_minor": 0,
              "model_id": "a0f9d8ca25f648e4b8f6ec950ed10eff"
            }
          },
          "metadata": {}
        },
        {
          "name": "stdout",
          "text": "RMSE: 0.38326786227031434\nCPU times: user 1min 12s, sys: 19.7 s, total: 1min 32s\nWall time: 1min 51s\n",
          "output_type": "stream"
        }
      ]
    },
    {
      "cell_type": "code",
      "source": [
        "n_preds.plot(label='Predicted')\n",
        "y_test.plot(label='Actual')\n",
        "plt.legend()"
      ],
      "metadata": {
        "colab": {
          "base_uri": "https://localhost:8080/",
          "height": 498
        },
        "id": "I5VkfyA81Iqr",
        "outputId": "c3c5502a-a0e8-4316-98f1-0e0ceef6d041",
        "execution": {
          "iopub.status.busy": "2023-09-08T05:41:42.146633Z",
          "iopub.execute_input": "2023-09-08T05:41:42.147090Z",
          "iopub.status.idle": "2023-09-08T05:41:42.655619Z",
          "shell.execute_reply.started": "2023-09-08T05:41:42.147047Z",
          "shell.execute_reply": "2023-09-08T05:41:42.654700Z"
        },
        "trusted": true
      },
      "execution_count": null,
      "outputs": [
        {
          "execution_count": 27,
          "output_type": "execute_result",
          "data": {
            "text/plain": "<matplotlib.legend.Legend at 0x7e27e33d7f10>"
          },
          "metadata": {}
        },
        {
          "output_type": "display_data",
          "data": {
            "text/plain": "<Figure size 640x480 with 1 Axes>",
            "image/png": "[encoded data removed]"
          },
          "metadata": {}
        }
      ]
    },
    {
      "cell_type": "markdown",
      "source": [
        "# **CONCLUSION**\n",
        "\n",
        "The models have performed well as they produced good RMSE values. Below is a summary of how the three different features performed in terms of RMSE.\n",
        "\n",
        "**et0_fao_evapotranspiration** = 0.225\n",
        "\n",
        "**precipitation_rate** = 0.033\n",
        "\n",
        "**temperature_2m_max** = 0.383\n"
      ],
      "metadata": {
        "id": "-TBTS9dXq-pC"
      }
    },
    {
      "cell_type": "code",
      "source": [],
      "metadata": {
        "id": "uhN7PVc6wYF2"
      },
      "execution_count": null,
      "outputs": []
    }
  ]
}