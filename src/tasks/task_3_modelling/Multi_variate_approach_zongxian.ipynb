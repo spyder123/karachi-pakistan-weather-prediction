{
 "cells": [
  {
   "cell_type": "code",
   "execution_count": 3,
   "id": "b0330a45-aa4a-4a10-a370-de05e23b6a6e",
   "metadata": {},
   "outputs": [],
   "source": [
    "import numpy as np\n",
    "from tensorflow.keras.models import Sequential\n",
    "from tensorflow.keras.layers import LSTM\n",
    "from tensorflow.keras.layers import Dense, Dropout\n",
    "import pandas as pd\n",
    "from matplotlib import pyplot as plt\n",
    "from sklearn.preprocessing import StandardScaler\n",
    "import seaborn as sns"
   ]
  },
  {
   "cell_type": "code",
   "execution_count": 6,
   "id": "f00626cc-6081-407c-9f95-ca2f8b9e3270",
   "metadata": {},
   "outputs": [
    {
     "data": {
      "text/html": [
       "<div>\n",
       "<style scoped>\n",
       "    .dataframe tbody tr th:only-of-type {\n",
       "        vertical-align: middle;\n",
       "    }\n",
       "\n",
       "    .dataframe tbody tr th {\n",
       "        vertical-align: top;\n",
       "    }\n",
       "\n",
       "    .dataframe thead th {\n",
       "        text-align: right;\n",
       "    }\n",
       "</style>\n",
       "<table border=\"1\" class=\"dataframe\">\n",
       "  <thead>\n",
       "    <tr style=\"text-align: right;\">\n",
       "      <th></th>\n",
       "      <th>time</th>\n",
       "      <th>city</th>\n",
       "      <th>temperature_2m_min</th>\n",
       "      <th>temperature_2m_mean</th>\n",
       "      <th>temperature_2m_max</th>\n",
       "      <th>temp_range</th>\n",
       "      <th>daylight</th>\n",
       "      <th>precipitation_sum</th>\n",
       "      <th>precipitation_hours</th>\n",
       "      <th>precipitation_rate</th>\n",
       "      <th>windspeed_10m_max</th>\n",
       "      <th>windgusts_10m_max</th>\n",
       "      <th>shortwave_radiation_sum</th>\n",
       "      <th>et0_fao_evapotranspiration</th>\n",
       "    </tr>\n",
       "  </thead>\n",
       "  <tbody>\n",
       "    <tr>\n",
       "      <th>0</th>\n",
       "      <td>2010-01-01</td>\n",
       "      <td>Karachi</td>\n",
       "      <td>14.8</td>\n",
       "      <td>20.9</td>\n",
       "      <td>26.0</td>\n",
       "      <td>11.2</td>\n",
       "      <td>10.633333</td>\n",
       "      <td>0.0</td>\n",
       "      <td>0</td>\n",
       "      <td>0.0</td>\n",
       "      <td>18.3</td>\n",
       "      <td>25.6</td>\n",
       "      <td>16.25</td>\n",
       "      <td>4.38</td>\n",
       "    </tr>\n",
       "    <tr>\n",
       "      <th>1</th>\n",
       "      <td>2010-01-02</td>\n",
       "      <td>Karachi</td>\n",
       "      <td>15.6</td>\n",
       "      <td>20.5</td>\n",
       "      <td>25.3</td>\n",
       "      <td>9.7</td>\n",
       "      <td>10.616667</td>\n",
       "      <td>0.0</td>\n",
       "      <td>0</td>\n",
       "      <td>0.0</td>\n",
       "      <td>24.6</td>\n",
       "      <td>35.3</td>\n",
       "      <td>9.15</td>\n",
       "      <td>3.84</td>\n",
       "    </tr>\n",
       "    <tr>\n",
       "      <th>2</th>\n",
       "      <td>2010-01-03</td>\n",
       "      <td>Karachi</td>\n",
       "      <td>14.3</td>\n",
       "      <td>19.9</td>\n",
       "      <td>25.0</td>\n",
       "      <td>10.7</td>\n",
       "      <td>10.633333</td>\n",
       "      <td>0.0</td>\n",
       "      <td>0</td>\n",
       "      <td>0.0</td>\n",
       "      <td>16.6</td>\n",
       "      <td>28.1</td>\n",
       "      <td>16.03</td>\n",
       "      <td>3.69</td>\n",
       "    </tr>\n",
       "    <tr>\n",
       "      <th>3</th>\n",
       "      <td>2010-01-04</td>\n",
       "      <td>Karachi</td>\n",
       "      <td>15.0</td>\n",
       "      <td>20.4</td>\n",
       "      <td>25.6</td>\n",
       "      <td>10.6</td>\n",
       "      <td>10.650000</td>\n",
       "      <td>0.0</td>\n",
       "      <td>0</td>\n",
       "      <td>0.0</td>\n",
       "      <td>14.0</td>\n",
       "      <td>22.7</td>\n",
       "      <td>16.32</td>\n",
       "      <td>3.63</td>\n",
       "    </tr>\n",
       "    <tr>\n",
       "      <th>4</th>\n",
       "      <td>2010-01-05</td>\n",
       "      <td>Karachi</td>\n",
       "      <td>16.3</td>\n",
       "      <td>20.7</td>\n",
       "      <td>25.4</td>\n",
       "      <td>9.1</td>\n",
       "      <td>10.650000</td>\n",
       "      <td>0.0</td>\n",
       "      <td>0</td>\n",
       "      <td>0.0</td>\n",
       "      <td>19.3</td>\n",
       "      <td>29.2</td>\n",
       "      <td>16.37</td>\n",
       "      <td>3.55</td>\n",
       "    </tr>\n",
       "  </tbody>\n",
       "</table>\n",
       "</div>"
      ],
      "text/plain": [
       "         time     city  temperature_2m_min  temperature_2m_mean  \\\n",
       "0  2010-01-01  Karachi                14.8                 20.9   \n",
       "1  2010-01-02  Karachi                15.6                 20.5   \n",
       "2  2010-01-03  Karachi                14.3                 19.9   \n",
       "3  2010-01-04  Karachi                15.0                 20.4   \n",
       "4  2010-01-05  Karachi                16.3                 20.7   \n",
       "\n",
       "   temperature_2m_max  temp_range   daylight  precipitation_sum  \\\n",
       "0                26.0        11.2  10.633333                0.0   \n",
       "1                25.3         9.7  10.616667                0.0   \n",
       "2                25.0        10.7  10.633333                0.0   \n",
       "3                25.6        10.6  10.650000                0.0   \n",
       "4                25.4         9.1  10.650000                0.0   \n",
       "\n",
       "   precipitation_hours  precipitation_rate  windspeed_10m_max  \\\n",
       "0                    0                 0.0               18.3   \n",
       "1                    0                 0.0               24.6   \n",
       "2                    0                 0.0               16.6   \n",
       "3                    0                 0.0               14.0   \n",
       "4                    0                 0.0               19.3   \n",
       "\n",
       "   windgusts_10m_max  shortwave_radiation_sum  et0_fao_evapotranspiration  \n",
       "0               25.6                    16.25                        4.38  \n",
       "1               35.3                     9.15                        3.84  \n",
       "2               28.1                    16.03                        3.69  \n",
       "3               22.7                    16.32                        3.63  \n",
       "4               29.2                    16.37                        3.55  "
      ]
     },
     "execution_count": 6,
     "metadata": {},
     "output_type": "execute_result"
    }
   ],
   "source": [
    "df = pd.read_csv('df_final_Karachi.csv', delimiter=',' )\n",
    "df.head()"
   ]
  },
  {
   "cell_type": "code",
   "execution_count": 8,
   "id": "a900164e-6f56-488b-893e-710756064670",
   "metadata": {},
   "outputs": [
    {
     "name": "stdout",
     "output_type": "stream",
     "text": [
      "4951   2023-07-23\n",
      "4952   2023-07-24\n",
      "4953   2023-07-25\n",
      "4954   2023-07-26\n",
      "4955   2023-07-27\n",
      "4956   2023-07-28\n",
      "4957   2023-07-29\n",
      "4958   2023-07-30\n",
      "4959   2023-07-31\n",
      "4960   2023-08-01\n",
      "4961   2023-08-02\n",
      "4962   2023-08-03\n",
      "4963   2023-08-04\n",
      "4964   2023-08-05\n",
      "4965   2023-08-06\n",
      "Name: time, dtype: datetime64[ns]\n"
     ]
    }
   ],
   "source": [
    "train_dates = pd.to_datetime(df['time'])\n",
    "print(train_dates.tail(15)) #Check last few dates. "
   ]
  },
  {
   "cell_type": "code",
   "execution_count": 12,
   "id": "e091010b-fe5f-4bbd-8ca2-09b7d23d0449",
   "metadata": {},
   "outputs": [
    {
     "name": "stdout",
     "output_type": "stream",
     "text": [
      "['temperature_2m_min', 'temperature_2m_mean', 'temperature_2m_max', 'temp_range', 'daylight', 'precipitation_sum', 'precipitation_hours', 'precipitation_rate', 'windspeed_10m_max', 'windgusts_10m_max', 'shortwave_radiation_sum', 'et0_fao_evapotranspiration']\n"
     ]
    }
   ],
   "source": [
    "cols = list(df)[2:14]\n",
    "print(cols)"
   ]
  },
  {
   "cell_type": "code",
   "execution_count": 13,
   "id": "5d4d48b3-3132-4b53-9332-0d87a7ffb78e",
   "metadata": {},
   "outputs": [],
   "source": [
    "df_for_training = df[cols].astype(float)"
   ]
  },
  {
   "cell_type": "code",
   "execution_count": 27,
   "id": "afa02bec-8752-4466-8a91-656d08f13947",
   "metadata": {},
   "outputs": [],
   "source": [
    "#LSTM uses sigmoid and tanh that are sensitive to magnitude so values need to be normalized\n",
    "# normalize the dataset\n",
    "scaler = StandardScaler()\n",
    "scaler = scaler.fit(df_for_training)\n",
    "df_for_training_scaled = scaler.transform(df_for_training)"
   ]
  },
  {
   "cell_type": "code",
   "execution_count": 28,
   "id": "9777c3e4-76cf-47fc-8ed7-084d13bdc3a2",
   "metadata": {},
   "outputs": [],
   "source": [
    "#Empty lists to be populated using formatted training data\n",
    "trainX = []\n",
    "trainY = []\n",
    "n_future = 1   # Number of days we want to look into the future based on the past days.\n",
    "n_past = 14  # Number of past days we want to use to predict the future."
   ]
  },
  {
   "cell_type": "code",
   "execution_count": 29,
   "id": "1e94f4b8-7678-47e5-9cf9-6525fed89be6",
   "metadata": {},
   "outputs": [
    {
     "name": "stdout",
     "output_type": "stream",
     "text": [
      "trainX shape == (4952, 14, 12).\n",
      "trainY shape == (4952, 1).\n"
     ]
    }
   ],
   "source": [
    "#In my case, trainX has a shape (4952, 14, 12). \n",
    "#Looking back 14 days, 12 features taken into consideration, and v datapoints\n",
    "#Remember that we cannot look back 14 days until we get to the 15th day. \n",
    "#Also, trainY has a shape (4952, 1). Our model only predicts a single value.\n",
    "\n",
    "for i in range(n_past, len(df_for_training_scaled) - n_future +1):\n",
    "    trainX.append(df_for_training_scaled[i - n_past:i, 0:df_for_training.shape[1]])\n",
    "    trainY.append(df_for_training_scaled[i + n_future - 1:i + n_future, 0])\n",
    "\n",
    "trainX, trainY = np.array(trainX), np.array(trainY)\n",
    "\n",
    "print('trainX shape == {}.'.format(trainX.shape))\n",
    "print('trainY shape == {}.'.format(trainY.shape))"
   ]
  },
  {
   "cell_type": "code",
   "execution_count": 30,
   "id": "c281ba43-a980-42aa-b4d6-56215f69b249",
   "metadata": {},
   "outputs": [
    {
     "name": "stdout",
     "output_type": "stream",
     "text": [
      "Model: \"sequential\"\n",
      "_________________________________________________________________\n",
      " Layer (type)                Output Shape              Param #   \n",
      "=================================================================\n",
      " lstm (LSTM)                 (None, 14, 64)            19712     \n",
      "                                                                 \n",
      " lstm_1 (LSTM)               (None, 32)                12416     \n",
      "                                                                 \n",
      " dropout (Dropout)           (None, 32)                0         \n",
      "                                                                 \n",
      " dense (Dense)               (None, 1)                 33        \n",
      "                                                                 \n",
      "=================================================================\n",
      "Total params: 32161 (125.63 KB)\n",
      "Trainable params: 32161 (125.63 KB)\n",
      "Non-trainable params: 0 (0.00 Byte)\n",
      "_________________________________________________________________\n"
     ]
    }
   ],
   "source": [
    "## build lstm \n",
    "model = Sequential()\n",
    "model.add(LSTM(64, activation='relu', input_shape=(trainX.shape[1], trainX.shape[2]), return_sequences=True))\n",
    "model.add(LSTM(32, activation='relu', return_sequences=False))\n",
    "model.add(Dropout(0.2))\n",
    "model.add(Dense(trainY.shape[1]))\n",
    "\n",
    "model.compile(optimizer='adam', loss='mse')\n",
    "model.summary()"
   ]
  },
  {
   "cell_type": "code",
   "execution_count": 31,
   "id": "1dbe73c5-e62c-447a-84ae-4128168424ef",
   "metadata": {},
   "outputs": [
    {
     "name": "stdout",
     "output_type": "stream",
     "text": [
      "Epoch 1/5\n",
      "279/279 [==============================] - 4s 6ms/step - loss: 0.1257 - val_loss: 0.0652\n",
      "Epoch 2/5\n",
      "279/279 [==============================] - 1s 5ms/step - loss: 0.0811 - val_loss: 0.0383\n",
      "Epoch 3/5\n",
      "279/279 [==============================] - 1s 5ms/step - loss: 0.0694 - val_loss: 0.0340\n",
      "Epoch 4/5\n",
      "279/279 [==============================] - 2s 5ms/step - loss: 0.0648 - val_loss: 0.0353\n",
      "Epoch 5/5\n",
      "279/279 [==============================] - 2s 5ms/step - loss: 0.0625 - val_loss: 0.0249\n"
     ]
    }
   ],
   "source": [
    "history = model.fit(trainX, trainY, epochs=5, batch_size=16, validation_split=0.1, verbose=1)"
   ]
  },
  {
   "cell_type": "code",
   "execution_count": 32,
   "id": "690c24b8-d32e-4391-8b57-dee5ef64d994",
   "metadata": {},
   "outputs": [
    {
     "data": {
      "text/plain": [
       "<matplotlib.legend.Legend at 0x226132894c0>"
      ]
     },
     "execution_count": 32,
     "metadata": {},
     "output_type": "execute_result"
    },
    {
     "data": {
      "image/png": "[encoded data removed]",
      "text/plain": [
       "<Figure size 640x480 with 1 Axes>"
      ]
     },
     "metadata": {},
     "output_type": "display_data"
    }
   ],
   "source": [
    "plt.plot(history.history['loss'], label='Training loss')\n",
    "plt.plot(history.history['val_loss'], label='Validation loss')\n",
    "plt.legend()"
   ]
  },
  {
   "cell_type": "code",
   "execution_count": 79,
   "id": "57237ff6-1939-40d4-9ced-25a77a0c96d5",
   "metadata": {},
   "outputs": [
    {
     "name": "stdout",
     "output_type": "stream",
     "text": [
      "[Timestamp('2023-07-10 00:00:00'), Timestamp('2023-07-11 00:00:00'), Timestamp('2023-07-12 00:00:00'), Timestamp('2023-07-13 00:00:00'), Timestamp('2023-07-14 00:00:00'), Timestamp('2023-07-17 00:00:00'), Timestamp('2023-07-18 00:00:00'), Timestamp('2023-07-19 00:00:00'), Timestamp('2023-07-20 00:00:00'), Timestamp('2023-07-21 00:00:00'), Timestamp('2023-07-24 00:00:00'), Timestamp('2023-07-25 00:00:00'), Timestamp('2023-07-26 00:00:00'), Timestamp('2023-07-27 00:00:00'), Timestamp('2023-07-28 00:00:00'), Timestamp('2023-07-31 00:00:00'), Timestamp('2023-08-01 00:00:00'), Timestamp('2023-08-02 00:00:00'), Timestamp('2023-08-03 00:00:00'), Timestamp('2023-08-04 00:00:00'), Timestamp('2023-08-07 00:00:00'), Timestamp('2023-08-08 00:00:00'), Timestamp('2023-08-09 00:00:00'), Timestamp('2023-08-10 00:00:00'), Timestamp('2023-08-11 00:00:00'), Timestamp('2023-08-14 00:00:00'), Timestamp('2023-08-15 00:00:00'), Timestamp('2023-08-16 00:00:00'), Timestamp('2023-08-17 00:00:00'), Timestamp('2023-08-18 00:00:00'), Timestamp('2023-08-21 00:00:00'), Timestamp('2023-08-22 00:00:00'), Timestamp('2023-08-23 00:00:00'), Timestamp('2023-08-24 00:00:00'), Timestamp('2023-08-25 00:00:00'), Timestamp('2023-08-28 00:00:00'), Timestamp('2023-08-29 00:00:00'), Timestamp('2023-08-30 00:00:00'), Timestamp('2023-08-31 00:00:00'), Timestamp('2023-09-01 00:00:00')]\n"
     ]
    }
   ],
   "source": [
    "from pandas.tseries.holiday import USFederalHolidayCalendar\n",
    "from pandas.tseries.offsets import CustomBusinessDay\n",
    "us_bd = CustomBusinessDay(calendar=USFederalHolidayCalendar())\n",
    "\n",
    "n_past = 30\n",
    "n_days_for_prediction=40  #let us predict past 15 days\n",
    "\n",
    "predict_period_dates = pd.date_range(list(train_dates)[-n_past], periods=n_days_for_prediction, freq=us_bd).tolist()\n",
    "print(predict_period_dates)"
   ]
  },
  {
   "cell_type": "code",
   "execution_count": 80,
   "id": "b8fb4116-f267-4410-8a5b-91cb877f4a7d",
   "metadata": {},
   "outputs": [
    {
     "name": "stdout",
     "output_type": "stream",
     "text": [
      "2/2 [==============================] - 0s 3ms/step\n"
     ]
    }
   ],
   "source": [
    "#make prediction\n",
    "prediction = model.predict(trainX[-n_days_for_prediction:]) #shape = (n, 1) where n is the n_days_for_prediction"
   ]
  },
  {
   "cell_type": "code",
   "execution_count": 81,
   "id": "64acb925-6701-4c8d-bdaa-8b3f6a12a87e",
   "metadata": {},
   "outputs": [],
   "source": [
    "prediction_copies = np.repeat(prediction, df_for_training.shape[1], axis=-1)\n",
    "y_pred_future = scaler.inverse_transform(prediction_copies)[:,0]"
   ]
  },
  {
   "cell_type": "code",
   "execution_count": 82,
   "id": "51206438-de2d-4f77-b256-6297b770af9f",
   "metadata": {},
   "outputs": [
    {
     "data": {
      "text/plain": [
       "array([28.998915, 29.184069, 29.233551, 29.178326, 29.087355, 29.323166,\n",
       "       29.195707, 29.125816, 28.968454, 29.142603, 29.329275, 29.508282,\n",
       "       29.466484, 29.168886, 28.909023, 28.770885, 28.752777, 28.81528 ,\n",
       "       28.737436, 28.602692, 28.620651, 28.507803, 28.533371, 28.792585,\n",
       "       28.754385, 28.92879 , 27.78128 , 27.688852, 28.026142, 27.72033 ,\n",
       "       27.564447, 27.380728, 27.218979, 27.155489, 27.12629 , 27.10308 ,\n",
       "       27.041607, 26.976562, 27.034286, 26.988838], dtype=float32)"
      ]
     },
     "execution_count": 82,
     "metadata": {},
     "output_type": "execute_result"
    }
   ],
   "source": [
    "y_pred_future"
   ]
  },
  {
   "cell_type": "code",
   "execution_count": 85,
   "id": "a36f127f-2229-478c-aed5-11317817df09",
   "metadata": {},
   "outputs": [],
   "source": [
    "forecast_dates = []\n",
    "for time_i in predict_period_dates:\n",
    "    forecast_dates.append(time_i.date())\n",
    "    \n",
    "df_forecast = pd.DataFrame({'time':np.array(forecast_dates), 'temperature_2m_mean':y_pred_future})\n",
    "df_forecast['time']=pd.to_datetime(df_forecast['time'])"
   ]
  },
  {
   "cell_type": "code",
   "execution_count": 87,
   "id": "42bc572a-cbc2-43d1-9ddc-1db58331a679",
   "metadata": {},
   "outputs": [
    {
     "name": "stderr",
     "output_type": "stream",
     "text": [
      "C:\\Users\\user\\AppData\\Local\\Temp\\ipykernel_1656\\3608067068.py:2: SettingWithCopyWarning: \n",
      "A value is trying to be set on a copy of a slice from a DataFrame.\n",
      "Try using .loc[row_indexer,col_indexer] = value instead\n",
      "\n",
      "See the caveats in the documentation: https://pandas.pydata.org/pandas-docs/stable/user_guide/indexing.html#returning-a-view-versus-a-copy\n",
      "  original['time']=pd.to_datetime(original['time'])\n"
     ]
    },
    {
     "data": {
      "text/plain": [
       "<Axes: xlabel='time', ylabel='temperature_2m_mean'>"
      ]
     },
     "execution_count": 87,
     "metadata": {},
     "output_type": "execute_result"
    },
    {
     "data": {
      "image/png": "[encoded data removed]",
      "text/plain": [
       "<Figure size 640x480 with 1 Axes>"
      ]
     },
     "metadata": {},
     "output_type": "display_data"
    }
   ],
   "source": [
    "original = df[['time', 'temperature_2m_mean']]\n",
    "original['time']=pd.to_datetime(original['time'])\n",
    "original = original.loc[original['time'] >= '2020-5-1']\n",
    "\n",
    "# sns.lineplot(original['time'], original['temperature_2m_min'])\n",
    "# sns.lineplot(df_forecast['time'], df_forecast['temperature_2m_min'])\n",
    "\n",
    "sns.lineplot(original, x=\"time\", y=\"temperature_2m_mean\")\n",
    "sns.lineplot(df_forecast, x=\"time\", y=\"temperature_2m_mean\")"
   ]
  },
  {
   "cell_type": "code",
   "execution_count": null,
   "id": "68fb7e4e-299c-47c4-8e03-e4219b583661",
   "metadata": {},
   "outputs": [],
   "source": []
  },
  {
   "cell_type": "code",
   "execution_count": null,
   "id": "d1c004e6-4ee7-4190-8cfe-861edaef7b36",
   "metadata": {},
   "outputs": [],
   "source": []
  }
 ],
 "metadata": {
  "kernelspec": {
   "display_name": "Python 3 (ipykernel)",
   "language": "python",
   "name": "python3"
  },
  "language_info": {
   "codemirror_mode": {
    "name": "ipython",
    "version": 3
   },
   "file_extension": ".py",
   "mimetype": "text/x-python",
   "name": "python",
   "nbconvert_exporter": "python",
   "pygments_lexer": "ipython3",
   "version": "3.8.17"
  }
 },
 "nbformat": 4,
 "nbformat_minor": 5
}
