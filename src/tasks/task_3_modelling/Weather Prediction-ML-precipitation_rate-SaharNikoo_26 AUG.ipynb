{
 "cells": [
  {
   "cell_type": "code",
   "execution_count": 1,
   "id": "5d28bce4",
   "metadata": {},
   "outputs": [],
   "source": [
    "import pandas as pd\n",
    "from scipy import stats\n",
    "import numpy as np\n",
    "import scipy\n",
    "import matplotlib.pyplot as plt\n",
    "import seaborn as sns\n",
    "%matplotlib inline\n",
    "import datetime\n",
    "import statsmodels.formula.api as sm\n",
    "from sklearn.compose import ColumnTransformer\n",
    "from sklearn.pipeline import Pipeline\n",
    "from sklearn.preprocessing import OneHotEncoder\n",
    "from sklearn.preprocessing import StandardScaler\n",
    "from sklearn.preprocessing import MinMaxScaler\n",
    "from sklearn.impute import SimpleImputer\n",
    "from sklearn.preprocessing import FunctionTransformer\n",
    "from sklearn.model_selection import train_test_split\n",
    "from sklearn import preprocessing\n",
    "from sklearn import tree\n",
    "from sklearn.model_selection import cross_val_score\n",
    "from sklearn import metrics\n",
    "from sklearn.metrics import mean_squared_error, r2_score\n",
    "\n",
    "import warnings\n",
    "warnings.filterwarnings('ignore') "
   ]
  },
  {
   "cell_type": "code",
   "execution_count": 2,
   "id": "b6909527",
   "metadata": {},
   "outputs": [
    {
     "data": {
      "text/html": [
       "<div>\n",
       "<style scoped>\n",
       "    .dataframe tbody tr th:only-of-type {\n",
       "        vertical-align: middle;\n",
       "    }\n",
       "\n",
       "    .dataframe tbody tr th {\n",
       "        vertical-align: top;\n",
       "    }\n",
       "\n",
       "    .dataframe thead th {\n",
       "        text-align: right;\n",
       "    }\n",
       "</style>\n",
       "<table border=\"1\" class=\"dataframe\">\n",
       "  <thead>\n",
       "    <tr style=\"text-align: right;\">\n",
       "      <th></th>\n",
       "      <th>time</th>\n",
       "      <th>city</th>\n",
       "      <th>temperature_2m_mean</th>\n",
       "      <th>temperature_2m_max</th>\n",
       "      <th>temp_range</th>\n",
       "      <th>daylight</th>\n",
       "      <th>precipitation_sum</th>\n",
       "      <th>precipitation_hours</th>\n",
       "      <th>precipitation_rate</th>\n",
       "      <th>windspeed_10m_max</th>\n",
       "      <th>windgusts_10m_max</th>\n",
       "      <th>shortwave_radiation_sum</th>\n",
       "      <th>et0_fao_evapotranspiration</th>\n",
       "    </tr>\n",
       "  </thead>\n",
       "  <tbody>\n",
       "    <tr>\n",
       "      <th>0</th>\n",
       "      <td>2010-01-01</td>\n",
       "      <td>Karachi</td>\n",
       "      <td>20.9</td>\n",
       "      <td>26.0</td>\n",
       "      <td>11.2</td>\n",
       "      <td>10.633333</td>\n",
       "      <td>0.0</td>\n",
       "      <td>0</td>\n",
       "      <td>0.0</td>\n",
       "      <td>18.3</td>\n",
       "      <td>25.6</td>\n",
       "      <td>16.25</td>\n",
       "      <td>4.38</td>\n",
       "    </tr>\n",
       "    <tr>\n",
       "      <th>1</th>\n",
       "      <td>2010-01-02</td>\n",
       "      <td>Karachi</td>\n",
       "      <td>20.5</td>\n",
       "      <td>25.3</td>\n",
       "      <td>9.7</td>\n",
       "      <td>10.616667</td>\n",
       "      <td>0.0</td>\n",
       "      <td>0</td>\n",
       "      <td>0.0</td>\n",
       "      <td>24.6</td>\n",
       "      <td>35.3</td>\n",
       "      <td>9.15</td>\n",
       "      <td>3.84</td>\n",
       "    </tr>\n",
       "    <tr>\n",
       "      <th>2</th>\n",
       "      <td>2010-01-03</td>\n",
       "      <td>Karachi</td>\n",
       "      <td>19.9</td>\n",
       "      <td>25.0</td>\n",
       "      <td>10.7</td>\n",
       "      <td>10.633333</td>\n",
       "      <td>0.0</td>\n",
       "      <td>0</td>\n",
       "      <td>0.0</td>\n",
       "      <td>16.6</td>\n",
       "      <td>28.1</td>\n",
       "      <td>16.03</td>\n",
       "      <td>3.69</td>\n",
       "    </tr>\n",
       "    <tr>\n",
       "      <th>3</th>\n",
       "      <td>2010-01-04</td>\n",
       "      <td>Karachi</td>\n",
       "      <td>20.4</td>\n",
       "      <td>25.6</td>\n",
       "      <td>10.6</td>\n",
       "      <td>10.650000</td>\n",
       "      <td>0.0</td>\n",
       "      <td>0</td>\n",
       "      <td>0.0</td>\n",
       "      <td>14.0</td>\n",
       "      <td>22.7</td>\n",
       "      <td>16.32</td>\n",
       "      <td>3.63</td>\n",
       "    </tr>\n",
       "    <tr>\n",
       "      <th>4</th>\n",
       "      <td>2010-01-05</td>\n",
       "      <td>Karachi</td>\n",
       "      <td>20.7</td>\n",
       "      <td>25.4</td>\n",
       "      <td>9.1</td>\n",
       "      <td>10.650000</td>\n",
       "      <td>0.0</td>\n",
       "      <td>0</td>\n",
       "      <td>0.0</td>\n",
       "      <td>19.3</td>\n",
       "      <td>29.2</td>\n",
       "      <td>16.37</td>\n",
       "      <td>3.55</td>\n",
       "    </tr>\n",
       "  </tbody>\n",
       "</table>\n",
       "</div>"
      ],
      "text/plain": [
       "         time     city  temperature_2m_mean  temperature_2m_max  temp_range  \\\n",
       "0  2010-01-01  Karachi                 20.9                26.0        11.2   \n",
       "1  2010-01-02  Karachi                 20.5                25.3         9.7   \n",
       "2  2010-01-03  Karachi                 19.9                25.0        10.7   \n",
       "3  2010-01-04  Karachi                 20.4                25.6        10.6   \n",
       "4  2010-01-05  Karachi                 20.7                25.4         9.1   \n",
       "\n",
       "    daylight  precipitation_sum  precipitation_hours  precipitation_rate  \\\n",
       "0  10.633333                0.0                    0                 0.0   \n",
       "1  10.616667                0.0                    0                 0.0   \n",
       "2  10.633333                0.0                    0                 0.0   \n",
       "3  10.650000                0.0                    0                 0.0   \n",
       "4  10.650000                0.0                    0                 0.0   \n",
       "\n",
       "   windspeed_10m_max  windgusts_10m_max  shortwave_radiation_sum  \\\n",
       "0               18.3               25.6                    16.25   \n",
       "1               24.6               35.3                     9.15   \n",
       "2               16.6               28.1                    16.03   \n",
       "3               14.0               22.7                    16.32   \n",
       "4               19.3               29.2                    16.37   \n",
       "\n",
       "   et0_fao_evapotranspiration  \n",
       "0                        4.38  \n",
       "1                        3.84  \n",
       "2                        3.69  \n",
       "3                        3.63  \n",
       "4                        3.55  "
      ]
     },
     "execution_count": 2,
     "metadata": {},
     "output_type": "execute_result"
    }
   ],
   "source": [
    "df = pd.read_csv('df_final_Karachi.csv', sep=',', na_values='\\xa0' )\n",
    "df.head()"
   ]
  },
  {
   "cell_type": "code",
   "execution_count": 3,
   "id": "fe952d29",
   "metadata": {},
   "outputs": [
    {
     "name": "stdout",
     "output_type": "stream",
     "text": [
      "<class 'pandas.core.frame.DataFrame'>\n",
      "RangeIndex: 4966 entries, 0 to 4965\n",
      "Data columns (total 13 columns):\n",
      " #   Column                      Non-Null Count  Dtype  \n",
      "---  ------                      --------------  -----  \n",
      " 0   time                        4966 non-null   object \n",
      " 1   city                        4966 non-null   object \n",
      " 2   temperature_2m_mean         4966 non-null   float64\n",
      " 3   temperature_2m_max          4966 non-null   float64\n",
      " 4   temp_range                  4966 non-null   float64\n",
      " 5   daylight                    4966 non-null   float64\n",
      " 6   precipitation_sum           4966 non-null   float64\n",
      " 7   precipitation_hours         4966 non-null   int64  \n",
      " 8   precipitation_rate          4966 non-null   float64\n",
      " 9   windspeed_10m_max           4966 non-null   float64\n",
      " 10  windgusts_10m_max           4966 non-null   float64\n",
      " 11  shortwave_radiation_sum     4966 non-null   float64\n",
      " 12  et0_fao_evapotranspiration  4966 non-null   float64\n",
      "dtypes: float64(10), int64(1), object(2)\n",
      "memory usage: 504.5+ KB\n"
     ]
    }
   ],
   "source": [
    "df.info()"
   ]
  },
  {
   "cell_type": "code",
   "execution_count": 4,
   "id": "80d1c9e9",
   "metadata": {},
   "outputs": [],
   "source": [
    "# convert the columns 'time' to datetime64:\n",
    "\n",
    "df['time']=pd.to_datetime(df['time'])"
   ]
  },
  {
   "cell_type": "code",
   "execution_count": 5,
   "id": "a1350ef2",
   "metadata": {},
   "outputs": [],
   "source": [
    "# Extract \"time\" components:\n",
    "\n",
    "df['year'] = df['time'].dt.year\n",
    "df['month'] = df['time'].dt.month\n",
    "df['day'] = df['time'].dt.day"
   ]
  },
  {
   "cell_type": "code",
   "execution_count": 6,
   "id": "0c4735ff",
   "metadata": {},
   "outputs": [],
   "source": [
    "# Drop \"time\" column after component extraction:\n",
    "\n",
    "df.drop('time', axis=1, inplace=True)"
   ]
  },
  {
   "cell_type": "code",
   "execution_count": 7,
   "id": "b338c499",
   "metadata": {},
   "outputs": [
    {
     "name": "stdout",
     "output_type": "stream",
     "text": [
      "1\n",
      "\n",
      "['Karachi']\n",
      "\n",
      "Karachi    4966\n",
      "Name: city, dtype: int64\n"
     ]
    }
   ],
   "source": [
    "print(df['city'].nunique())\n",
    "print()\n",
    "print(df['city'].unique())\n",
    "print()\n",
    "print(df['city'].value_counts())"
   ]
  },
  {
   "cell_type": "code",
   "execution_count": 8,
   "id": "e1af6945",
   "metadata": {},
   "outputs": [],
   "source": [
    "# Drop \"city\" column:\n",
    "\n",
    "df.drop('city', axis=1, inplace=True)"
   ]
  },
  {
   "cell_type": "code",
   "execution_count": 9,
   "id": "2f541699",
   "metadata": {},
   "outputs": [
    {
     "name": "stdout",
     "output_type": "stream",
     "text": [
      "<class 'pandas.core.frame.DataFrame'>\n",
      "RangeIndex: 4966 entries, 0 to 4965\n",
      "Data columns (total 14 columns):\n",
      " #   Column                      Non-Null Count  Dtype  \n",
      "---  ------                      --------------  -----  \n",
      " 0   temperature_2m_mean         4966 non-null   float64\n",
      " 1   temperature_2m_max          4966 non-null   float64\n",
      " 2   temp_range                  4966 non-null   float64\n",
      " 3   daylight                    4966 non-null   float64\n",
      " 4   precipitation_sum           4966 non-null   float64\n",
      " 5   precipitation_hours         4966 non-null   int64  \n",
      " 6   precipitation_rate          4966 non-null   float64\n",
      " 7   windspeed_10m_max           4966 non-null   float64\n",
      " 8   windgusts_10m_max           4966 non-null   float64\n",
      " 9   shortwave_radiation_sum     4966 non-null   float64\n",
      " 10  et0_fao_evapotranspiration  4966 non-null   float64\n",
      " 11  year                        4966 non-null   int64  \n",
      " 12  month                       4966 non-null   int64  \n",
      " 13  day                         4966 non-null   int64  \n",
      "dtypes: float64(10), int64(4)\n",
      "memory usage: 543.3 KB\n"
     ]
    }
   ],
   "source": [
    "df.info()"
   ]
  },
  {
   "cell_type": "code",
   "execution_count": 10,
   "id": "cd8ba5a9",
   "metadata": {},
   "outputs": [
    {
     "data": {
      "text/html": [
       "<div>\n",
       "<style scoped>\n",
       "    .dataframe tbody tr th:only-of-type {\n",
       "        vertical-align: middle;\n",
       "    }\n",
       "\n",
       "    .dataframe tbody tr th {\n",
       "        vertical-align: top;\n",
       "    }\n",
       "\n",
       "    .dataframe thead th {\n",
       "        text-align: right;\n",
       "    }\n",
       "</style>\n",
       "<table border=\"1\" class=\"dataframe\">\n",
       "  <thead>\n",
       "    <tr style=\"text-align: right;\">\n",
       "      <th></th>\n",
       "      <th>temperature_2m_mean</th>\n",
       "      <th>temperature_2m_max</th>\n",
       "      <th>temp_range</th>\n",
       "      <th>daylight</th>\n",
       "      <th>precipitation_sum</th>\n",
       "      <th>precipitation_hours</th>\n",
       "      <th>precipitation_rate</th>\n",
       "      <th>windspeed_10m_max</th>\n",
       "      <th>windgusts_10m_max</th>\n",
       "      <th>shortwave_radiation_sum</th>\n",
       "      <th>et0_fao_evapotranspiration</th>\n",
       "      <th>year</th>\n",
       "      <th>month</th>\n",
       "      <th>day</th>\n",
       "    </tr>\n",
       "  </thead>\n",
       "  <tbody>\n",
       "    <tr>\n",
       "      <th>0</th>\n",
       "      <td>20.9</td>\n",
       "      <td>26.0</td>\n",
       "      <td>11.2</td>\n",
       "      <td>10.633333</td>\n",
       "      <td>0.0</td>\n",
       "      <td>0</td>\n",
       "      <td>0.0</td>\n",
       "      <td>18.3</td>\n",
       "      <td>25.6</td>\n",
       "      <td>16.25</td>\n",
       "      <td>4.38</td>\n",
       "      <td>2010</td>\n",
       "      <td>1</td>\n",
       "      <td>1</td>\n",
       "    </tr>\n",
       "    <tr>\n",
       "      <th>1</th>\n",
       "      <td>20.5</td>\n",
       "      <td>25.3</td>\n",
       "      <td>9.7</td>\n",
       "      <td>10.616667</td>\n",
       "      <td>0.0</td>\n",
       "      <td>0</td>\n",
       "      <td>0.0</td>\n",
       "      <td>24.6</td>\n",
       "      <td>35.3</td>\n",
       "      <td>9.15</td>\n",
       "      <td>3.84</td>\n",
       "      <td>2010</td>\n",
       "      <td>1</td>\n",
       "      <td>2</td>\n",
       "    </tr>\n",
       "    <tr>\n",
       "      <th>2</th>\n",
       "      <td>19.9</td>\n",
       "      <td>25.0</td>\n",
       "      <td>10.7</td>\n",
       "      <td>10.633333</td>\n",
       "      <td>0.0</td>\n",
       "      <td>0</td>\n",
       "      <td>0.0</td>\n",
       "      <td>16.6</td>\n",
       "      <td>28.1</td>\n",
       "      <td>16.03</td>\n",
       "      <td>3.69</td>\n",
       "      <td>2010</td>\n",
       "      <td>1</td>\n",
       "      <td>3</td>\n",
       "    </tr>\n",
       "    <tr>\n",
       "      <th>3</th>\n",
       "      <td>20.4</td>\n",
       "      <td>25.6</td>\n",
       "      <td>10.6</td>\n",
       "      <td>10.650000</td>\n",
       "      <td>0.0</td>\n",
       "      <td>0</td>\n",
       "      <td>0.0</td>\n",
       "      <td>14.0</td>\n",
       "      <td>22.7</td>\n",
       "      <td>16.32</td>\n",
       "      <td>3.63</td>\n",
       "      <td>2010</td>\n",
       "      <td>1</td>\n",
       "      <td>4</td>\n",
       "    </tr>\n",
       "    <tr>\n",
       "      <th>4</th>\n",
       "      <td>20.7</td>\n",
       "      <td>25.4</td>\n",
       "      <td>9.1</td>\n",
       "      <td>10.650000</td>\n",
       "      <td>0.0</td>\n",
       "      <td>0</td>\n",
       "      <td>0.0</td>\n",
       "      <td>19.3</td>\n",
       "      <td>29.2</td>\n",
       "      <td>16.37</td>\n",
       "      <td>3.55</td>\n",
       "      <td>2010</td>\n",
       "      <td>1</td>\n",
       "      <td>5</td>\n",
       "    </tr>\n",
       "  </tbody>\n",
       "</table>\n",
       "</div>"
      ],
      "text/plain": [
       "   temperature_2m_mean  temperature_2m_max  temp_range   daylight  \\\n",
       "0                 20.9                26.0        11.2  10.633333   \n",
       "1                 20.5                25.3         9.7  10.616667   \n",
       "2                 19.9                25.0        10.7  10.633333   \n",
       "3                 20.4                25.6        10.6  10.650000   \n",
       "4                 20.7                25.4         9.1  10.650000   \n",
       "\n",
       "   precipitation_sum  precipitation_hours  precipitation_rate  \\\n",
       "0                0.0                    0                 0.0   \n",
       "1                0.0                    0                 0.0   \n",
       "2                0.0                    0                 0.0   \n",
       "3                0.0                    0                 0.0   \n",
       "4                0.0                    0                 0.0   \n",
       "\n",
       "   windspeed_10m_max  windgusts_10m_max  shortwave_radiation_sum  \\\n",
       "0               18.3               25.6                    16.25   \n",
       "1               24.6               35.3                     9.15   \n",
       "2               16.6               28.1                    16.03   \n",
       "3               14.0               22.7                    16.32   \n",
       "4               19.3               29.2                    16.37   \n",
       "\n",
       "   et0_fao_evapotranspiration  year  month  day  \n",
       "0                        4.38  2010      1    1  \n",
       "1                        3.84  2010      1    2  \n",
       "2                        3.69  2010      1    3  \n",
       "3                        3.63  2010      1    4  \n",
       "4                        3.55  2010      1    5  "
      ]
     },
     "execution_count": 10,
     "metadata": {},
     "output_type": "execute_result"
    }
   ],
   "source": [
    "df.head()"
   ]
  },
  {
   "cell_type": "code",
   "execution_count": 11,
   "id": "63e7cccf",
   "metadata": {},
   "outputs": [
    {
     "name": "stdout",
     "output_type": "stream",
     "text": [
      "14\n",
      "\n",
      "[2010 2011 2012 2013 2014 2015 2016 2017 2018 2019 2020 2021 2022 2023]\n",
      "\n"
     ]
    }
   ],
   "source": [
    "print(df['year'].nunique())\n",
    "print()\n",
    "print(df['year'].unique())\n",
    "print()\n",
    "#print(df['year'].value_counts())"
   ]
  },
  {
   "cell_type": "code",
   "execution_count": 12,
   "id": "b8a96c7c",
   "metadata": {},
   "outputs": [
    {
     "name": "stdout",
     "output_type": "stream",
     "text": [
      "12\n",
      "\n",
      "[ 1  2  3  4  5  6  7  8  9 10 11 12]\n",
      "\n"
     ]
    }
   ],
   "source": [
    "print(df['month'].nunique())\n",
    "print()\n",
    "print(df['month'].unique())\n",
    "print()\n",
    "#print(df['month'].value_counts())"
   ]
  },
  {
   "cell_type": "code",
   "execution_count": 13,
   "id": "bbfa4287",
   "metadata": {},
   "outputs": [
    {
     "name": "stdout",
     "output_type": "stream",
     "text": [
      "31\n",
      "\n",
      "[ 1  2  3  4  5  6  7  8  9 10 11 12 13 14 15 16 17 18 19 20 21 22 23 24\n",
      " 25 26 27 28 29 30 31]\n",
      "\n"
     ]
    }
   ],
   "source": [
    "print(df['day'].nunique())\n",
    "print()\n",
    "print(df['day'].unique())\n",
    "print()\n",
    "#print(df['day'].value_counts())"
   ]
  },
  {
   "cell_type": "code",
   "execution_count": 14,
   "id": "25bc50f7",
   "metadata": {},
   "outputs": [
    {
     "data": {
      "text/html": [
       "<div>\n",
       "<style scoped>\n",
       "    .dataframe tbody tr th:only-of-type {\n",
       "        vertical-align: middle;\n",
       "    }\n",
       "\n",
       "    .dataframe tbody tr th {\n",
       "        vertical-align: top;\n",
       "    }\n",
       "\n",
       "    .dataframe thead th {\n",
       "        text-align: right;\n",
       "    }\n",
       "</style>\n",
       "<table border=\"1\" class=\"dataframe\">\n",
       "  <thead>\n",
       "    <tr style=\"text-align: right;\">\n",
       "      <th></th>\n",
       "      <th>count</th>\n",
       "      <th>mean</th>\n",
       "      <th>std</th>\n",
       "      <th>min</th>\n",
       "      <th>25%</th>\n",
       "      <th>50%</th>\n",
       "      <th>75%</th>\n",
       "      <th>max</th>\n",
       "    </tr>\n",
       "  </thead>\n",
       "  <tbody>\n",
       "    <tr>\n",
       "      <th>temperature_2m_mean</th>\n",
       "      <td>4966.0</td>\n",
       "      <td>26.247382</td>\n",
       "      <td>3.986358</td>\n",
       "      <td>14.300000</td>\n",
       "      <td>23.300000</td>\n",
       "      <td>27.600</td>\n",
       "      <td>29.275000</td>\n",
       "      <td>37.100000</td>\n",
       "    </tr>\n",
       "    <tr>\n",
       "      <th>temperature_2m_max</th>\n",
       "      <td>4966.0</td>\n",
       "      <td>30.567861</td>\n",
       "      <td>3.645286</td>\n",
       "      <td>17.700000</td>\n",
       "      <td>28.500000</td>\n",
       "      <td>31.100</td>\n",
       "      <td>33.100000</td>\n",
       "      <td>43.200000</td>\n",
       "    </tr>\n",
       "    <tr>\n",
       "      <th>temp_range</th>\n",
       "      <td>4966.0</td>\n",
       "      <td>8.096899</td>\n",
       "      <td>3.121997</td>\n",
       "      <td>1.000000</td>\n",
       "      <td>5.300000</td>\n",
       "      <td>8.100</td>\n",
       "      <td>10.700000</td>\n",
       "      <td>18.200000</td>\n",
       "    </tr>\n",
       "    <tr>\n",
       "      <th>daylight</th>\n",
       "      <td>4966.0</td>\n",
       "      <td>12.169536</td>\n",
       "      <td>1.068760</td>\n",
       "      <td>10.583333</td>\n",
       "      <td>11.133333</td>\n",
       "      <td>12.200</td>\n",
       "      <td>13.216667</td>\n",
       "      <td>13.683333</td>\n",
       "    </tr>\n",
       "    <tr>\n",
       "      <th>precipitation_sum</th>\n",
       "      <td>4966.0</td>\n",
       "      <td>0.499376</td>\n",
       "      <td>3.744586</td>\n",
       "      <td>0.000000</td>\n",
       "      <td>0.000000</td>\n",
       "      <td>0.000</td>\n",
       "      <td>0.000000</td>\n",
       "      <td>119.300000</td>\n",
       "    </tr>\n",
       "    <tr>\n",
       "      <th>precipitation_hours</th>\n",
       "      <td>4966.0</td>\n",
       "      <td>0.677004</td>\n",
       "      <td>2.711949</td>\n",
       "      <td>0.000000</td>\n",
       "      <td>0.000000</td>\n",
       "      <td>0.000</td>\n",
       "      <td>0.000000</td>\n",
       "      <td>24.000000</td>\n",
       "    </tr>\n",
       "    <tr>\n",
       "      <th>precipitation_rate</th>\n",
       "      <td>4966.0</td>\n",
       "      <td>0.050230</td>\n",
       "      <td>0.241179</td>\n",
       "      <td>0.000000</td>\n",
       "      <td>0.000000</td>\n",
       "      <td>0.000</td>\n",
       "      <td>0.000000</td>\n",
       "      <td>5.680952</td>\n",
       "    </tr>\n",
       "    <tr>\n",
       "      <th>windspeed_10m_max</th>\n",
       "      <td>4966.0</td>\n",
       "      <td>24.021023</td>\n",
       "      <td>6.423371</td>\n",
       "      <td>9.000000</td>\n",
       "      <td>19.300000</td>\n",
       "      <td>23.700</td>\n",
       "      <td>28.200000</td>\n",
       "      <td>47.900000</td>\n",
       "    </tr>\n",
       "    <tr>\n",
       "      <th>windgusts_10m_max</th>\n",
       "      <td>4966.0</td>\n",
       "      <td>37.990475</td>\n",
       "      <td>9.369277</td>\n",
       "      <td>14.000000</td>\n",
       "      <td>31.300000</td>\n",
       "      <td>37.800</td>\n",
       "      <td>44.300000</td>\n",
       "      <td>79.600000</td>\n",
       "    </tr>\n",
       "    <tr>\n",
       "      <th>shortwave_radiation_sum</th>\n",
       "      <td>4966.0</td>\n",
       "      <td>20.120264</td>\n",
       "      <td>4.362582</td>\n",
       "      <td>1.320000</td>\n",
       "      <td>16.860000</td>\n",
       "      <td>19.755</td>\n",
       "      <td>23.607500</td>\n",
       "      <td>29.320000</td>\n",
       "    </tr>\n",
       "    <tr>\n",
       "      <th>et0_fao_evapotranspiration</th>\n",
       "      <td>4966.0</td>\n",
       "      <td>5.203331</td>\n",
       "      <td>1.329580</td>\n",
       "      <td>0.940000</td>\n",
       "      <td>4.220000</td>\n",
       "      <td>5.110</td>\n",
       "      <td>6.160000</td>\n",
       "      <td>13.280000</td>\n",
       "    </tr>\n",
       "    <tr>\n",
       "      <th>year</th>\n",
       "      <td>4966.0</td>\n",
       "      <td>2016.307290</td>\n",
       "      <td>3.929773</td>\n",
       "      <td>2010.000000</td>\n",
       "      <td>2013.000000</td>\n",
       "      <td>2016.000</td>\n",
       "      <td>2020.000000</td>\n",
       "      <td>2023.000000</td>\n",
       "    </tr>\n",
       "    <tr>\n",
       "      <th>month</th>\n",
       "      <td>4966.0</td>\n",
       "      <td>6.418043</td>\n",
       "      <td>3.435733</td>\n",
       "      <td>1.000000</td>\n",
       "      <td>3.000000</td>\n",
       "      <td>6.000</td>\n",
       "      <td>9.000000</td>\n",
       "      <td>12.000000</td>\n",
       "    </tr>\n",
       "    <tr>\n",
       "      <th>day</th>\n",
       "      <td>4966.0</td>\n",
       "      <td>15.711236</td>\n",
       "      <td>8.804443</td>\n",
       "      <td>1.000000</td>\n",
       "      <td>8.000000</td>\n",
       "      <td>16.000</td>\n",
       "      <td>23.000000</td>\n",
       "      <td>31.000000</td>\n",
       "    </tr>\n",
       "  </tbody>\n",
       "</table>\n",
       "</div>"
      ],
      "text/plain": [
       "                             count         mean       std          min  \\\n",
       "temperature_2m_mean         4966.0    26.247382  3.986358    14.300000   \n",
       "temperature_2m_max          4966.0    30.567861  3.645286    17.700000   \n",
       "temp_range                  4966.0     8.096899  3.121997     1.000000   \n",
       "daylight                    4966.0    12.169536  1.068760    10.583333   \n",
       "precipitation_sum           4966.0     0.499376  3.744586     0.000000   \n",
       "precipitation_hours         4966.0     0.677004  2.711949     0.000000   \n",
       "precipitation_rate          4966.0     0.050230  0.241179     0.000000   \n",
       "windspeed_10m_max           4966.0    24.021023  6.423371     9.000000   \n",
       "windgusts_10m_max           4966.0    37.990475  9.369277    14.000000   \n",
       "shortwave_radiation_sum     4966.0    20.120264  4.362582     1.320000   \n",
       "et0_fao_evapotranspiration  4966.0     5.203331  1.329580     0.940000   \n",
       "year                        4966.0  2016.307290  3.929773  2010.000000   \n",
       "month                       4966.0     6.418043  3.435733     1.000000   \n",
       "day                         4966.0    15.711236  8.804443     1.000000   \n",
       "\n",
       "                                    25%       50%          75%          max  \n",
       "temperature_2m_mean           23.300000    27.600    29.275000    37.100000  \n",
       "temperature_2m_max            28.500000    31.100    33.100000    43.200000  \n",
       "temp_range                     5.300000     8.100    10.700000    18.200000  \n",
       "daylight                      11.133333    12.200    13.216667    13.683333  \n",
       "precipitation_sum              0.000000     0.000     0.000000   119.300000  \n",
       "precipitation_hours            0.000000     0.000     0.000000    24.000000  \n",
       "precipitation_rate             0.000000     0.000     0.000000     5.680952  \n",
       "windspeed_10m_max             19.300000    23.700    28.200000    47.900000  \n",
       "windgusts_10m_max             31.300000    37.800    44.300000    79.600000  \n",
       "shortwave_radiation_sum       16.860000    19.755    23.607500    29.320000  \n",
       "et0_fao_evapotranspiration     4.220000     5.110     6.160000    13.280000  \n",
       "year                        2013.000000  2016.000  2020.000000  2023.000000  \n",
       "month                          3.000000     6.000     9.000000    12.000000  \n",
       "day                            8.000000    16.000    23.000000    31.000000  "
      ]
     },
     "execution_count": 14,
     "metadata": {},
     "output_type": "execute_result"
    }
   ],
   "source": [
    "df.describe().T"
   ]
  },
  {
   "cell_type": "code",
   "execution_count": 15,
   "id": "52a9c17d",
   "metadata": {},
   "outputs": [
    {
     "data": {
      "text/html": [
       "<div>\n",
       "<style scoped>\n",
       "    .dataframe tbody tr th:only-of-type {\n",
       "        vertical-align: middle;\n",
       "    }\n",
       "\n",
       "    .dataframe tbody tr th {\n",
       "        vertical-align: top;\n",
       "    }\n",
       "\n",
       "    .dataframe thead th {\n",
       "        text-align: right;\n",
       "    }\n",
       "</style>\n",
       "<table border=\"1\" class=\"dataframe\">\n",
       "  <thead>\n",
       "    <tr style=\"text-align: right;\">\n",
       "      <th></th>\n",
       "      <th>temperature_2m_mean</th>\n",
       "      <th>temperature_2m_max</th>\n",
       "      <th>temp_range</th>\n",
       "      <th>daylight</th>\n",
       "      <th>precipitation_sum</th>\n",
       "      <th>precipitation_hours</th>\n",
       "      <th>precipitation_rate</th>\n",
       "      <th>windspeed_10m_max</th>\n",
       "      <th>windgusts_10m_max</th>\n",
       "      <th>shortwave_radiation_sum</th>\n",
       "      <th>et0_fao_evapotranspiration</th>\n",
       "      <th>year</th>\n",
       "      <th>month</th>\n",
       "      <th>day</th>\n",
       "    </tr>\n",
       "  </thead>\n",
       "  <tbody>\n",
       "    <tr>\n",
       "      <th>temperature_2m_mean</th>\n",
       "      <td>1.000000</td>\n",
       "      <td>0.925932</td>\n",
       "      <td>-0.480543</td>\n",
       "      <td>0.825419</td>\n",
       "      <td>0.058856</td>\n",
       "      <td>0.118134</td>\n",
       "      <td>0.098128</td>\n",
       "      <td>0.413877</td>\n",
       "      <td>0.428958</td>\n",
       "      <td>0.420904</td>\n",
       "      <td>0.456179</td>\n",
       "      <td>0.014454</td>\n",
       "      <td>0.207331</td>\n",
       "      <td>0.006205</td>\n",
       "    </tr>\n",
       "    <tr>\n",
       "      <th>temperature_2m_max</th>\n",
       "      <td>0.925932</td>\n",
       "      <td>1.000000</td>\n",
       "      <td>-0.123177</td>\n",
       "      <td>0.666832</td>\n",
       "      <td>-0.012254</td>\n",
       "      <td>-0.002707</td>\n",
       "      <td>0.015083</td>\n",
       "      <td>0.279871</td>\n",
       "      <td>0.302782</td>\n",
       "      <td>0.554922</td>\n",
       "      <td>0.611907</td>\n",
       "      <td>0.016072</td>\n",
       "      <td>0.165387</td>\n",
       "      <td>0.003152</td>\n",
       "    </tr>\n",
       "    <tr>\n",
       "      <th>temp_range</th>\n",
       "      <td>-0.480543</td>\n",
       "      <td>-0.123177</td>\n",
       "      <td>1.000000</td>\n",
       "      <td>-0.630378</td>\n",
       "      <td>-0.180434</td>\n",
       "      <td>-0.311005</td>\n",
       "      <td>-0.223683</td>\n",
       "      <td>-0.476707</td>\n",
       "      <td>-0.467379</td>\n",
       "      <td>0.157077</td>\n",
       "      <td>0.199258</td>\n",
       "      <td>-0.005678</td>\n",
       "      <td>-0.162652</td>\n",
       "      <td>-0.014822</td>\n",
       "    </tr>\n",
       "    <tr>\n",
       "      <th>daylight</th>\n",
       "      <td>0.825419</td>\n",
       "      <td>0.666832</td>\n",
       "      <td>-0.630378</td>\n",
       "      <td>1.000000</td>\n",
       "      <td>0.095830</td>\n",
       "      <td>0.179779</td>\n",
       "      <td>0.130134</td>\n",
       "      <td>0.591375</td>\n",
       "      <td>0.601093</td>\n",
       "      <td>0.460121</td>\n",
       "      <td>0.411354</td>\n",
       "      <td>0.025007</td>\n",
       "      <td>-0.118612</td>\n",
       "      <td>0.006160</td>\n",
       "    </tr>\n",
       "    <tr>\n",
       "      <th>precipitation_sum</th>\n",
       "      <td>0.058856</td>\n",
       "      <td>-0.012254</td>\n",
       "      <td>-0.180434</td>\n",
       "      <td>0.095830</td>\n",
       "      <td>1.000000</td>\n",
       "      <td>0.737562</td>\n",
       "      <td>0.852893</td>\n",
       "      <td>0.031757</td>\n",
       "      <td>0.046868</td>\n",
       "      <td>-0.301519</td>\n",
       "      <td>-0.239069</td>\n",
       "      <td>0.036593</td>\n",
       "      <td>0.044572</td>\n",
       "      <td>0.012952</td>\n",
       "    </tr>\n",
       "    <tr>\n",
       "      <th>precipitation_hours</th>\n",
       "      <td>0.118134</td>\n",
       "      <td>-0.002707</td>\n",
       "      <td>-0.311005</td>\n",
       "      <td>0.179779</td>\n",
       "      <td>0.737562</td>\n",
       "      <td>1.000000</td>\n",
       "      <td>0.711648</td>\n",
       "      <td>0.061063</td>\n",
       "      <td>0.063334</td>\n",
       "      <td>-0.401475</td>\n",
       "      <td>-0.326399</td>\n",
       "      <td>0.082245</td>\n",
       "      <td>0.066482</td>\n",
       "      <td>0.025296</td>\n",
       "    </tr>\n",
       "    <tr>\n",
       "      <th>precipitation_rate</th>\n",
       "      <td>0.098128</td>\n",
       "      <td>0.015083</td>\n",
       "      <td>-0.223683</td>\n",
       "      <td>0.130134</td>\n",
       "      <td>0.852893</td>\n",
       "      <td>0.711648</td>\n",
       "      <td>1.000000</td>\n",
       "      <td>0.012387</td>\n",
       "      <td>0.033342</td>\n",
       "      <td>-0.323038</td>\n",
       "      <td>-0.262526</td>\n",
       "      <td>0.030332</td>\n",
       "      <td>0.054344</td>\n",
       "      <td>0.014378</td>\n",
       "    </tr>\n",
       "    <tr>\n",
       "      <th>windspeed_10m_max</th>\n",
       "      <td>0.413877</td>\n",
       "      <td>0.279871</td>\n",
       "      <td>-0.476707</td>\n",
       "      <td>0.591375</td>\n",
       "      <td>0.031757</td>\n",
       "      <td>0.061063</td>\n",
       "      <td>0.012387</td>\n",
       "      <td>1.000000</td>\n",
       "      <td>0.974260</td>\n",
       "      <td>0.308261</td>\n",
       "      <td>0.468907</td>\n",
       "      <td>0.014342</td>\n",
       "      <td>-0.142396</td>\n",
       "      <td>0.040924</td>\n",
       "    </tr>\n",
       "    <tr>\n",
       "      <th>windgusts_10m_max</th>\n",
       "      <td>0.428958</td>\n",
       "      <td>0.302782</td>\n",
       "      <td>-0.467379</td>\n",
       "      <td>0.601093</td>\n",
       "      <td>0.046868</td>\n",
       "      <td>0.063334</td>\n",
       "      <td>0.033342</td>\n",
       "      <td>0.974260</td>\n",
       "      <td>1.000000</td>\n",
       "      <td>0.339151</td>\n",
       "      <td>0.500098</td>\n",
       "      <td>0.006001</td>\n",
       "      <td>-0.150000</td>\n",
       "      <td>0.039638</td>\n",
       "    </tr>\n",
       "    <tr>\n",
       "      <th>shortwave_radiation_sum</th>\n",
       "      <td>0.420904</td>\n",
       "      <td>0.554922</td>\n",
       "      <td>0.157077</td>\n",
       "      <td>0.460121</td>\n",
       "      <td>-0.301519</td>\n",
       "      <td>-0.401475</td>\n",
       "      <td>-0.323038</td>\n",
       "      <td>0.308261</td>\n",
       "      <td>0.339151</td>\n",
       "      <td>1.000000</td>\n",
       "      <td>0.813019</td>\n",
       "      <td>0.011173</td>\n",
       "      <td>-0.346983</td>\n",
       "      <td>-0.004580</td>\n",
       "    </tr>\n",
       "    <tr>\n",
       "      <th>et0_fao_evapotranspiration</th>\n",
       "      <td>0.456179</td>\n",
       "      <td>0.611907</td>\n",
       "      <td>0.199258</td>\n",
       "      <td>0.411354</td>\n",
       "      <td>-0.239069</td>\n",
       "      <td>-0.326399</td>\n",
       "      <td>-0.262526</td>\n",
       "      <td>0.468907</td>\n",
       "      <td>0.500098</td>\n",
       "      <td>0.813019</td>\n",
       "      <td>1.000000</td>\n",
       "      <td>0.015264</td>\n",
       "      <td>-0.210056</td>\n",
       "      <td>0.006672</td>\n",
       "    </tr>\n",
       "    <tr>\n",
       "      <th>year</th>\n",
       "      <td>0.014454</td>\n",
       "      <td>0.016072</td>\n",
       "      <td>-0.005678</td>\n",
       "      <td>0.025007</td>\n",
       "      <td>0.036593</td>\n",
       "      <td>0.082245</td>\n",
       "      <td>0.030332</td>\n",
       "      <td>0.014342</td>\n",
       "      <td>0.006001</td>\n",
       "      <td>0.011173</td>\n",
       "      <td>0.015264</td>\n",
       "      <td>1.000000</td>\n",
       "      <td>-0.052120</td>\n",
       "      <td>-0.003425</td>\n",
       "    </tr>\n",
       "    <tr>\n",
       "      <th>month</th>\n",
       "      <td>0.207331</td>\n",
       "      <td>0.165387</td>\n",
       "      <td>-0.162652</td>\n",
       "      <td>-0.118612</td>\n",
       "      <td>0.044572</td>\n",
       "      <td>0.066482</td>\n",
       "      <td>0.054344</td>\n",
       "      <td>-0.142396</td>\n",
       "      <td>-0.150000</td>\n",
       "      <td>-0.346983</td>\n",
       "      <td>-0.210056</td>\n",
       "      <td>-0.052120</td>\n",
       "      <td>1.000000</td>\n",
       "      <td>0.010024</td>\n",
       "    </tr>\n",
       "    <tr>\n",
       "      <th>day</th>\n",
       "      <td>0.006205</td>\n",
       "      <td>0.003152</td>\n",
       "      <td>-0.014822</td>\n",
       "      <td>0.006160</td>\n",
       "      <td>0.012952</td>\n",
       "      <td>0.025296</td>\n",
       "      <td>0.014378</td>\n",
       "      <td>0.040924</td>\n",
       "      <td>0.039638</td>\n",
       "      <td>-0.004580</td>\n",
       "      <td>0.006672</td>\n",
       "      <td>-0.003425</td>\n",
       "      <td>0.010024</td>\n",
       "      <td>1.000000</td>\n",
       "    </tr>\n",
       "  </tbody>\n",
       "</table>\n",
       "</div>"
      ],
      "text/plain": [
       "                            temperature_2m_mean  temperature_2m_max  \\\n",
       "temperature_2m_mean                    1.000000            0.925932   \n",
       "temperature_2m_max                     0.925932            1.000000   \n",
       "temp_range                            -0.480543           -0.123177   \n",
       "daylight                               0.825419            0.666832   \n",
       "precipitation_sum                      0.058856           -0.012254   \n",
       "precipitation_hours                    0.118134           -0.002707   \n",
       "precipitation_rate                     0.098128            0.015083   \n",
       "windspeed_10m_max                      0.413877            0.279871   \n",
       "windgusts_10m_max                      0.428958            0.302782   \n",
       "shortwave_radiation_sum                0.420904            0.554922   \n",
       "et0_fao_evapotranspiration             0.456179            0.611907   \n",
       "year                                   0.014454            0.016072   \n",
       "month                                  0.207331            0.165387   \n",
       "day                                    0.006205            0.003152   \n",
       "\n",
       "                            temp_range  daylight  precipitation_sum  \\\n",
       "temperature_2m_mean          -0.480543  0.825419           0.058856   \n",
       "temperature_2m_max           -0.123177  0.666832          -0.012254   \n",
       "temp_range                    1.000000 -0.630378          -0.180434   \n",
       "daylight                     -0.630378  1.000000           0.095830   \n",
       "precipitation_sum            -0.180434  0.095830           1.000000   \n",
       "precipitation_hours          -0.311005  0.179779           0.737562   \n",
       "precipitation_rate           -0.223683  0.130134           0.852893   \n",
       "windspeed_10m_max            -0.476707  0.591375           0.031757   \n",
       "windgusts_10m_max            -0.467379  0.601093           0.046868   \n",
       "shortwave_radiation_sum       0.157077  0.460121          -0.301519   \n",
       "et0_fao_evapotranspiration    0.199258  0.411354          -0.239069   \n",
       "year                         -0.005678  0.025007           0.036593   \n",
       "month                        -0.162652 -0.118612           0.044572   \n",
       "day                          -0.014822  0.006160           0.012952   \n",
       "\n",
       "                            precipitation_hours  precipitation_rate  \\\n",
       "temperature_2m_mean                    0.118134            0.098128   \n",
       "temperature_2m_max                    -0.002707            0.015083   \n",
       "temp_range                            -0.311005           -0.223683   \n",
       "daylight                               0.179779            0.130134   \n",
       "precipitation_sum                      0.737562            0.852893   \n",
       "precipitation_hours                    1.000000            0.711648   \n",
       "precipitation_rate                     0.711648            1.000000   \n",
       "windspeed_10m_max                      0.061063            0.012387   \n",
       "windgusts_10m_max                      0.063334            0.033342   \n",
       "shortwave_radiation_sum               -0.401475           -0.323038   \n",
       "et0_fao_evapotranspiration            -0.326399           -0.262526   \n",
       "year                                   0.082245            0.030332   \n",
       "month                                  0.066482            0.054344   \n",
       "day                                    0.025296            0.014378   \n",
       "\n",
       "                            windspeed_10m_max  windgusts_10m_max  \\\n",
       "temperature_2m_mean                  0.413877           0.428958   \n",
       "temperature_2m_max                   0.279871           0.302782   \n",
       "temp_range                          -0.476707          -0.467379   \n",
       "daylight                             0.591375           0.601093   \n",
       "precipitation_sum                    0.031757           0.046868   \n",
       "precipitation_hours                  0.061063           0.063334   \n",
       "precipitation_rate                   0.012387           0.033342   \n",
       "windspeed_10m_max                    1.000000           0.974260   \n",
       "windgusts_10m_max                    0.974260           1.000000   \n",
       "shortwave_radiation_sum              0.308261           0.339151   \n",
       "et0_fao_evapotranspiration           0.468907           0.500098   \n",
       "year                                 0.014342           0.006001   \n",
       "month                               -0.142396          -0.150000   \n",
       "day                                  0.040924           0.039638   \n",
       "\n",
       "                            shortwave_radiation_sum  \\\n",
       "temperature_2m_mean                        0.420904   \n",
       "temperature_2m_max                         0.554922   \n",
       "temp_range                                 0.157077   \n",
       "daylight                                   0.460121   \n",
       "precipitation_sum                         -0.301519   \n",
       "precipitation_hours                       -0.401475   \n",
       "precipitation_rate                        -0.323038   \n",
       "windspeed_10m_max                          0.308261   \n",
       "windgusts_10m_max                          0.339151   \n",
       "shortwave_radiation_sum                    1.000000   \n",
       "et0_fao_evapotranspiration                 0.813019   \n",
       "year                                       0.011173   \n",
       "month                                     -0.346983   \n",
       "day                                       -0.004580   \n",
       "\n",
       "                            et0_fao_evapotranspiration      year     month  \\\n",
       "temperature_2m_mean                           0.456179  0.014454  0.207331   \n",
       "temperature_2m_max                            0.611907  0.016072  0.165387   \n",
       "temp_range                                    0.199258 -0.005678 -0.162652   \n",
       "daylight                                      0.411354  0.025007 -0.118612   \n",
       "precipitation_sum                            -0.239069  0.036593  0.044572   \n",
       "precipitation_hours                          -0.326399  0.082245  0.066482   \n",
       "precipitation_rate                           -0.262526  0.030332  0.054344   \n",
       "windspeed_10m_max                             0.468907  0.014342 -0.142396   \n",
       "windgusts_10m_max                             0.500098  0.006001 -0.150000   \n",
       "shortwave_radiation_sum                       0.813019  0.011173 -0.346983   \n",
       "et0_fao_evapotranspiration                    1.000000  0.015264 -0.210056   \n",
       "year                                          0.015264  1.000000 -0.052120   \n",
       "month                                        -0.210056 -0.052120  1.000000   \n",
       "day                                           0.006672 -0.003425  0.010024   \n",
       "\n",
       "                                 day  \n",
       "temperature_2m_mean         0.006205  \n",
       "temperature_2m_max          0.003152  \n",
       "temp_range                 -0.014822  \n",
       "daylight                    0.006160  \n",
       "precipitation_sum           0.012952  \n",
       "precipitation_hours         0.025296  \n",
       "precipitation_rate          0.014378  \n",
       "windspeed_10m_max           0.040924  \n",
       "windgusts_10m_max           0.039638  \n",
       "shortwave_radiation_sum    -0.004580  \n",
       "et0_fao_evapotranspiration  0.006672  \n",
       "year                       -0.003425  \n",
       "month                       0.010024  \n",
       "day                         1.000000  "
      ]
     },
     "execution_count": 15,
     "metadata": {},
     "output_type": "execute_result"
    }
   ],
   "source": [
    "# Finding correlation:\n",
    "\n",
    "df_corr=df.corr(method='pearson')\n",
    "df_corr"
   ]
  },
  {
   "cell_type": "code",
   "execution_count": 16,
   "id": "80b65c0f",
   "metadata": {},
   "outputs": [
    {
     "data": {
      "text/plain": [
       "precipitation_rate            1.000000\n",
       "precipitation_sum             0.852893\n",
       "precipitation_hours           0.711648\n",
       "daylight                      0.130134\n",
       "temperature_2m_mean           0.098128\n",
       "month                         0.054344\n",
       "windgusts_10m_max             0.033342\n",
       "year                          0.030332\n",
       "temperature_2m_max            0.015083\n",
       "day                           0.014378\n",
       "windspeed_10m_max             0.012387\n",
       "temp_range                   -0.223683\n",
       "et0_fao_evapotranspiration   -0.262526\n",
       "shortwave_radiation_sum      -0.323038\n",
       "Name: precipitation_rate, dtype: float64"
      ]
     },
     "execution_count": 16,
     "metadata": {},
     "output_type": "execute_result"
    }
   ],
   "source": [
    "df_corr[\"precipitation_rate\"].sort_values(ascending=False)"
   ]
  },
  {
   "cell_type": "markdown",
   "id": "df88e72a",
   "metadata": {},
   "source": [
    "# Modeling - Target: precipitation_rate"
   ]
  },
  {
   "cell_type": "code",
   "execution_count": 17,
   "id": "cb8034d7",
   "metadata": {},
   "outputs": [],
   "source": [
    "cat_var = df[[]]\n",
    "y = df[['precipitation_rate']]"
   ]
  },
  {
   "cell_type": "code",
   "execution_count": 18,
   "id": "d5cb0866",
   "metadata": {},
   "outputs": [],
   "source": [
    "# Listing num variables\n",
    "\n",
    "exclude_columns = cat_var + y\n",
    "num_var = [col for col in df.columns if col not in exclude_columns]"
   ]
  },
  {
   "cell_type": "code",
   "execution_count": 19,
   "id": "73b440a8",
   "metadata": {},
   "outputs": [
    {
     "name": "stdout",
     "output_type": "stream",
     "text": [
      "['temperature_2m_mean', 'temperature_2m_max', 'temp_range', 'daylight', 'precipitation_sum', 'precipitation_hours', 'windspeed_10m_max', 'windgusts_10m_max', 'shortwave_radiation_sum', 'et0_fao_evapotranspiration', 'year', 'month', 'day']\n"
     ]
    }
   ],
   "source": [
    "print(num_var)"
   ]
  },
  {
   "cell_type": "code",
   "execution_count": 20,
   "id": "04b61d1b",
   "metadata": {},
   "outputs": [
    {
     "name": "stdout",
     "output_type": "stream",
     "text": [
      "<class 'pandas.core.frame.DataFrame'>\n",
      "<class 'pandas.core.frame.DataFrame'>\n"
     ]
    }
   ],
   "source": [
    "#cat_var = []\n",
    "X = df[ num_var]\n",
    "y = df[['precipitation_rate']]\n",
    "\n",
    "print(type(X))\n",
    "print(type(y))"
   ]
  },
  {
   "cell_type": "code",
   "execution_count": 21,
   "id": "1ce038fb",
   "metadata": {},
   "outputs": [
    {
     "data": {
      "text/html": [
       "<div>\n",
       "<style scoped>\n",
       "    .dataframe tbody tr th:only-of-type {\n",
       "        vertical-align: middle;\n",
       "    }\n",
       "\n",
       "    .dataframe tbody tr th {\n",
       "        vertical-align: top;\n",
       "    }\n",
       "\n",
       "    .dataframe thead th {\n",
       "        text-align: right;\n",
       "    }\n",
       "</style>\n",
       "<table border=\"1\" class=\"dataframe\">\n",
       "  <thead>\n",
       "    <tr style=\"text-align: right;\">\n",
       "      <th></th>\n",
       "      <th>precipitation_rate</th>\n",
       "    </tr>\n",
       "  </thead>\n",
       "  <tbody>\n",
       "    <tr>\n",
       "      <th>0</th>\n",
       "      <td>0.0</td>\n",
       "    </tr>\n",
       "    <tr>\n",
       "      <th>1</th>\n",
       "      <td>0.0</td>\n",
       "    </tr>\n",
       "    <tr>\n",
       "      <th>2</th>\n",
       "      <td>0.0</td>\n",
       "    </tr>\n",
       "    <tr>\n",
       "      <th>3</th>\n",
       "      <td>0.0</td>\n",
       "    </tr>\n",
       "    <tr>\n",
       "      <th>4</th>\n",
       "      <td>0.0</td>\n",
       "    </tr>\n",
       "  </tbody>\n",
       "</table>\n",
       "</div>"
      ],
      "text/plain": [
       "   precipitation_rate\n",
       "0                 0.0\n",
       "1                 0.0\n",
       "2                 0.0\n",
       "3                 0.0\n",
       "4                 0.0"
      ]
     },
     "execution_count": 21,
     "metadata": {},
     "output_type": "execute_result"
    }
   ],
   "source": [
    "y.head()"
   ]
  },
  {
   "cell_type": "code",
   "execution_count": 22,
   "id": "57ba8b87",
   "metadata": {},
   "outputs": [
    {
     "name": "stdout",
     "output_type": "stream",
     "text": [
      "<class 'pandas.core.frame.DataFrame'>\n",
      "RangeIndex: 4966 entries, 0 to 4965\n",
      "Data columns (total 13 columns):\n",
      " #   Column                      Non-Null Count  Dtype  \n",
      "---  ------                      --------------  -----  \n",
      " 0   temperature_2m_mean         4966 non-null   float64\n",
      " 1   temperature_2m_max          4966 non-null   float64\n",
      " 2   temp_range                  4966 non-null   float64\n",
      " 3   daylight                    4966 non-null   float64\n",
      " 4   precipitation_sum           4966 non-null   float64\n",
      " 5   precipitation_hours         4966 non-null   int64  \n",
      " 6   windspeed_10m_max           4966 non-null   float64\n",
      " 7   windgusts_10m_max           4966 non-null   float64\n",
      " 8   shortwave_radiation_sum     4966 non-null   float64\n",
      " 9   et0_fao_evapotranspiration  4966 non-null   float64\n",
      " 10  year                        4966 non-null   int64  \n",
      " 11  month                       4966 non-null   int64  \n",
      " 12  day                         4966 non-null   int64  \n",
      "dtypes: float64(9), int64(4)\n",
      "memory usage: 504.5 KB\n"
     ]
    }
   ],
   "source": [
    "X.info()"
   ]
  },
  {
   "cell_type": "code",
   "execution_count": 23,
   "id": "497c1dd7",
   "metadata": {},
   "outputs": [
    {
     "name": "stdout",
     "output_type": "stream",
     "text": [
      "X_train.shape: (3972, 13)\n",
      "X_test.shape: (994, 13)\n",
      "y_train.shape: (3972, 1)\n",
      "y_test.shape: (994, 1)\n"
     ]
    }
   ],
   "source": [
    "# Train-test split:\n",
    "\n",
    "X_train, X_test, y_train, y_test = train_test_split(X, y, test_size=0.2, random_state=123)\n",
    "\n",
    "print(f\"X_train.shape: {X_train.shape}\")\n",
    "print(f\"X_test.shape: {X_test.shape}\")\n",
    "print(f\"y_train.shape: {y_train.shape}\")\n",
    "print(f\"y_test.shape: {y_test.shape}\")"
   ]
  },
  {
   "cell_type": "code",
   "execution_count": 24,
   "id": "21b4ad34",
   "metadata": {},
   "outputs": [],
   "source": [
    "# Define categorical and numerical variables\n",
    "\n",
    "#cat_var = []\n",
    "num_var = ['temperature_2m_mean', 'temperature_2m_max', 'temp_range', 'daylight', 'precipitation_sum', 'precipitation_hours', 'windspeed_10m_max', \n",
    "           'windgusts_10m_max', 'shortwave_radiation_sum', 'et0_fao_evapotranspiration', 'year', 'month', 'day']  # Include other numerical features\n",
    "\n",
    "# Define cyclical_features\n",
    "\n",
    "cyclical_features = ['year', 'month', 'day']\n",
    "\n",
    "# Define pipelines for categorical and numerical variables\n",
    "\n",
    "#pipeline_categorical = Pipeline([('onehot', OneHotEncoder(handle_unknown=\"ignore\")),])\n",
    "#pipeline_numerical = Pipeline([('scaler', MinMaxScaler(feature_range=(0,1))),])\n",
    "pipeline_numerical = Pipeline([('scaler', StandardScaler())])\n",
    "\n",
    "# Define a pipeline step for cyclical encoding\n",
    "\n",
    "def cyclical_encode(data, feature_name):\n",
    "    data[f'{feature_name}_sin'] = np.sin(2 * np.pi * data[feature_name] / data[feature_name].max())\n",
    "    data[f'{feature_name}_cos'] = np.cos(2 * np.pi * data[feature_name] / data[feature_name].max())\n",
    "    return data\n",
    "\n",
    "# Define the full pipeline using ColumnTransformer\n",
    "\n",
    "pipeline_full = ColumnTransformer([\n",
    "#   (\"categorical\", pipeline_categorical, cat_var),\n",
    "    (\"numerical\", pipeline_numerical, [feature for feature in num_var if feature not in cyclical_features]),\n",
    "    (\"cyclical\", 'passthrough', cyclical_features)]) \n"
   ]
  },
  {
   "cell_type": "code",
   "execution_count": 25,
   "id": "315537f2",
   "metadata": {},
   "outputs": [],
   "source": [
    "# Apply the pipeline\n",
    "\n",
    "pipeline_full.fit(X_train)\n",
    "X_train_transformed = pipeline_full.transform(X_train)\n",
    "X_test_transformed = pipeline_full.transform(X_test)\n"
   ]
  },
  {
   "cell_type": "code",
   "execution_count": 26,
   "id": "d35fba97",
   "metadata": {},
   "outputs": [
    {
     "name": "stdout",
     "output_type": "stream",
     "text": [
      "X_train_transformed.shape: (3972, 13)\n",
      "X_test_transformed.shape: (994, 13)\n",
      "\n",
      "X_train_transformed: <class 'numpy.ndarray'>\n",
      "X_test_transformed: <class 'numpy.ndarray'>\n"
     ]
    }
   ],
   "source": [
    "print(f\"X_train_transformed.shape: {X_train_transformed.shape}\")\n",
    "print(f\"X_test_transformed.shape: {X_test_transformed.shape}\")\n",
    "print()\n",
    "print('X_train_transformed:', type(X_train_transformed))\n",
    "print('X_test_transformed:', type(X_test_transformed))"
   ]
  },
  {
   "cell_type": "markdown",
   "id": "71cc218b",
   "metadata": {},
   "source": [
    "**Linear Regression**"
   ]
  },
  {
   "cell_type": "code",
   "execution_count": 27,
   "id": "ec3da6af",
   "metadata": {},
   "outputs": [
    {
     "data": {
      "text/html": [
       "<style>#sk-container-id-1 {color: black;background-color: white;}#sk-container-id-1 pre{padding: 0;}#sk-container-id-1 div.sk-toggleable {background-color: white;}#sk-container-id-1 label.sk-toggleable__label {cursor: pointer;display: block;width: 100%;margin-bottom: 0;padding: 0.3em;box-sizing: border-box;text-align: center;}#sk-container-id-1 label.sk-toggleable__label-arrow:before {content: \"▸\";float: left;margin-right: 0.25em;color: #696969;}#sk-container-id-1 label.sk-toggleable__label-arrow:hover:before {color: black;}#sk-container-id-1 div.sk-estimator:hover label.sk-toggleable__label-arrow:before {color: black;}#sk-container-id-1 div.sk-toggleable__content {max-height: 0;max-width: 0;overflow: hidden;text-align: left;background-color: #f0f8ff;}#sk-container-id-1 div.sk-toggleable__content pre {margin: 0.2em;color: black;border-radius: 0.25em;background-color: #f0f8ff;}#sk-container-id-1 input.sk-toggleable__control:checked~div.sk-toggleable__content {max-height: 200px;max-width: 100%;overflow: auto;}#sk-container-id-1 input.sk-toggleable__control:checked~label.sk-toggleable__label-arrow:before {content: \"▾\";}#sk-container-id-1 div.sk-estimator input.sk-toggleable__control:checked~label.sk-toggleable__label {background-color: #d4ebff;}#sk-container-id-1 div.sk-label input.sk-toggleable__control:checked~label.sk-toggleable__label {background-color: #d4ebff;}#sk-container-id-1 input.sk-hidden--visually {border: 0;clip: rect(1px 1px 1px 1px);clip: rect(1px, 1px, 1px, 1px);height: 1px;margin: -1px;overflow: hidden;padding: 0;position: absolute;width: 1px;}#sk-container-id-1 div.sk-estimator {font-family: monospace;background-color: #f0f8ff;border: 1px dotted black;border-radius: 0.25em;box-sizing: border-box;margin-bottom: 0.5em;}#sk-container-id-1 div.sk-estimator:hover {background-color: #d4ebff;}#sk-container-id-1 div.sk-parallel-item::after {content: \"\";width: 100%;border-bottom: 1px solid gray;flex-grow: 1;}#sk-container-id-1 div.sk-label:hover label.sk-toggleable__label {background-color: #d4ebff;}#sk-container-id-1 div.sk-serial::before {content: \"\";position: absolute;border-left: 1px solid gray;box-sizing: border-box;top: 0;bottom: 0;left: 50%;z-index: 0;}#sk-container-id-1 div.sk-serial {display: flex;flex-direction: column;align-items: center;background-color: white;padding-right: 0.2em;padding-left: 0.2em;position: relative;}#sk-container-id-1 div.sk-item {position: relative;z-index: 1;}#sk-container-id-1 div.sk-parallel {display: flex;align-items: stretch;justify-content: center;background-color: white;position: relative;}#sk-container-id-1 div.sk-item::before, #sk-container-id-1 div.sk-parallel-item::before {content: \"\";position: absolute;border-left: 1px solid gray;box-sizing: border-box;top: 0;bottom: 0;left: 50%;z-index: -1;}#sk-container-id-1 div.sk-parallel-item {display: flex;flex-direction: column;z-index: 1;position: relative;background-color: white;}#sk-container-id-1 div.sk-parallel-item:first-child::after {align-self: flex-end;width: 50%;}#sk-container-id-1 div.sk-parallel-item:last-child::after {align-self: flex-start;width: 50%;}#sk-container-id-1 div.sk-parallel-item:only-child::after {width: 0;}#sk-container-id-1 div.sk-dashed-wrapped {border: 1px dashed gray;margin: 0 0.4em 0.5em 0.4em;box-sizing: border-box;padding-bottom: 0.4em;background-color: white;}#sk-container-id-1 div.sk-label label {font-family: monospace;font-weight: bold;display: inline-block;line-height: 1.2em;}#sk-container-id-1 div.sk-label-container {text-align: center;}#sk-container-id-1 div.sk-container {/* jupyter's `normalize.less` sets `[hidden] { display: none; }` but bootstrap.min.css set `[hidden] { display: none !important; }` so we also need the `!important` here to be able to override the default hidden behavior on the sphinx rendered scikit-learn.org. See: https://github.com/scikit-learn/scikit-learn/issues/21755 */display: inline-block !important;position: relative;}#sk-container-id-1 div.sk-text-repr-fallback {display: none;}</style><div id=\"sk-container-id-1\" class=\"sk-top-container\"><div class=\"sk-text-repr-fallback\"><pre>LinearRegression()</pre><b>In a Jupyter environment, please rerun this cell to show the HTML representation or trust the notebook. <br />On GitHub, the HTML representation is unable to render, please try loading this page with nbviewer.org.</b></div><div class=\"sk-container\" hidden><div class=\"sk-item\"><div class=\"sk-estimator sk-toggleable\"><input class=\"sk-toggleable__control sk-hidden--visually\" id=\"sk-estimator-id-1\" type=\"checkbox\" checked><label for=\"sk-estimator-id-1\" class=\"sk-toggleable__label sk-toggleable__label-arrow\">LinearRegression</label><div class=\"sk-toggleable__content\"><pre>LinearRegression()</pre></div></div></div></div></div>"
      ],
      "text/plain": [
       "LinearRegression()"
      ]
     },
     "execution_count": 27,
     "metadata": {},
     "output_type": "execute_result"
    }
   ],
   "source": [
    "from sklearn.linear_model import LinearRegression\n",
    "lin_reg = LinearRegression()\n",
    "lin_reg.fit(X_train_transformed, y_train)"
   ]
  },
  {
   "cell_type": "code",
   "execution_count": 28,
   "id": "a8fe2b8c",
   "metadata": {},
   "outputs": [],
   "source": [
    "y_pred =lin_reg.predict(X_test_transformed)"
   ]
  },
  {
   "cell_type": "code",
   "execution_count": 29,
   "id": "8fb60da7",
   "metadata": {},
   "outputs": [
    {
     "name": "stdout",
     "output_type": "stream",
     "text": [
      "Predicted 1-5: [[0.08730714]\n",
      " [0.0160252 ]\n",
      " [0.00043886]\n",
      " [0.00966156]\n",
      " [0.0002497 ]]\n",
      "Actual 1-5:       precipitation_rate\n",
      "4270                0.15\n",
      "2846                0.00\n",
      "2661                0.00\n",
      "856                 0.00\n",
      "476                 0.00\n"
     ]
    }
   ],
   "source": [
    "print(\"Predicted 1-5:\", y_pred[0:5])\n",
    "print(\"Actual 1-5:\", y_test[0:5])"
   ]
  },
  {
   "cell_type": "code",
   "execution_count": 30,
   "id": "b0fb380e",
   "metadata": {},
   "outputs": [],
   "source": [
    "MSE= round(mean_squared_error(y_test, y_pred),3)\n",
    "MAE= round(metrics.mean_absolute_error(y_test, y_pred),3)\n",
    "R2_Score= round(metrics.r2_score(y_test, y_pred),3)\n",
    "RMSE= round(np.sqrt(mean_squared_error(y_test, y_pred)),3)"
   ]
  },
  {
   "cell_type": "code",
   "execution_count": 31,
   "id": "e32bfeb5",
   "metadata": {},
   "outputs": [
    {
     "data": {
      "text/html": [
       "<div>\n",
       "<style scoped>\n",
       "    .dataframe tbody tr th:only-of-type {\n",
       "        vertical-align: middle;\n",
       "    }\n",
       "\n",
       "    .dataframe tbody tr th {\n",
       "        vertical-align: top;\n",
       "    }\n",
       "\n",
       "    .dataframe thead th {\n",
       "        text-align: right;\n",
       "    }\n",
       "</style>\n",
       "<table border=\"1\" class=\"dataframe\">\n",
       "  <thead>\n",
       "    <tr style=\"text-align: right;\">\n",
       "      <th></th>\n",
       "      <th>Model</th>\n",
       "      <th>MSE</th>\n",
       "      <th>MAE</th>\n",
       "      <th>R2_Score</th>\n",
       "      <th>RMSE</th>\n",
       "    </tr>\n",
       "  </thead>\n",
       "  <tbody>\n",
       "    <tr>\n",
       "      <th>0</th>\n",
       "      <td>Linear_Reg</td>\n",
       "      <td>0.012</td>\n",
       "      <td>0.039</td>\n",
       "      <td>0.83</td>\n",
       "      <td>0.11</td>\n",
       "    </tr>\n",
       "  </tbody>\n",
       "</table>\n",
       "</div>"
      ],
      "text/plain": [
       "        Model    MSE    MAE  R2_Score  RMSE\n",
       "0  Linear_Reg  0.012  0.039      0.83  0.11"
      ]
     },
     "execution_count": 31,
     "metadata": {},
     "output_type": "execute_result"
    }
   ],
   "source": [
    "Results_LinearReg = pd.DataFrame([['Linear_Reg', MSE , MAE, R2_Score , RMSE]],\n",
    "               columns = ['Model', 'MSE', 'MAE', 'R2_Score' , 'RMSE'])\n",
    "Results_LinearReg"
   ]
  },
  {
   "cell_type": "code",
   "execution_count": 32,
   "id": "190f1d48",
   "metadata": {},
   "outputs": [
    {
     "name": "stdout",
     "output_type": "stream",
     "text": [
      "Scores: [0.16018573 0.14737056 0.10385643 0.08078505 0.11361067]\n",
      "Mean: 0.12116168857034768\n",
      "Standard deviation: 0.02897082542397339\n"
     ]
    }
   ],
   "source": [
    "# Cross-validation On Traing set:\n",
    "\n",
    "scores = cross_val_score(lin_reg, X_train_transformed, y_train, cv=5, scoring='neg_mean_squared_error')\n",
    "\n",
    "print(\"Scores:\", np.sqrt(-scores))\n",
    "print(\"Mean:\", np.sqrt(-scores).mean())\n",
    "print(\"Standard deviation:\", np.sqrt(-scores).std())"
   ]
  },
  {
   "cell_type": "code",
   "execution_count": 33,
   "id": "61f092e8",
   "metadata": {},
   "outputs": [
    {
     "name": "stdout",
     "output_type": "stream",
     "text": [
      "Mean Accuracy:  72.546 % Variance:  1.095 %\n"
     ]
    }
   ],
   "source": [
    "# Cross-validation On Traing set:\n",
    "\n",
    "cv_scores = cross_val_score(lin_reg, X_train_transformed, y_train, cv=5)\n",
    "print('Mean Accuracy: ', round(cv_scores.mean()*100, 3), '% Variance: ', round(cv_scores.var()*100, 3),'%')\n"
   ]
  },
  {
   "cell_type": "code",
   "execution_count": 34,
   "id": "bfcdb755",
   "metadata": {},
   "outputs": [
    {
     "data": {
      "text/html": [
       "<div>\n",
       "<style scoped>\n",
       "    .dataframe tbody tr th:only-of-type {\n",
       "        vertical-align: middle;\n",
       "    }\n",
       "\n",
       "    .dataframe tbody tr th {\n",
       "        vertical-align: top;\n",
       "    }\n",
       "\n",
       "    .dataframe thead th {\n",
       "        text-align: right;\n",
       "    }\n",
       "</style>\n",
       "<table border=\"1\" class=\"dataframe\">\n",
       "  <thead>\n",
       "    <tr style=\"text-align: right;\">\n",
       "      <th></th>\n",
       "      <th>Model</th>\n",
       "      <th>Mean Accuracy</th>\n",
       "      <th>Std Accuracy</th>\n",
       "    </tr>\n",
       "  </thead>\n",
       "  <tbody>\n",
       "    <tr>\n",
       "      <th>0</th>\n",
       "      <td>Linear_Reg</td>\n",
       "      <td>72.546</td>\n",
       "      <td>1.047</td>\n",
       "    </tr>\n",
       "  </tbody>\n",
       "</table>\n",
       "</div>"
      ],
      "text/plain": [
       "        Model  Mean Accuracy  Std Accuracy\n",
       "0  Linear_Reg         72.546         1.047"
      ]
     },
     "execution_count": 34,
     "metadata": {},
     "output_type": "execute_result"
    }
   ],
   "source": [
    "# Calculate mean and variance of the cross-validation scores On Training set:\n",
    "mean_accuracy = cv_scores.mean() * 100\n",
    "var_accuracy = cv_scores.var() * 100\n",
    "\n",
    "# Calculate standard deviation from variance\n",
    "std_accuracy = np.sqrt(var_accuracy)\n",
    "\n",
    "# Create a DataFrame to store the results\n",
    "CV_LinearReg = pd.DataFrame({\n",
    "    'Mean Accuracy': [round(mean_accuracy, 3)],\n",
    "    'Std Accuracy': [round(std_accuracy, 3)]})\n",
    "\n",
    "# Add a new column to the DataFrame\n",
    "MODEL = [\"Linear_Reg\"] * len(CV_LinearReg)  # Replace [1] with the desired values for the new column\n",
    "CV_LinearReg = pd.concat([pd.Series(MODEL, name='Model'), CV_LinearReg], axis=1)\n",
    "\n",
    "CV_LinearReg"
   ]
  },
  {
   "cell_type": "code",
   "execution_count": 35,
   "id": "f547eb23",
   "metadata": {},
   "outputs": [
    {
     "data": {
      "image/png": "[encoded data removed]",
      "text/plain": [
       "<Figure size 600x300 with 1 Axes>"
      ]
     },
     "metadata": {},
     "output_type": "display_data"
    }
   ],
   "source": [
    "# Ploting the learning curve:\n",
    "\n",
    "from sklearn.model_selection import learning_curve\n",
    "train_sizes, train_scores, test_scores = learning_curve(estimator=lin_reg, X=X_train_transformed, y=y_train,\n",
    "                                                       cv=10, train_sizes=np.linspace(0.1, 1.0, 10), n_jobs=-1)\n",
    "\n",
    "plt.figure(figsize=(6,3))\n",
    "# Calculate training and test mean and std\n",
    "\n",
    "train_mean = np.mean(train_scores, axis=1)\n",
    "train_std = np.std(train_scores, axis=1)\n",
    "test_mean = np.mean(test_scores, axis=1)\n",
    "test_std = np.std(test_scores, axis=1)\n",
    "\n",
    "# Plot the learning curve\n",
    "\n",
    "plt.plot(train_sizes, train_mean, color='blue', marker='o', markersize=5, label='Training Score')\n",
    "plt.fill_between(train_sizes, train_mean + train_std, train_mean - train_std, alpha=0.15, color='blue')\n",
    "\n",
    "plt.plot(train_sizes, test_mean, color='green', marker='o', markersize=5, label='Cross-Validation Score')\n",
    "plt.fill_between(train_sizes, test_mean + test_std, test_mean - test_std, alpha=0.15, color='green')\n",
    "\n",
    "plt.title('Linear Regression Learning Curve ')\n",
    "plt.xlabel('Training Example', fontsize=12)\n",
    "plt.ylabel('Accuracy Score', fontsize=12)\n",
    "\n",
    "plt.legend(loc='lower center', fontsize=8)\n",
    "#plt.savefig('graph.png')\n",
    "plt.show()"
   ]
  },
  {
   "cell_type": "markdown",
   "id": "ceb838cb",
   "metadata": {},
   "source": [
    "**Ridge Regression**"
   ]
  },
  {
   "cell_type": "code",
   "execution_count": 36,
   "id": "70a6314a",
   "metadata": {},
   "outputs": [],
   "source": [
    "from sklearn.linear_model import Ridge"
   ]
  },
  {
   "cell_type": "code",
   "execution_count": 37,
   "id": "c28185dd",
   "metadata": {},
   "outputs": [
    {
     "data": {
      "text/html": [
       "<style>#sk-container-id-2 {color: black;background-color: white;}#sk-container-id-2 pre{padding: 0;}#sk-container-id-2 div.sk-toggleable {background-color: white;}#sk-container-id-2 label.sk-toggleable__label {cursor: pointer;display: block;width: 100%;margin-bottom: 0;padding: 0.3em;box-sizing: border-box;text-align: center;}#sk-container-id-2 label.sk-toggleable__label-arrow:before {content: \"▸\";float: left;margin-right: 0.25em;color: #696969;}#sk-container-id-2 label.sk-toggleable__label-arrow:hover:before {color: black;}#sk-container-id-2 div.sk-estimator:hover label.sk-toggleable__label-arrow:before {color: black;}#sk-container-id-2 div.sk-toggleable__content {max-height: 0;max-width: 0;overflow: hidden;text-align: left;background-color: #f0f8ff;}#sk-container-id-2 div.sk-toggleable__content pre {margin: 0.2em;color: black;border-radius: 0.25em;background-color: #f0f8ff;}#sk-container-id-2 input.sk-toggleable__control:checked~div.sk-toggleable__content {max-height: 200px;max-width: 100%;overflow: auto;}#sk-container-id-2 input.sk-toggleable__control:checked~label.sk-toggleable__label-arrow:before {content: \"▾\";}#sk-container-id-2 div.sk-estimator input.sk-toggleable__control:checked~label.sk-toggleable__label {background-color: #d4ebff;}#sk-container-id-2 div.sk-label input.sk-toggleable__control:checked~label.sk-toggleable__label {background-color: #d4ebff;}#sk-container-id-2 input.sk-hidden--visually {border: 0;clip: rect(1px 1px 1px 1px);clip: rect(1px, 1px, 1px, 1px);height: 1px;margin: -1px;overflow: hidden;padding: 0;position: absolute;width: 1px;}#sk-container-id-2 div.sk-estimator {font-family: monospace;background-color: #f0f8ff;border: 1px dotted black;border-radius: 0.25em;box-sizing: border-box;margin-bottom: 0.5em;}#sk-container-id-2 div.sk-estimator:hover {background-color: #d4ebff;}#sk-container-id-2 div.sk-parallel-item::after {content: \"\";width: 100%;border-bottom: 1px solid gray;flex-grow: 1;}#sk-container-id-2 div.sk-label:hover label.sk-toggleable__label {background-color: #d4ebff;}#sk-container-id-2 div.sk-serial::before {content: \"\";position: absolute;border-left: 1px solid gray;box-sizing: border-box;top: 0;bottom: 0;left: 50%;z-index: 0;}#sk-container-id-2 div.sk-serial {display: flex;flex-direction: column;align-items: center;background-color: white;padding-right: 0.2em;padding-left: 0.2em;position: relative;}#sk-container-id-2 div.sk-item {position: relative;z-index: 1;}#sk-container-id-2 div.sk-parallel {display: flex;align-items: stretch;justify-content: center;background-color: white;position: relative;}#sk-container-id-2 div.sk-item::before, #sk-container-id-2 div.sk-parallel-item::before {content: \"\";position: absolute;border-left: 1px solid gray;box-sizing: border-box;top: 0;bottom: 0;left: 50%;z-index: -1;}#sk-container-id-2 div.sk-parallel-item {display: flex;flex-direction: column;z-index: 1;position: relative;background-color: white;}#sk-container-id-2 div.sk-parallel-item:first-child::after {align-self: flex-end;width: 50%;}#sk-container-id-2 div.sk-parallel-item:last-child::after {align-self: flex-start;width: 50%;}#sk-container-id-2 div.sk-parallel-item:only-child::after {width: 0;}#sk-container-id-2 div.sk-dashed-wrapped {border: 1px dashed gray;margin: 0 0.4em 0.5em 0.4em;box-sizing: border-box;padding-bottom: 0.4em;background-color: white;}#sk-container-id-2 div.sk-label label {font-family: monospace;font-weight: bold;display: inline-block;line-height: 1.2em;}#sk-container-id-2 div.sk-label-container {text-align: center;}#sk-container-id-2 div.sk-container {/* jupyter's `normalize.less` sets `[hidden] { display: none; }` but bootstrap.min.css set `[hidden] { display: none !important; }` so we also need the `!important` here to be able to override the default hidden behavior on the sphinx rendered scikit-learn.org. See: https://github.com/scikit-learn/scikit-learn/issues/21755 */display: inline-block !important;position: relative;}#sk-container-id-2 div.sk-text-repr-fallback {display: none;}</style><div id=\"sk-container-id-2\" class=\"sk-top-container\"><div class=\"sk-text-repr-fallback\"><pre>Ridge(alpha=0.02)</pre><b>In a Jupyter environment, please rerun this cell to show the HTML representation or trust the notebook. <br />On GitHub, the HTML representation is unable to render, please try loading this page with nbviewer.org.</b></div><div class=\"sk-container\" hidden><div class=\"sk-item\"><div class=\"sk-estimator sk-toggleable\"><input class=\"sk-toggleable__control sk-hidden--visually\" id=\"sk-estimator-id-2\" type=\"checkbox\" checked><label for=\"sk-estimator-id-2\" class=\"sk-toggleable__label sk-toggleable__label-arrow\">Ridge</label><div class=\"sk-toggleable__content\"><pre>Ridge(alpha=0.02)</pre></div></div></div></div></div>"
      ],
      "text/plain": [
       "Ridge(alpha=0.02)"
      ]
     },
     "execution_count": 37,
     "metadata": {},
     "output_type": "execute_result"
    }
   ],
   "source": [
    "Ridge=Ridge(alpha=0.02)\n",
    "Ridge.fit(X_train_transformed, y_train)"
   ]
  },
  {
   "cell_type": "code",
   "execution_count": 38,
   "id": "cd54f93a",
   "metadata": {},
   "outputs": [
    {
     "data": {
      "text/plain": [
       "array([[0.08730123],\n",
       "       [0.01602339],\n",
       "       [0.00043218],\n",
       "       [0.00967423],\n",
       "       [0.00024953]])"
      ]
     },
     "execution_count": 38,
     "metadata": {},
     "output_type": "execute_result"
    }
   ],
   "source": [
    "y_pred =Ridge.predict(X_test_transformed)\n",
    "y_pred[0:5]"
   ]
  },
  {
   "cell_type": "code",
   "execution_count": 39,
   "id": "4682120d",
   "metadata": {},
   "outputs": [],
   "source": [
    "MSE= round(mean_squared_error(y_test, y_pred),3)\n",
    "MAE= round(metrics.mean_absolute_error(y_test, y_pred),3)\n",
    "R2_Score= round(metrics.r2_score(y_test, y_pred),3)\n",
    "RMSE= round(np.sqrt(mean_squared_error(y_test, y_pred)),3)"
   ]
  },
  {
   "cell_type": "code",
   "execution_count": 40,
   "id": "530a905d",
   "metadata": {},
   "outputs": [
    {
     "data": {
      "text/html": [
       "<div>\n",
       "<style scoped>\n",
       "    .dataframe tbody tr th:only-of-type {\n",
       "        vertical-align: middle;\n",
       "    }\n",
       "\n",
       "    .dataframe tbody tr th {\n",
       "        vertical-align: top;\n",
       "    }\n",
       "\n",
       "    .dataframe thead th {\n",
       "        text-align: right;\n",
       "    }\n",
       "</style>\n",
       "<table border=\"1\" class=\"dataframe\">\n",
       "  <thead>\n",
       "    <tr style=\"text-align: right;\">\n",
       "      <th></th>\n",
       "      <th>Model</th>\n",
       "      <th>MSE</th>\n",
       "      <th>MAE</th>\n",
       "      <th>R2_Score</th>\n",
       "      <th>RMSE</th>\n",
       "    </tr>\n",
       "  </thead>\n",
       "  <tbody>\n",
       "    <tr>\n",
       "      <th>0</th>\n",
       "      <td>Ridge</td>\n",
       "      <td>0.012</td>\n",
       "      <td>0.039</td>\n",
       "      <td>0.83</td>\n",
       "      <td>0.11</td>\n",
       "    </tr>\n",
       "  </tbody>\n",
       "</table>\n",
       "</div>"
      ],
      "text/plain": [
       "   Model    MSE    MAE  R2_Score  RMSE\n",
       "0  Ridge  0.012  0.039      0.83  0.11"
      ]
     },
     "execution_count": 40,
     "metadata": {},
     "output_type": "execute_result"
    }
   ],
   "source": [
    "Results_Ridge = pd.DataFrame([['Ridge', MSE , MAE, R2_Score , RMSE]],\n",
    "               columns = ['Model', 'MSE', 'MAE', 'R2_Score' , 'RMSE'])\n",
    "Results_Ridge"
   ]
  },
  {
   "cell_type": "code",
   "execution_count": 41,
   "id": "ae5a7384",
   "metadata": {},
   "outputs": [
    {
     "name": "stdout",
     "output_type": "stream",
     "text": [
      "Scores: [0.16018691 0.14736951 0.10385606 0.08078286 0.11361053]\n",
      "Mean: 0.12116117423269326\n",
      "Standard deviation: 0.028971615691438277\n"
     ]
    }
   ],
   "source": [
    "# Cross-validation On Traing set:\n",
    "\n",
    "scores = cross_val_score(Ridge, X_train_transformed, y_train, cv=5, scoring='neg_mean_squared_error')\n",
    "\n",
    "print(\"Scores:\", np.sqrt(-scores))\n",
    "print(\"Mean:\", np.sqrt(-scores).mean())\n",
    "print(\"Standard deviation:\", np.sqrt(-scores).std())"
   ]
  },
  {
   "cell_type": "code",
   "execution_count": 42,
   "id": "c67e73be",
   "metadata": {},
   "outputs": [
    {
     "name": "stdout",
     "output_type": "stream",
     "text": [
      "Mean Accuracy:  72.546 % Variance:  1.095 %\n"
     ]
    }
   ],
   "source": [
    "# Cross-validation On Traing set:\n",
    "\n",
    "cv_scores = cross_val_score(lin_reg, X_train_transformed, y_train, cv=5)\n",
    "print('Mean Accuracy: ', round(cv_scores.mean()*100, 3), '% Variance: ', round(cv_scores.var()*100, 3),'%')"
   ]
  },
  {
   "cell_type": "code",
   "execution_count": 43,
   "id": "cab8d751",
   "metadata": {},
   "outputs": [
    {
     "data": {
      "text/html": [
       "<div>\n",
       "<style scoped>\n",
       "    .dataframe tbody tr th:only-of-type {\n",
       "        vertical-align: middle;\n",
       "    }\n",
       "\n",
       "    .dataframe tbody tr th {\n",
       "        vertical-align: top;\n",
       "    }\n",
       "\n",
       "    .dataframe thead th {\n",
       "        text-align: right;\n",
       "    }\n",
       "</style>\n",
       "<table border=\"1\" class=\"dataframe\">\n",
       "  <thead>\n",
       "    <tr style=\"text-align: right;\">\n",
       "      <th></th>\n",
       "      <th>Model</th>\n",
       "      <th>Mean Accuracy</th>\n",
       "      <th>Std Accuracy</th>\n",
       "    </tr>\n",
       "  </thead>\n",
       "  <tbody>\n",
       "    <tr>\n",
       "      <th>0</th>\n",
       "      <td>Ridge</td>\n",
       "      <td>72.546</td>\n",
       "      <td>1.047</td>\n",
       "    </tr>\n",
       "  </tbody>\n",
       "</table>\n",
       "</div>"
      ],
      "text/plain": [
       "   Model  Mean Accuracy  Std Accuracy\n",
       "0  Ridge         72.546         1.047"
      ]
     },
     "execution_count": 43,
     "metadata": {},
     "output_type": "execute_result"
    }
   ],
   "source": [
    "# Calculate mean and variance of the cross-validation scores On Training set:\n",
    "mean_accuracy = cv_scores.mean() * 100\n",
    "var_accuracy = cv_scores.var() * 100\n",
    "\n",
    "# Calculate standard deviation from variance\n",
    "std_accuracy = np.sqrt(var_accuracy)\n",
    "\n",
    "# Create a DataFrame to store the results\n",
    "CV_Ridge = pd.DataFrame({\n",
    "    'Mean Accuracy': [round(mean_accuracy, 3)],\n",
    "    'Std Accuracy': [round(std_accuracy, 3)]})\n",
    "\n",
    "# Add a new column to the DataFrame\n",
    "MODEL = [\"Ridge\"] * len(CV_Ridge)  # Replace [1] with the desired values for the new column\n",
    "CV_Ridge = pd.concat([pd.Series(MODEL, name='Model'), CV_Ridge], axis=1)\n",
    "\n",
    "CV_Ridge"
   ]
  },
  {
   "cell_type": "code",
   "execution_count": 44,
   "id": "47a051bb",
   "metadata": {},
   "outputs": [
    {
     "data": {
      "image/png": "[encoded data removed]",
      "text/plain": [
       "<Figure size 600x300 with 1 Axes>"
      ]
     },
     "metadata": {},
     "output_type": "display_data"
    }
   ],
   "source": [
    "# Ploting the learning curve:\n",
    "\n",
    "from sklearn.model_selection import learning_curve\n",
    "train_sizes, train_scores, test_scores = learning_curve(estimator=Ridge, X=X_train_transformed, y=y_train,\n",
    "                                                       cv=10, train_sizes=np.linspace(0.1, 1.0, 10), n_jobs=-1)\n",
    "\n",
    "plt.figure(figsize=(6,3))\n",
    "# Calculate training and test mean and std\n",
    "\n",
    "train_mean = np.mean(train_scores, axis=1)\n",
    "train_std = np.std(train_scores, axis=1)\n",
    "test_mean = np.mean(test_scores, axis=1)\n",
    "test_std = np.std(test_scores, axis=1)\n",
    "\n",
    "# Plot the learning curve\n",
    "\n",
    "plt.plot(train_sizes, train_mean, color='blue', marker='o', markersize=5, label='Training Score')\n",
    "plt.fill_between(train_sizes, train_mean + train_std, train_mean - train_std, alpha=0.15, color='blue')\n",
    "\n",
    "plt.plot(train_sizes, test_mean, color='green', marker='o', markersize=5, label='Cross-Validation Score')\n",
    "plt.fill_between(train_sizes, test_mean + test_std, test_mean - test_std, alpha=0.15, color='green')\n",
    "\n",
    "plt.title('Ridge Regression Learning Curve ')\n",
    "plt.xlabel('Training Example', fontsize=12)\n",
    "plt.ylabel('Accuracy Score', fontsize=12)\n",
    "\n",
    "plt.legend(loc='lower center', fontsize=8)\n",
    "plt.show()"
   ]
  },
  {
   "cell_type": "markdown",
   "id": "bdf6f733",
   "metadata": {},
   "source": [
    "**Lasso Regression**"
   ]
  },
  {
   "cell_type": "code",
   "execution_count": 45,
   "id": "7c3cfc54",
   "metadata": {},
   "outputs": [],
   "source": [
    "from sklearn.linear_model import Lasso"
   ]
  },
  {
   "cell_type": "code",
   "execution_count": 46,
   "id": "f6002a7f",
   "metadata": {},
   "outputs": [
    {
     "data": {
      "text/html": [
       "<style>#sk-container-id-3 {color: black;background-color: white;}#sk-container-id-3 pre{padding: 0;}#sk-container-id-3 div.sk-toggleable {background-color: white;}#sk-container-id-3 label.sk-toggleable__label {cursor: pointer;display: block;width: 100%;margin-bottom: 0;padding: 0.3em;box-sizing: border-box;text-align: center;}#sk-container-id-3 label.sk-toggleable__label-arrow:before {content: \"▸\";float: left;margin-right: 0.25em;color: #696969;}#sk-container-id-3 label.sk-toggleable__label-arrow:hover:before {color: black;}#sk-container-id-3 div.sk-estimator:hover label.sk-toggleable__label-arrow:before {color: black;}#sk-container-id-3 div.sk-toggleable__content {max-height: 0;max-width: 0;overflow: hidden;text-align: left;background-color: #f0f8ff;}#sk-container-id-3 div.sk-toggleable__content pre {margin: 0.2em;color: black;border-radius: 0.25em;background-color: #f0f8ff;}#sk-container-id-3 input.sk-toggleable__control:checked~div.sk-toggleable__content {max-height: 200px;max-width: 100%;overflow: auto;}#sk-container-id-3 input.sk-toggleable__control:checked~label.sk-toggleable__label-arrow:before {content: \"▾\";}#sk-container-id-3 div.sk-estimator input.sk-toggleable__control:checked~label.sk-toggleable__label {background-color: #d4ebff;}#sk-container-id-3 div.sk-label input.sk-toggleable__control:checked~label.sk-toggleable__label {background-color: #d4ebff;}#sk-container-id-3 input.sk-hidden--visually {border: 0;clip: rect(1px 1px 1px 1px);clip: rect(1px, 1px, 1px, 1px);height: 1px;margin: -1px;overflow: hidden;padding: 0;position: absolute;width: 1px;}#sk-container-id-3 div.sk-estimator {font-family: monospace;background-color: #f0f8ff;border: 1px dotted black;border-radius: 0.25em;box-sizing: border-box;margin-bottom: 0.5em;}#sk-container-id-3 div.sk-estimator:hover {background-color: #d4ebff;}#sk-container-id-3 div.sk-parallel-item::after {content: \"\";width: 100%;border-bottom: 1px solid gray;flex-grow: 1;}#sk-container-id-3 div.sk-label:hover label.sk-toggleable__label {background-color: #d4ebff;}#sk-container-id-3 div.sk-serial::before {content: \"\";position: absolute;border-left: 1px solid gray;box-sizing: border-box;top: 0;bottom: 0;left: 50%;z-index: 0;}#sk-container-id-3 div.sk-serial {display: flex;flex-direction: column;align-items: center;background-color: white;padding-right: 0.2em;padding-left: 0.2em;position: relative;}#sk-container-id-3 div.sk-item {position: relative;z-index: 1;}#sk-container-id-3 div.sk-parallel {display: flex;align-items: stretch;justify-content: center;background-color: white;position: relative;}#sk-container-id-3 div.sk-item::before, #sk-container-id-3 div.sk-parallel-item::before {content: \"\";position: absolute;border-left: 1px solid gray;box-sizing: border-box;top: 0;bottom: 0;left: 50%;z-index: -1;}#sk-container-id-3 div.sk-parallel-item {display: flex;flex-direction: column;z-index: 1;position: relative;background-color: white;}#sk-container-id-3 div.sk-parallel-item:first-child::after {align-self: flex-end;width: 50%;}#sk-container-id-3 div.sk-parallel-item:last-child::after {align-self: flex-start;width: 50%;}#sk-container-id-3 div.sk-parallel-item:only-child::after {width: 0;}#sk-container-id-3 div.sk-dashed-wrapped {border: 1px dashed gray;margin: 0 0.4em 0.5em 0.4em;box-sizing: border-box;padding-bottom: 0.4em;background-color: white;}#sk-container-id-3 div.sk-label label {font-family: monospace;font-weight: bold;display: inline-block;line-height: 1.2em;}#sk-container-id-3 div.sk-label-container {text-align: center;}#sk-container-id-3 div.sk-container {/* jupyter's `normalize.less` sets `[hidden] { display: none; }` but bootstrap.min.css set `[hidden] { display: none !important; }` so we also need the `!important` here to be able to override the default hidden behavior on the sphinx rendered scikit-learn.org. See: https://github.com/scikit-learn/scikit-learn/issues/21755 */display: inline-block !important;position: relative;}#sk-container-id-3 div.sk-text-repr-fallback {display: none;}</style><div id=\"sk-container-id-3\" class=\"sk-top-container\"><div class=\"sk-text-repr-fallback\"><pre>Lasso(alpha=0.02)</pre><b>In a Jupyter environment, please rerun this cell to show the HTML representation or trust the notebook. <br />On GitHub, the HTML representation is unable to render, please try loading this page with nbviewer.org.</b></div><div class=\"sk-container\" hidden><div class=\"sk-item\"><div class=\"sk-estimator sk-toggleable\"><input class=\"sk-toggleable__control sk-hidden--visually\" id=\"sk-estimator-id-3\" type=\"checkbox\" checked><label for=\"sk-estimator-id-3\" class=\"sk-toggleable__label sk-toggleable__label-arrow\">Lasso</label><div class=\"sk-toggleable__content\"><pre>Lasso(alpha=0.02)</pre></div></div></div></div></div>"
      ],
      "text/plain": [
       "Lasso(alpha=0.02)"
      ]
     },
     "execution_count": 46,
     "metadata": {},
     "output_type": "execute_result"
    }
   ],
   "source": [
    "Lasso=Lasso(alpha=0.02)\n",
    "Lasso.fit(X_train_transformed, y_train)"
   ]
  },
  {
   "cell_type": "code",
   "execution_count": 47,
   "id": "f641f3b9",
   "metadata": {},
   "outputs": [],
   "source": [
    "y_pred =Lasso.predict(X_test_transformed)"
   ]
  },
  {
   "cell_type": "code",
   "execution_count": 48,
   "id": "60eec047",
   "metadata": {},
   "outputs": [],
   "source": [
    "MSE= round(mean_squared_error(y_test, y_pred),3)\n",
    "MAE= round(metrics.mean_absolute_error(y_test, y_pred),3)\n",
    "R2_Score= round(metrics.r2_score(y_test, y_pred),3)\n",
    "RMSE= round(np.sqrt(mean_squared_error(y_test, y_pred)),3)"
   ]
  },
  {
   "cell_type": "code",
   "execution_count": 49,
   "id": "bdc0723e",
   "metadata": {},
   "outputs": [
    {
     "data": {
      "text/html": [
       "<div>\n",
       "<style scoped>\n",
       "    .dataframe tbody tr th:only-of-type {\n",
       "        vertical-align: middle;\n",
       "    }\n",
       "\n",
       "    .dataframe tbody tr th {\n",
       "        vertical-align: top;\n",
       "    }\n",
       "\n",
       "    .dataframe thead th {\n",
       "        text-align: right;\n",
       "    }\n",
       "</style>\n",
       "<table border=\"1\" class=\"dataframe\">\n",
       "  <thead>\n",
       "    <tr style=\"text-align: right;\">\n",
       "      <th></th>\n",
       "      <th>Model</th>\n",
       "      <th>MSE</th>\n",
       "      <th>MAE</th>\n",
       "      <th>R2_Score</th>\n",
       "      <th>RMSE</th>\n",
       "    </tr>\n",
       "  </thead>\n",
       "  <tbody>\n",
       "    <tr>\n",
       "      <th>0</th>\n",
       "      <td>Lasso</td>\n",
       "      <td>0.014</td>\n",
       "      <td>0.041</td>\n",
       "      <td>0.806</td>\n",
       "      <td>0.117</td>\n",
       "    </tr>\n",
       "  </tbody>\n",
       "</table>\n",
       "</div>"
      ],
      "text/plain": [
       "   Model    MSE    MAE  R2_Score   RMSE\n",
       "0  Lasso  0.014  0.041     0.806  0.117"
      ]
     },
     "execution_count": 49,
     "metadata": {},
     "output_type": "execute_result"
    }
   ],
   "source": [
    "Results_Lasso = pd.DataFrame([['Lasso', MSE , MAE, R2_Score , RMSE]],\n",
    "               columns = ['Model', 'MSE', 'MAE', 'R2_Score' , 'RMSE'])\n",
    "Results_Lasso"
   ]
  },
  {
   "cell_type": "code",
   "execution_count": 50,
   "id": "fc4bf35e",
   "metadata": {},
   "outputs": [
    {
     "name": "stdout",
     "output_type": "stream",
     "text": [
      "Scores: [0.16819994 0.150907   0.09689825 0.08537529 0.11712957]\n",
      "Mean: 0.12370201030911061\n",
      "Standard deviation: 0.031466658373047955\n"
     ]
    }
   ],
   "source": [
    "# Cross-validation On Traing set:\n",
    "\n",
    "scores = cross_val_score(Lasso, X_train_transformed, y_train, cv=5, scoring='neg_mean_squared_error')\n",
    "\n",
    "print(\"Scores:\", np.sqrt(-scores))\n",
    "print(\"Mean:\", np.sqrt(-scores).mean())\n",
    "print(\"Standard deviation:\", np.sqrt(-scores).std())"
   ]
  },
  {
   "cell_type": "code",
   "execution_count": 51,
   "id": "c209f148",
   "metadata": {},
   "outputs": [
    {
     "name": "stdout",
     "output_type": "stream",
     "text": [
      "Mean Accuracy:  71.078 % Variance:  1.467 %\n"
     ]
    }
   ],
   "source": [
    "# Cross-validation On Traing set:\n",
    "\n",
    "cv_scores = cross_val_score(Lasso, X_train_transformed, y_train, cv=5)\n",
    "print('Mean Accuracy: ', round(cv_scores.mean()*100, 3), '% Variance: ', round(cv_scores.var()*100, 3),'%')"
   ]
  },
  {
   "cell_type": "code",
   "execution_count": 52,
   "id": "441da15e",
   "metadata": {},
   "outputs": [
    {
     "data": {
      "text/html": [
       "<div>\n",
       "<style scoped>\n",
       "    .dataframe tbody tr th:only-of-type {\n",
       "        vertical-align: middle;\n",
       "    }\n",
       "\n",
       "    .dataframe tbody tr th {\n",
       "        vertical-align: top;\n",
       "    }\n",
       "\n",
       "    .dataframe thead th {\n",
       "        text-align: right;\n",
       "    }\n",
       "</style>\n",
       "<table border=\"1\" class=\"dataframe\">\n",
       "  <thead>\n",
       "    <tr style=\"text-align: right;\">\n",
       "      <th></th>\n",
       "      <th>Model</th>\n",
       "      <th>Mean Accuracy</th>\n",
       "      <th>Std Accuracy</th>\n",
       "    </tr>\n",
       "  </thead>\n",
       "  <tbody>\n",
       "    <tr>\n",
       "      <th>0</th>\n",
       "      <td>Lasso</td>\n",
       "      <td>71.078</td>\n",
       "      <td>1.211</td>\n",
       "    </tr>\n",
       "  </tbody>\n",
       "</table>\n",
       "</div>"
      ],
      "text/plain": [
       "   Model  Mean Accuracy  Std Accuracy\n",
       "0  Lasso         71.078         1.211"
      ]
     },
     "execution_count": 52,
     "metadata": {},
     "output_type": "execute_result"
    }
   ],
   "source": [
    "# Calculate mean and variance of the cross-validation scores On Training set:\n",
    "mean_accuracy = cv_scores.mean() * 100\n",
    "var_accuracy = cv_scores.var() * 100\n",
    "\n",
    "# Calculate standard deviation from variance\n",
    "std_accuracy = np.sqrt(var_accuracy)\n",
    "\n",
    "# Create a DataFrame to store the results\n",
    "CV_Lasso = pd.DataFrame({\n",
    "    'Mean Accuracy': [round(mean_accuracy, 3)],\n",
    "    'Std Accuracy': [round(std_accuracy, 3)]})\n",
    "\n",
    "# Add a new column to the DataFrame\n",
    "MODEL = [\"Lasso\"] * len(CV_Lasso)  # Replace [1] with the desired values for the new column\n",
    "CV_Lasso = pd.concat([pd.Series(MODEL, name='Model'), CV_Lasso], axis=1)\n",
    "\n",
    "CV_Lasso"
   ]
  },
  {
   "cell_type": "code",
   "execution_count": 53,
   "id": "0db29948",
   "metadata": {},
   "outputs": [
    {
     "data": {
      "image/png": "[encoded data removed]",
      "text/plain": [
       "<Figure size 600x300 with 1 Axes>"
      ]
     },
     "metadata": {},
     "output_type": "display_data"
    }
   ],
   "source": [
    "# Ploting the learning curve:\n",
    "\n",
    "from sklearn.model_selection import learning_curve\n",
    "train_sizes, train_scores, test_scores = learning_curve(estimator=Lasso, X=X_train_transformed, y=y_train,\n",
    "                                                       cv=10, train_sizes=np.linspace(0.1, 1.0, 10), n_jobs=-1)\n",
    "\n",
    "plt.figure(figsize=(6,3))\n",
    "# Calculate training and test mean and std\n",
    "\n",
    "train_mean = np.mean(train_scores, axis=1)\n",
    "train_std = np.std(train_scores, axis=1)\n",
    "test_mean = np.mean(test_scores, axis=1)\n",
    "test_std = np.std(test_scores, axis=1)\n",
    "\n",
    "# Plot the learning curve\n",
    "\n",
    "plt.plot(train_sizes, train_mean, color='blue', marker='o', markersize=5, label='Training Score')\n",
    "plt.fill_between(train_sizes, train_mean + train_std, train_mean - train_std, alpha=0.15, color='blue')\n",
    "\n",
    "plt.plot(train_sizes, test_mean, color='green', marker='o', markersize=5, label='Cross-Validation Score')\n",
    "plt.fill_between(train_sizes, test_mean + test_std, test_mean - test_std, alpha=0.15, color='green')\n",
    "\n",
    "plt.title('Lasso Regression Learning Curve ')\n",
    "plt.xlabel('Training Example', fontsize=12)\n",
    "plt.ylabel('Accuracy Score', fontsize=12)\n",
    "\n",
    "plt.legend(loc='lower center', fontsize=8)\n",
    "plt.show()"
   ]
  },
  {
   "cell_type": "markdown",
   "id": "9dd7e5ed",
   "metadata": {},
   "source": [
    "**Elastic Net Regression**"
   ]
  },
  {
   "cell_type": "code",
   "execution_count": 54,
   "id": "bc17062f",
   "metadata": {},
   "outputs": [],
   "source": [
    "from sklearn.linear_model import ElasticNet"
   ]
  },
  {
   "cell_type": "code",
   "execution_count": 55,
   "id": "93fa7004",
   "metadata": {},
   "outputs": [
    {
     "data": {
      "text/html": [
       "<style>#sk-container-id-4 {color: black;background-color: white;}#sk-container-id-4 pre{padding: 0;}#sk-container-id-4 div.sk-toggleable {background-color: white;}#sk-container-id-4 label.sk-toggleable__label {cursor: pointer;display: block;width: 100%;margin-bottom: 0;padding: 0.3em;box-sizing: border-box;text-align: center;}#sk-container-id-4 label.sk-toggleable__label-arrow:before {content: \"▸\";float: left;margin-right: 0.25em;color: #696969;}#sk-container-id-4 label.sk-toggleable__label-arrow:hover:before {color: black;}#sk-container-id-4 div.sk-estimator:hover label.sk-toggleable__label-arrow:before {color: black;}#sk-container-id-4 div.sk-toggleable__content {max-height: 0;max-width: 0;overflow: hidden;text-align: left;background-color: #f0f8ff;}#sk-container-id-4 div.sk-toggleable__content pre {margin: 0.2em;color: black;border-radius: 0.25em;background-color: #f0f8ff;}#sk-container-id-4 input.sk-toggleable__control:checked~div.sk-toggleable__content {max-height: 200px;max-width: 100%;overflow: auto;}#sk-container-id-4 input.sk-toggleable__control:checked~label.sk-toggleable__label-arrow:before {content: \"▾\";}#sk-container-id-4 div.sk-estimator input.sk-toggleable__control:checked~label.sk-toggleable__label {background-color: #d4ebff;}#sk-container-id-4 div.sk-label input.sk-toggleable__control:checked~label.sk-toggleable__label {background-color: #d4ebff;}#sk-container-id-4 input.sk-hidden--visually {border: 0;clip: rect(1px 1px 1px 1px);clip: rect(1px, 1px, 1px, 1px);height: 1px;margin: -1px;overflow: hidden;padding: 0;position: absolute;width: 1px;}#sk-container-id-4 div.sk-estimator {font-family: monospace;background-color: #f0f8ff;border: 1px dotted black;border-radius: 0.25em;box-sizing: border-box;margin-bottom: 0.5em;}#sk-container-id-4 div.sk-estimator:hover {background-color: #d4ebff;}#sk-container-id-4 div.sk-parallel-item::after {content: \"\";width: 100%;border-bottom: 1px solid gray;flex-grow: 1;}#sk-container-id-4 div.sk-label:hover label.sk-toggleable__label {background-color: #d4ebff;}#sk-container-id-4 div.sk-serial::before {content: \"\";position: absolute;border-left: 1px solid gray;box-sizing: border-box;top: 0;bottom: 0;left: 50%;z-index: 0;}#sk-container-id-4 div.sk-serial {display: flex;flex-direction: column;align-items: center;background-color: white;padding-right: 0.2em;padding-left: 0.2em;position: relative;}#sk-container-id-4 div.sk-item {position: relative;z-index: 1;}#sk-container-id-4 div.sk-parallel {display: flex;align-items: stretch;justify-content: center;background-color: white;position: relative;}#sk-container-id-4 div.sk-item::before, #sk-container-id-4 div.sk-parallel-item::before {content: \"\";position: absolute;border-left: 1px solid gray;box-sizing: border-box;top: 0;bottom: 0;left: 50%;z-index: -1;}#sk-container-id-4 div.sk-parallel-item {display: flex;flex-direction: column;z-index: 1;position: relative;background-color: white;}#sk-container-id-4 div.sk-parallel-item:first-child::after {align-self: flex-end;width: 50%;}#sk-container-id-4 div.sk-parallel-item:last-child::after {align-self: flex-start;width: 50%;}#sk-container-id-4 div.sk-parallel-item:only-child::after {width: 0;}#sk-container-id-4 div.sk-dashed-wrapped {border: 1px dashed gray;margin: 0 0.4em 0.5em 0.4em;box-sizing: border-box;padding-bottom: 0.4em;background-color: white;}#sk-container-id-4 div.sk-label label {font-family: monospace;font-weight: bold;display: inline-block;line-height: 1.2em;}#sk-container-id-4 div.sk-label-container {text-align: center;}#sk-container-id-4 div.sk-container {/* jupyter's `normalize.less` sets `[hidden] { display: none; }` but bootstrap.min.css set `[hidden] { display: none !important; }` so we also need the `!important` here to be able to override the default hidden behavior on the sphinx rendered scikit-learn.org. See: https://github.com/scikit-learn/scikit-learn/issues/21755 */display: inline-block !important;position: relative;}#sk-container-id-4 div.sk-text-repr-fallback {display: none;}</style><div id=\"sk-container-id-4\" class=\"sk-top-container\"><div class=\"sk-text-repr-fallback\"><pre>ElasticNet(alpha=0.02)</pre><b>In a Jupyter environment, please rerun this cell to show the HTML representation or trust the notebook. <br />On GitHub, the HTML representation is unable to render, please try loading this page with nbviewer.org.</b></div><div class=\"sk-container\" hidden><div class=\"sk-item\"><div class=\"sk-estimator sk-toggleable\"><input class=\"sk-toggleable__control sk-hidden--visually\" id=\"sk-estimator-id-4\" type=\"checkbox\" checked><label for=\"sk-estimator-id-4\" class=\"sk-toggleable__label sk-toggleable__label-arrow\">ElasticNet</label><div class=\"sk-toggleable__content\"><pre>ElasticNet(alpha=0.02)</pre></div></div></div></div></div>"
      ],
      "text/plain": [
       "ElasticNet(alpha=0.02)"
      ]
     },
     "execution_count": 55,
     "metadata": {},
     "output_type": "execute_result"
    }
   ],
   "source": [
    "enr = ElasticNet(alpha=0.02)\n",
    "enr.fit(X_train_transformed, y_train)"
   ]
  },
  {
   "cell_type": "code",
   "execution_count": 56,
   "id": "3a9aa767",
   "metadata": {},
   "outputs": [],
   "source": [
    "y_pred =enr.predict(X_test_transformed)"
   ]
  },
  {
   "cell_type": "code",
   "execution_count": 57,
   "id": "41427a13",
   "metadata": {},
   "outputs": [
    {
     "name": "stdout",
     "output_type": "stream",
     "text": [
      "Predicted 1-5: [0.06399582 0.01859939 0.01554482 0.01660735 0.01317153]\n",
      "Actual 1-5:       precipitation_rate\n",
      "4270                0.15\n",
      "2846                0.00\n",
      "2661                0.00\n",
      "856                 0.00\n",
      "476                 0.00\n"
     ]
    }
   ],
   "source": [
    "print(\"Predicted 1-5:\", y_pred[0:5])\n",
    "print(\"Actual 1-5:\", y_test[0:5])"
   ]
  },
  {
   "cell_type": "code",
   "execution_count": 58,
   "id": "2f517bef",
   "metadata": {},
   "outputs": [],
   "source": [
    "MSE= round(mean_squared_error(y_test, y_pred),3)\n",
    "MAE= round(metrics.mean_absolute_error(y_test, y_pred),3)\n",
    "R2_Score= round(metrics.r2_score(y_test, y_pred),3)\n",
    "RMSE= round(np.sqrt(mean_squared_error(y_test, y_pred)),3)"
   ]
  },
  {
   "cell_type": "code",
   "execution_count": 59,
   "id": "ed45adf2",
   "metadata": {},
   "outputs": [
    {
     "data": {
      "text/html": [
       "<div>\n",
       "<style scoped>\n",
       "    .dataframe tbody tr th:only-of-type {\n",
       "        vertical-align: middle;\n",
       "    }\n",
       "\n",
       "    .dataframe tbody tr th {\n",
       "        vertical-align: top;\n",
       "    }\n",
       "\n",
       "    .dataframe thead th {\n",
       "        text-align: right;\n",
       "    }\n",
       "</style>\n",
       "<table border=\"1\" class=\"dataframe\">\n",
       "  <thead>\n",
       "    <tr style=\"text-align: right;\">\n",
       "      <th></th>\n",
       "      <th>Model</th>\n",
       "      <th>MSE</th>\n",
       "      <th>MAE</th>\n",
       "      <th>R2_Score</th>\n",
       "      <th>RMSE</th>\n",
       "    </tr>\n",
       "  </thead>\n",
       "  <tbody>\n",
       "    <tr>\n",
       "      <th>0</th>\n",
       "      <td>ElasticNet</td>\n",
       "      <td>0.013</td>\n",
       "      <td>0.038</td>\n",
       "      <td>0.814</td>\n",
       "      <td>0.115</td>\n",
       "    </tr>\n",
       "  </tbody>\n",
       "</table>\n",
       "</div>"
      ],
      "text/plain": [
       "        Model    MSE    MAE  R2_Score   RMSE\n",
       "0  ElasticNet  0.013  0.038     0.814  0.115"
      ]
     },
     "execution_count": 59,
     "metadata": {},
     "output_type": "execute_result"
    }
   ],
   "source": [
    "Results_ElasticNet = pd.DataFrame([['ElasticNet', MSE , MAE, R2_Score , RMSE]],\n",
    "               columns = ['Model', 'MSE', 'MAE', 'R2_Score' , 'RMSE'])\n",
    "Results_ElasticNet"
   ]
  },
  {
   "cell_type": "code",
   "execution_count": 60,
   "id": "616e566a",
   "metadata": {},
   "outputs": [
    {
     "name": "stdout",
     "output_type": "stream",
     "text": [
      "Scores: [0.16605542 0.15007503 0.09860076 0.08343948 0.11570488]\n",
      "Mean: 0.12277511504824079\n",
      "Standard deviation: 0.030984352747606917\n"
     ]
    }
   ],
   "source": [
    "# Cross-validation On Traing set:\n",
    "\n",
    "scores = cross_val_score(enr, X_train_transformed, y_train, cv=5, scoring='neg_mean_squared_error')\n",
    "\n",
    "print(\"Scores:\", np.sqrt(-scores))\n",
    "print(\"Mean:\", np.sqrt(-scores).mean())\n",
    "print(\"Standard deviation:\", np.sqrt(-scores).std())"
   ]
  },
  {
   "cell_type": "code",
   "execution_count": 61,
   "id": "ffe28757",
   "metadata": {},
   "outputs": [
    {
     "name": "stdout",
     "output_type": "stream",
     "text": [
      "Mean Accuracy:  71.582 % Variance:  1.378 %\n"
     ]
    }
   ],
   "source": [
    "# Cross-validation On Traing set:\n",
    "\n",
    "cv_scores = cross_val_score(enr, X_train_transformed, y_train, cv=5)\n",
    "print('Mean Accuracy: ', round(cv_scores.mean()*100, 3), '% Variance: ', round(cv_scores.var()*100, 3),'%')"
   ]
  },
  {
   "cell_type": "code",
   "execution_count": 62,
   "id": "9044f9ad",
   "metadata": {},
   "outputs": [
    {
     "data": {
      "text/html": [
       "<div>\n",
       "<style scoped>\n",
       "    .dataframe tbody tr th:only-of-type {\n",
       "        vertical-align: middle;\n",
       "    }\n",
       "\n",
       "    .dataframe tbody tr th {\n",
       "        vertical-align: top;\n",
       "    }\n",
       "\n",
       "    .dataframe thead th {\n",
       "        text-align: right;\n",
       "    }\n",
       "</style>\n",
       "<table border=\"1\" class=\"dataframe\">\n",
       "  <thead>\n",
       "    <tr style=\"text-align: right;\">\n",
       "      <th></th>\n",
       "      <th>Model</th>\n",
       "      <th>Mean Accuracy</th>\n",
       "      <th>Std Accuracy</th>\n",
       "    </tr>\n",
       "  </thead>\n",
       "  <tbody>\n",
       "    <tr>\n",
       "      <th>0</th>\n",
       "      <td>ElasticNet</td>\n",
       "      <td>71.582</td>\n",
       "      <td>1.174</td>\n",
       "    </tr>\n",
       "  </tbody>\n",
       "</table>\n",
       "</div>"
      ],
      "text/plain": [
       "        Model  Mean Accuracy  Std Accuracy\n",
       "0  ElasticNet         71.582         1.174"
      ]
     },
     "execution_count": 62,
     "metadata": {},
     "output_type": "execute_result"
    }
   ],
   "source": [
    "# Calculate mean and variance of the cross-validation scores On Training set:\n",
    "mean_accuracy = cv_scores.mean() * 100\n",
    "var_accuracy = cv_scores.var() * 100\n",
    "\n",
    "# Calculate standard deviation from variance\n",
    "std_accuracy = np.sqrt(var_accuracy)\n",
    "\n",
    "# Create a DataFrame to store the results\n",
    "CV_ElasticNet = pd.DataFrame({\n",
    "    'Mean Accuracy': [round(mean_accuracy, 3)],\n",
    "    'Std Accuracy': [round(std_accuracy, 3)]})\n",
    "\n",
    "# Add a new column to the DataFrame\n",
    "MODEL = [\"ElasticNet\"] * len(CV_ElasticNet)  \n",
    "CV_ElasticNet = pd.concat([pd.Series(MODEL, name='Model'), CV_ElasticNet], axis=1)\n",
    "\n",
    "CV_ElasticNet"
   ]
  },
  {
   "cell_type": "code",
   "execution_count": 63,
   "id": "0daf2cb4",
   "metadata": {},
   "outputs": [
    {
     "data": {
      "image/png": "[encoded data removed]",
      "text/plain": [
       "<Figure size 600x300 with 1 Axes>"
      ]
     },
     "metadata": {},
     "output_type": "display_data"
    }
   ],
   "source": [
    "# Ploting the learning curve:\n",
    "\n",
    "from sklearn.model_selection import learning_curve\n",
    "train_sizes, train_scores, test_scores = learning_curve(estimator=enr, X=X_train_transformed, y=y_train,\n",
    "                                                       cv=10, train_sizes=np.linspace(0.1, 1.0, 10), n_jobs=-1)\n",
    "\n",
    "plt.figure(figsize=(6,3))\n",
    "# Calculate training and test mean and std\n",
    "\n",
    "train_mean = np.mean(train_scores, axis=1)\n",
    "train_std = np.std(train_scores, axis=1)\n",
    "test_mean = np.mean(test_scores, axis=1)\n",
    "test_std = np.std(test_scores, axis=1)\n",
    "\n",
    "# Plot the learning curve\n",
    "\n",
    "plt.plot(train_sizes, train_mean, color='blue', marker='o', markersize=5, label='Training Score')\n",
    "plt.fill_between(train_sizes, train_mean + train_std, train_mean - train_std, alpha=0.15, color='blue')\n",
    "\n",
    "plt.plot(train_sizes, test_mean, color='green', marker='o', markersize=5, label='Cross-Validation Score')\n",
    "plt.fill_between(train_sizes, test_mean + test_std, test_mean - test_std, alpha=0.15, color='green')\n",
    "\n",
    "plt.title('ElasticNet Learning Curve ')\n",
    "plt.xlabel('Training Example', fontsize=12)\n",
    "plt.ylabel('Accuracy Score', fontsize=12)\n",
    "\n",
    "plt.legend(loc='lower center', fontsize=8)\n",
    "plt.show()"
   ]
  },
  {
   "cell_type": "markdown",
   "id": "584f8f45",
   "metadata": {},
   "source": [
    "**Bayesian Ridge regression**"
   ]
  },
  {
   "cell_type": "code",
   "execution_count": 64,
   "id": "9d4a0d48",
   "metadata": {},
   "outputs": [],
   "source": [
    "from sklearn.linear_model import BayesianRidge"
   ]
  },
  {
   "cell_type": "code",
   "execution_count": 65,
   "id": "7813770b",
   "metadata": {},
   "outputs": [
    {
     "data": {
      "text/html": [
       "<style>#sk-container-id-5 {color: black;background-color: white;}#sk-container-id-5 pre{padding: 0;}#sk-container-id-5 div.sk-toggleable {background-color: white;}#sk-container-id-5 label.sk-toggleable__label {cursor: pointer;display: block;width: 100%;margin-bottom: 0;padding: 0.3em;box-sizing: border-box;text-align: center;}#sk-container-id-5 label.sk-toggleable__label-arrow:before {content: \"▸\";float: left;margin-right: 0.25em;color: #696969;}#sk-container-id-5 label.sk-toggleable__label-arrow:hover:before {color: black;}#sk-container-id-5 div.sk-estimator:hover label.sk-toggleable__label-arrow:before {color: black;}#sk-container-id-5 div.sk-toggleable__content {max-height: 0;max-width: 0;overflow: hidden;text-align: left;background-color: #f0f8ff;}#sk-container-id-5 div.sk-toggleable__content pre {margin: 0.2em;color: black;border-radius: 0.25em;background-color: #f0f8ff;}#sk-container-id-5 input.sk-toggleable__control:checked~div.sk-toggleable__content {max-height: 200px;max-width: 100%;overflow: auto;}#sk-container-id-5 input.sk-toggleable__control:checked~label.sk-toggleable__label-arrow:before {content: \"▾\";}#sk-container-id-5 div.sk-estimator input.sk-toggleable__control:checked~label.sk-toggleable__label {background-color: #d4ebff;}#sk-container-id-5 div.sk-label input.sk-toggleable__control:checked~label.sk-toggleable__label {background-color: #d4ebff;}#sk-container-id-5 input.sk-hidden--visually {border: 0;clip: rect(1px 1px 1px 1px);clip: rect(1px, 1px, 1px, 1px);height: 1px;margin: -1px;overflow: hidden;padding: 0;position: absolute;width: 1px;}#sk-container-id-5 div.sk-estimator {font-family: monospace;background-color: #f0f8ff;border: 1px dotted black;border-radius: 0.25em;box-sizing: border-box;margin-bottom: 0.5em;}#sk-container-id-5 div.sk-estimator:hover {background-color: #d4ebff;}#sk-container-id-5 div.sk-parallel-item::after {content: \"\";width: 100%;border-bottom: 1px solid gray;flex-grow: 1;}#sk-container-id-5 div.sk-label:hover label.sk-toggleable__label {background-color: #d4ebff;}#sk-container-id-5 div.sk-serial::before {content: \"\";position: absolute;border-left: 1px solid gray;box-sizing: border-box;top: 0;bottom: 0;left: 50%;z-index: 0;}#sk-container-id-5 div.sk-serial {display: flex;flex-direction: column;align-items: center;background-color: white;padding-right: 0.2em;padding-left: 0.2em;position: relative;}#sk-container-id-5 div.sk-item {position: relative;z-index: 1;}#sk-container-id-5 div.sk-parallel {display: flex;align-items: stretch;justify-content: center;background-color: white;position: relative;}#sk-container-id-5 div.sk-item::before, #sk-container-id-5 div.sk-parallel-item::before {content: \"\";position: absolute;border-left: 1px solid gray;box-sizing: border-box;top: 0;bottom: 0;left: 50%;z-index: -1;}#sk-container-id-5 div.sk-parallel-item {display: flex;flex-direction: column;z-index: 1;position: relative;background-color: white;}#sk-container-id-5 div.sk-parallel-item:first-child::after {align-self: flex-end;width: 50%;}#sk-container-id-5 div.sk-parallel-item:last-child::after {align-self: flex-start;width: 50%;}#sk-container-id-5 div.sk-parallel-item:only-child::after {width: 0;}#sk-container-id-5 div.sk-dashed-wrapped {border: 1px dashed gray;margin: 0 0.4em 0.5em 0.4em;box-sizing: border-box;padding-bottom: 0.4em;background-color: white;}#sk-container-id-5 div.sk-label label {font-family: monospace;font-weight: bold;display: inline-block;line-height: 1.2em;}#sk-container-id-5 div.sk-label-container {text-align: center;}#sk-container-id-5 div.sk-container {/* jupyter's `normalize.less` sets `[hidden] { display: none; }` but bootstrap.min.css set `[hidden] { display: none !important; }` so we also need the `!important` here to be able to override the default hidden behavior on the sphinx rendered scikit-learn.org. See: https://github.com/scikit-learn/scikit-learn/issues/21755 */display: inline-block !important;position: relative;}#sk-container-id-5 div.sk-text-repr-fallback {display: none;}</style><div id=\"sk-container-id-5\" class=\"sk-top-container\"><div class=\"sk-text-repr-fallback\"><pre>BayesianRidge()</pre><b>In a Jupyter environment, please rerun this cell to show the HTML representation or trust the notebook. <br />On GitHub, the HTML representation is unable to render, please try loading this page with nbviewer.org.</b></div><div class=\"sk-container\" hidden><div class=\"sk-item\"><div class=\"sk-estimator sk-toggleable\"><input class=\"sk-toggleable__control sk-hidden--visually\" id=\"sk-estimator-id-5\" type=\"checkbox\" checked><label for=\"sk-estimator-id-5\" class=\"sk-toggleable__label sk-toggleable__label-arrow\">BayesianRidge</label><div class=\"sk-toggleable__content\"><pre>BayesianRidge()</pre></div></div></div></div></div>"
      ],
      "text/plain": [
       "BayesianRidge()"
      ]
     },
     "execution_count": 65,
     "metadata": {},
     "output_type": "execute_result"
    }
   ],
   "source": [
    "bayesian_reg = BayesianRidge()\n",
    "bayesian_reg.fit(X_train_transformed, y_train)"
   ]
  },
  {
   "cell_type": "code",
   "execution_count": 66,
   "id": "eb3039e4",
   "metadata": {},
   "outputs": [],
   "source": [
    "y_pred =bayesian_reg.predict(X_test_transformed)\n",
    "#y_pred"
   ]
  },
  {
   "cell_type": "code",
   "execution_count": 67,
   "id": "b7ca7874",
   "metadata": {},
   "outputs": [],
   "source": [
    "MSE= round(mean_squared_error(y_test, y_pred),3)\n",
    "MAE= round(metrics.mean_absolute_error(y_test, y_pred),3)\n",
    "R2_Score= round(metrics.r2_score(y_test, y_pred),3)\n",
    "RMSE= round(np.sqrt(mean_squared_error(y_test, y_pred)),3)"
   ]
  },
  {
   "cell_type": "code",
   "execution_count": 68,
   "id": "dde2c1a9",
   "metadata": {},
   "outputs": [
    {
     "data": {
      "text/html": [
       "<div>\n",
       "<style scoped>\n",
       "    .dataframe tbody tr th:only-of-type {\n",
       "        vertical-align: middle;\n",
       "    }\n",
       "\n",
       "    .dataframe tbody tr th {\n",
       "        vertical-align: top;\n",
       "    }\n",
       "\n",
       "    .dataframe thead th {\n",
       "        text-align: right;\n",
       "    }\n",
       "</style>\n",
       "<table border=\"1\" class=\"dataframe\">\n",
       "  <thead>\n",
       "    <tr style=\"text-align: right;\">\n",
       "      <th></th>\n",
       "      <th>Model</th>\n",
       "      <th>MSE</th>\n",
       "      <th>MAE</th>\n",
       "      <th>R2_Score</th>\n",
       "      <th>RMSE</th>\n",
       "    </tr>\n",
       "  </thead>\n",
       "  <tbody>\n",
       "    <tr>\n",
       "      <th>0</th>\n",
       "      <td>Bayesian_Reg</td>\n",
       "      <td>0.012</td>\n",
       "      <td>0.038</td>\n",
       "      <td>0.83</td>\n",
       "      <td>0.11</td>\n",
       "    </tr>\n",
       "  </tbody>\n",
       "</table>\n",
       "</div>"
      ],
      "text/plain": [
       "          Model    MSE    MAE  R2_Score  RMSE\n",
       "0  Bayesian_Reg  0.012  0.038      0.83  0.11"
      ]
     },
     "execution_count": 68,
     "metadata": {},
     "output_type": "execute_result"
    }
   ],
   "source": [
    "Results_Bayesian_Reg = pd.DataFrame([['Bayesian_Reg', MSE , MAE, R2_Score , RMSE]],\n",
    "               columns = ['Model', 'MSE', 'MAE', 'R2_Score' , 'RMSE'])\n",
    "Results_Bayesian_Reg"
   ]
  },
  {
   "cell_type": "code",
   "execution_count": 69,
   "id": "e4aef4e3",
   "metadata": {},
   "outputs": [
    {
     "name": "stdout",
     "output_type": "stream",
     "text": [
      "Scores: [0.16041003 0.14725308 0.10373986 0.08050345 0.11360748]\n",
      "Mean: 0.12110278044120952\n",
      "Standard deviation: 0.02910276261019348\n"
     ]
    }
   ],
   "source": [
    "# Cross-validation On Traing set:\n",
    "\n",
    "scores = cross_val_score(bayesian_reg, X_train_transformed, y_train, cv=5, scoring='neg_mean_squared_error')\n",
    "\n",
    "print(\"Scores:\", np.sqrt(-scores))\n",
    "print(\"Mean:\", np.sqrt(-scores).mean())\n",
    "print(\"Standard deviation:\", np.sqrt(-scores).std())"
   ]
  },
  {
   "cell_type": "code",
   "execution_count": 70,
   "id": "15033fd9",
   "metadata": {},
   "outputs": [
    {
     "name": "stdout",
     "output_type": "stream",
     "text": [
      "Mean Accuracy:  72.563 % Variance:  1.108 %\n"
     ]
    }
   ],
   "source": [
    "# Cross-validation On Traing set:\n",
    "\n",
    "cv_scores = cross_val_score(bayesian_reg, X_train_transformed, y_train, cv=5)\n",
    "print('Mean Accuracy: ', round(cv_scores.mean()*100, 3), '% Variance: ', round(cv_scores.var()*100, 3),'%')"
   ]
  },
  {
   "cell_type": "code",
   "execution_count": 71,
   "id": "bae71d6a",
   "metadata": {},
   "outputs": [
    {
     "data": {
      "text/html": [
       "<div>\n",
       "<style scoped>\n",
       "    .dataframe tbody tr th:only-of-type {\n",
       "        vertical-align: middle;\n",
       "    }\n",
       "\n",
       "    .dataframe tbody tr th {\n",
       "        vertical-align: top;\n",
       "    }\n",
       "\n",
       "    .dataframe thead th {\n",
       "        text-align: right;\n",
       "    }\n",
       "</style>\n",
       "<table border=\"1\" class=\"dataframe\">\n",
       "  <thead>\n",
       "    <tr style=\"text-align: right;\">\n",
       "      <th></th>\n",
       "      <th>Model</th>\n",
       "      <th>Mean Accuracy</th>\n",
       "      <th>Std Accuracy</th>\n",
       "    </tr>\n",
       "  </thead>\n",
       "  <tbody>\n",
       "    <tr>\n",
       "      <th>0</th>\n",
       "      <td>Bayesian_Reg</td>\n",
       "      <td>72.563</td>\n",
       "      <td>1.053</td>\n",
       "    </tr>\n",
       "  </tbody>\n",
       "</table>\n",
       "</div>"
      ],
      "text/plain": [
       "          Model  Mean Accuracy  Std Accuracy\n",
       "0  Bayesian_Reg         72.563         1.053"
      ]
     },
     "execution_count": 71,
     "metadata": {},
     "output_type": "execute_result"
    }
   ],
   "source": [
    "# Calculate mean and variance of the cross-validation scores On Training set:\n",
    "mean_accuracy = cv_scores.mean() * 100\n",
    "var_accuracy = cv_scores.var() * 100\n",
    "\n",
    "# Calculate standard deviation from variance\n",
    "std_accuracy = np.sqrt(var_accuracy)\n",
    "\n",
    "# Create a DataFrame to store the results\n",
    "CV_Bayesian_Reg = pd.DataFrame({\n",
    "    'Mean Accuracy': [round(mean_accuracy, 3)],\n",
    "    'Std Accuracy': [round(std_accuracy, 3)]})\n",
    "\n",
    "# Add a new column to the DataFrame\n",
    "MODEL = [\"Bayesian_Reg\"] * len(CV_Bayesian_Reg) \n",
    "CV_Bayesian_Reg = pd.concat([pd.Series(MODEL, name='Model'), CV_Bayesian_Reg], axis=1)\n",
    "\n",
    "CV_Bayesian_Reg"
   ]
  },
  {
   "cell_type": "code",
   "execution_count": 72,
   "id": "cc93257c",
   "metadata": {},
   "outputs": [
    {
     "data": {
      "image/png": "[encoded data removed]",
      "text/plain": [
       "<Figure size 600x300 with 1 Axes>"
      ]
     },
     "metadata": {},
     "output_type": "display_data"
    }
   ],
   "source": [
    "# Ploting the learning curve:\n",
    "\n",
    "from sklearn.model_selection import learning_curve\n",
    "train_sizes, train_scores, test_scores = learning_curve(estimator=bayesian_reg, X=X_train_transformed, y=y_train,\n",
    "                                                       cv=10, train_sizes=np.linspace(0.1, 1.0, 10), n_jobs=-1)\n",
    "\n",
    "plt.figure(figsize=(6,3))\n",
    "# Calculate training and test mean and std\n",
    "\n",
    "train_mean = np.mean(train_scores, axis=1)\n",
    "train_std = np.std(train_scores, axis=1)\n",
    "test_mean = np.mean(test_scores, axis=1)\n",
    "test_std = np.std(test_scores, axis=1)\n",
    "\n",
    "# Plot the learning curve\n",
    "\n",
    "plt.plot(train_sizes, train_mean, color='blue', marker='o', markersize=5, label='Training Score')\n",
    "plt.fill_between(train_sizes, train_mean + train_std, train_mean - train_std, alpha=0.15, color='blue')\n",
    "\n",
    "plt.plot(train_sizes, test_mean, color='green', marker='o', markersize=5, label='Cross-Validation Score')\n",
    "plt.fill_between(train_sizes, test_mean + test_std, test_mean - test_std, alpha=0.15, color='green')\n",
    "\n",
    "plt.title('Bayesian Regression Learning Curve ')\n",
    "plt.xlabel('Training Example', fontsize=12)\n",
    "plt.ylabel('Accuracy Score', fontsize=12)\n",
    "\n",
    "plt.legend(loc='lower center', fontsize=8)\n",
    "plt.show()"
   ]
  },
  {
   "cell_type": "markdown",
   "id": "dcdc3976",
   "metadata": {},
   "source": [
    "**Decision Tree Regressor**"
   ]
  },
  {
   "cell_type": "code",
   "execution_count": 73,
   "id": "655b4720",
   "metadata": {},
   "outputs": [],
   "source": [
    "from sklearn.tree import DecisionTreeRegressor"
   ]
  },
  {
   "cell_type": "code",
   "execution_count": 74,
   "id": "6020447e",
   "metadata": {},
   "outputs": [
    {
     "data": {
      "text/html": [
       "<style>#sk-container-id-6 {color: black;background-color: white;}#sk-container-id-6 pre{padding: 0;}#sk-container-id-6 div.sk-toggleable {background-color: white;}#sk-container-id-6 label.sk-toggleable__label {cursor: pointer;display: block;width: 100%;margin-bottom: 0;padding: 0.3em;box-sizing: border-box;text-align: center;}#sk-container-id-6 label.sk-toggleable__label-arrow:before {content: \"▸\";float: left;margin-right: 0.25em;color: #696969;}#sk-container-id-6 label.sk-toggleable__label-arrow:hover:before {color: black;}#sk-container-id-6 div.sk-estimator:hover label.sk-toggleable__label-arrow:before {color: black;}#sk-container-id-6 div.sk-toggleable__content {max-height: 0;max-width: 0;overflow: hidden;text-align: left;background-color: #f0f8ff;}#sk-container-id-6 div.sk-toggleable__content pre {margin: 0.2em;color: black;border-radius: 0.25em;background-color: #f0f8ff;}#sk-container-id-6 input.sk-toggleable__control:checked~div.sk-toggleable__content {max-height: 200px;max-width: 100%;overflow: auto;}#sk-container-id-6 input.sk-toggleable__control:checked~label.sk-toggleable__label-arrow:before {content: \"▾\";}#sk-container-id-6 div.sk-estimator input.sk-toggleable__control:checked~label.sk-toggleable__label {background-color: #d4ebff;}#sk-container-id-6 div.sk-label input.sk-toggleable__control:checked~label.sk-toggleable__label {background-color: #d4ebff;}#sk-container-id-6 input.sk-hidden--visually {border: 0;clip: rect(1px 1px 1px 1px);clip: rect(1px, 1px, 1px, 1px);height: 1px;margin: -1px;overflow: hidden;padding: 0;position: absolute;width: 1px;}#sk-container-id-6 div.sk-estimator {font-family: monospace;background-color: #f0f8ff;border: 1px dotted black;border-radius: 0.25em;box-sizing: border-box;margin-bottom: 0.5em;}#sk-container-id-6 div.sk-estimator:hover {background-color: #d4ebff;}#sk-container-id-6 div.sk-parallel-item::after {content: \"\";width: 100%;border-bottom: 1px solid gray;flex-grow: 1;}#sk-container-id-6 div.sk-label:hover label.sk-toggleable__label {background-color: #d4ebff;}#sk-container-id-6 div.sk-serial::before {content: \"\";position: absolute;border-left: 1px solid gray;box-sizing: border-box;top: 0;bottom: 0;left: 50%;z-index: 0;}#sk-container-id-6 div.sk-serial {display: flex;flex-direction: column;align-items: center;background-color: white;padding-right: 0.2em;padding-left: 0.2em;position: relative;}#sk-container-id-6 div.sk-item {position: relative;z-index: 1;}#sk-container-id-6 div.sk-parallel {display: flex;align-items: stretch;justify-content: center;background-color: white;position: relative;}#sk-container-id-6 div.sk-item::before, #sk-container-id-6 div.sk-parallel-item::before {content: \"\";position: absolute;border-left: 1px solid gray;box-sizing: border-box;top: 0;bottom: 0;left: 50%;z-index: -1;}#sk-container-id-6 div.sk-parallel-item {display: flex;flex-direction: column;z-index: 1;position: relative;background-color: white;}#sk-container-id-6 div.sk-parallel-item:first-child::after {align-self: flex-end;width: 50%;}#sk-container-id-6 div.sk-parallel-item:last-child::after {align-self: flex-start;width: 50%;}#sk-container-id-6 div.sk-parallel-item:only-child::after {width: 0;}#sk-container-id-6 div.sk-dashed-wrapped {border: 1px dashed gray;margin: 0 0.4em 0.5em 0.4em;box-sizing: border-box;padding-bottom: 0.4em;background-color: white;}#sk-container-id-6 div.sk-label label {font-family: monospace;font-weight: bold;display: inline-block;line-height: 1.2em;}#sk-container-id-6 div.sk-label-container {text-align: center;}#sk-container-id-6 div.sk-container {/* jupyter's `normalize.less` sets `[hidden] { display: none; }` but bootstrap.min.css set `[hidden] { display: none !important; }` so we also need the `!important` here to be able to override the default hidden behavior on the sphinx rendered scikit-learn.org. See: https://github.com/scikit-learn/scikit-learn/issues/21755 */display: inline-block !important;position: relative;}#sk-container-id-6 div.sk-text-repr-fallback {display: none;}</style><div id=\"sk-container-id-6\" class=\"sk-top-container\"><div class=\"sk-text-repr-fallback\"><pre>DecisionTreeRegressor(max_depth=5)</pre><b>In a Jupyter environment, please rerun this cell to show the HTML representation or trust the notebook. <br />On GitHub, the HTML representation is unable to render, please try loading this page with nbviewer.org.</b></div><div class=\"sk-container\" hidden><div class=\"sk-item\"><div class=\"sk-estimator sk-toggleable\"><input class=\"sk-toggleable__control sk-hidden--visually\" id=\"sk-estimator-id-6\" type=\"checkbox\" checked><label for=\"sk-estimator-id-6\" class=\"sk-toggleable__label sk-toggleable__label-arrow\">DecisionTreeRegressor</label><div class=\"sk-toggleable__content\"><pre>DecisionTreeRegressor(max_depth=5)</pre></div></div></div></div></div>"
      ],
      "text/plain": [
       "DecisionTreeRegressor(max_depth=5)"
      ]
     },
     "execution_count": 74,
     "metadata": {},
     "output_type": "execute_result"
    }
   ],
   "source": [
    "tree_reg = DecisionTreeRegressor(max_depth=5)\n",
    "tree_reg.fit(X_train_transformed, y_train)"
   ]
  },
  {
   "cell_type": "code",
   "execution_count": 75,
   "id": "94b6fd3b",
   "metadata": {},
   "outputs": [],
   "source": [
    "y_pred =tree_reg.predict(X_test_transformed)"
   ]
  },
  {
   "cell_type": "code",
   "execution_count": 76,
   "id": "41c85452",
   "metadata": {},
   "outputs": [],
   "source": [
    "MSE= round(mean_squared_error(y_test, y_pred),3)\n",
    "MAE= round(metrics.mean_absolute_error(y_test, y_pred),3)\n",
    "R2_Score= round(metrics.r2_score(y_test, y_pred),3)\n",
    "RMSE= round(np.sqrt(mean_squared_error(y_test, y_pred)),3)"
   ]
  },
  {
   "cell_type": "code",
   "execution_count": 77,
   "id": "e609a794",
   "metadata": {},
   "outputs": [
    {
     "data": {
      "text/html": [
       "<div>\n",
       "<style scoped>\n",
       "    .dataframe tbody tr th:only-of-type {\n",
       "        vertical-align: middle;\n",
       "    }\n",
       "\n",
       "    .dataframe tbody tr th {\n",
       "        vertical-align: top;\n",
       "    }\n",
       "\n",
       "    .dataframe thead th {\n",
       "        text-align: right;\n",
       "    }\n",
       "</style>\n",
       "<table border=\"1\" class=\"dataframe\">\n",
       "  <thead>\n",
       "    <tr style=\"text-align: right;\">\n",
       "      <th></th>\n",
       "      <th>Model</th>\n",
       "      <th>MSE</th>\n",
       "      <th>MAE</th>\n",
       "      <th>R2_Score</th>\n",
       "      <th>RMSE</th>\n",
       "    </tr>\n",
       "  </thead>\n",
       "  <tbody>\n",
       "    <tr>\n",
       "      <th>0</th>\n",
       "      <td>Decision Tree</td>\n",
       "      <td>0.009</td>\n",
       "      <td>0.015</td>\n",
       "      <td>0.87</td>\n",
       "      <td>0.096</td>\n",
       "    </tr>\n",
       "  </tbody>\n",
       "</table>\n",
       "</div>"
      ],
      "text/plain": [
       "           Model    MSE    MAE  R2_Score   RMSE\n",
       "0  Decision Tree  0.009  0.015      0.87  0.096"
      ]
     },
     "execution_count": 77,
     "metadata": {},
     "output_type": "execute_result"
    }
   ],
   "source": [
    "Results_DecisionTree = pd.DataFrame([['Decision Tree', MSE , MAE, R2_Score , RMSE]],\n",
    "               columns = ['Model', 'MSE', 'MAE', 'R2_Score' , 'RMSE'])\n",
    "Results_DecisionTree"
   ]
  },
  {
   "cell_type": "code",
   "execution_count": 78,
   "id": "72439e08",
   "metadata": {},
   "outputs": [
    {
     "name": "stdout",
     "output_type": "stream",
     "text": [
      "Scores: [0.11480092 0.09987092 0.06151251 0.06311771 0.05796197]\n",
      "Mean: 0.07945280536726305\n",
      "Standard deviation: 0.02331065904436892\n"
     ]
    }
   ],
   "source": [
    "# Cross-validation On Traing set:\n",
    "\n",
    "scores = cross_val_score(tree_reg, X_train_transformed, y_train, cv=5, scoring='neg_mean_squared_error')\n",
    "\n",
    "print(\"Scores:\", np.sqrt(-scores))\n",
    "print(\"Mean:\", np.sqrt(-scores).mean())\n",
    "print(\"Standard deviation:\", np.sqrt(-scores).std())"
   ]
  },
  {
   "cell_type": "code",
   "execution_count": 79,
   "id": "aefcff35",
   "metadata": {},
   "outputs": [
    {
     "name": "stdout",
     "output_type": "stream",
     "text": [
      "Mean Accuracy:  86.439 % Variance:  0.641 %\n"
     ]
    }
   ],
   "source": [
    "# Cross-validation On Traing set:\n",
    "\n",
    "cv_scores = cross_val_score(tree_reg, X_train_transformed, y_train, cv=5)\n",
    "print('Mean Accuracy: ', round(cv_scores.mean()*100, 3), '% Variance: ', round(cv_scores.var()*100, 3),'%')"
   ]
  },
  {
   "cell_type": "code",
   "execution_count": 80,
   "id": "ee37f4d1",
   "metadata": {},
   "outputs": [
    {
     "data": {
      "text/html": [
       "<div>\n",
       "<style scoped>\n",
       "    .dataframe tbody tr th:only-of-type {\n",
       "        vertical-align: middle;\n",
       "    }\n",
       "\n",
       "    .dataframe tbody tr th {\n",
       "        vertical-align: top;\n",
       "    }\n",
       "\n",
       "    .dataframe thead th {\n",
       "        text-align: right;\n",
       "    }\n",
       "</style>\n",
       "<table border=\"1\" class=\"dataframe\">\n",
       "  <thead>\n",
       "    <tr style=\"text-align: right;\">\n",
       "      <th></th>\n",
       "      <th>Model</th>\n",
       "      <th>Mean Accuracy</th>\n",
       "      <th>Std Accuracy</th>\n",
       "    </tr>\n",
       "  </thead>\n",
       "  <tbody>\n",
       "    <tr>\n",
       "      <th>0</th>\n",
       "      <td>Decision Tree</td>\n",
       "      <td>86.439</td>\n",
       "      <td>0.801</td>\n",
       "    </tr>\n",
       "  </tbody>\n",
       "</table>\n",
       "</div>"
      ],
      "text/plain": [
       "           Model  Mean Accuracy  Std Accuracy\n",
       "0  Decision Tree         86.439         0.801"
      ]
     },
     "execution_count": 80,
     "metadata": {},
     "output_type": "execute_result"
    }
   ],
   "source": [
    "# Calculate mean and variance of the cross-validation scores On Training set:\n",
    "mean_accuracy = cv_scores.mean() * 100\n",
    "var_accuracy = cv_scores.var() * 100\n",
    "\n",
    "# Calculate standard deviation from variance\n",
    "std_accuracy = np.sqrt(var_accuracy)\n",
    "\n",
    "# Create a DataFrame to store the results\n",
    "CV_Desicion_Tree = pd.DataFrame({\n",
    "    'Mean Accuracy': [round(mean_accuracy, 3)],\n",
    "    'Std Accuracy': [round(std_accuracy, 3)]})\n",
    "\n",
    "# Add a new column to the DataFrame\n",
    "MODEL = [\"Decision Tree\"] * len(CV_Desicion_Tree) \n",
    "CV_Desicion_Tree = pd.concat([pd.Series(MODEL, name='Model'), CV_Desicion_Tree], axis=1)\n",
    "\n",
    "CV_Desicion_Tree"
   ]
  },
  {
   "cell_type": "code",
   "execution_count": 81,
   "id": "850eb03a",
   "metadata": {},
   "outputs": [
    {
     "data": {
      "image/png": "[encoded data removed]",
      "text/plain": [
       "<Figure size 600x300 with 1 Axes>"
      ]
     },
     "metadata": {},
     "output_type": "display_data"
    }
   ],
   "source": [
    "# Ploting the learning curve:\n",
    "\n",
    "from sklearn.model_selection import learning_curve\n",
    "train_sizes, train_scores, test_scores = learning_curve(estimator=tree_reg, X=X_train_transformed, y=y_train,\n",
    "                                                       cv=10, train_sizes=np.linspace(0.1, 1.0, 10), n_jobs=-1)\n",
    "\n",
    "plt.figure(figsize=(6,3))\n",
    "# Calculate training and test mean and std\n",
    "\n",
    "train_mean = np.mean(train_scores, axis=1)\n",
    "train_std = np.std(train_scores, axis=1)\n",
    "test_mean = np.mean(test_scores, axis=1)\n",
    "test_std = np.std(test_scores, axis=1)\n",
    "\n",
    "# Plot the learning curve\n",
    "\n",
    "plt.plot(train_sizes, train_mean, color='blue', marker='o', markersize=5, label='Training Score')\n",
    "plt.fill_between(train_sizes, train_mean + train_std, train_mean - train_std, alpha=0.15, color='blue')\n",
    "\n",
    "plt.plot(train_sizes, test_mean, color='green', marker='o', markersize=5, label='Cross-Validation Score')\n",
    "plt.fill_between(train_sizes, test_mean + test_std, test_mean - test_std, alpha=0.15, color='green')\n",
    "\n",
    "plt.title('Desicion Tree Regression Learning Curve ')\n",
    "plt.xlabel('Training Example', fontsize=12)\n",
    "plt.ylabel('Accuracy Score', fontsize=12)\n",
    "\n",
    "plt.legend(loc='lower center', fontsize=8)\n",
    "plt.show()"
   ]
  },
  {
   "cell_type": "markdown",
   "id": "208dc69f",
   "metadata": {},
   "source": [
    "**Linear SVM Regression**"
   ]
  },
  {
   "cell_type": "code",
   "execution_count": 82,
   "id": "61801900",
   "metadata": {},
   "outputs": [],
   "source": [
    "from sklearn.svm import LinearSVR"
   ]
  },
  {
   "cell_type": "code",
   "execution_count": 83,
   "id": "79d76ccf",
   "metadata": {},
   "outputs": [
    {
     "data": {
      "text/html": [
       "<style>#sk-container-id-7 {color: black;background-color: white;}#sk-container-id-7 pre{padding: 0;}#sk-container-id-7 div.sk-toggleable {background-color: white;}#sk-container-id-7 label.sk-toggleable__label {cursor: pointer;display: block;width: 100%;margin-bottom: 0;padding: 0.3em;box-sizing: border-box;text-align: center;}#sk-container-id-7 label.sk-toggleable__label-arrow:before {content: \"▸\";float: left;margin-right: 0.25em;color: #696969;}#sk-container-id-7 label.sk-toggleable__label-arrow:hover:before {color: black;}#sk-container-id-7 div.sk-estimator:hover label.sk-toggleable__label-arrow:before {color: black;}#sk-container-id-7 div.sk-toggleable__content {max-height: 0;max-width: 0;overflow: hidden;text-align: left;background-color: #f0f8ff;}#sk-container-id-7 div.sk-toggleable__content pre {margin: 0.2em;color: black;border-radius: 0.25em;background-color: #f0f8ff;}#sk-container-id-7 input.sk-toggleable__control:checked~div.sk-toggleable__content {max-height: 200px;max-width: 100%;overflow: auto;}#sk-container-id-7 input.sk-toggleable__control:checked~label.sk-toggleable__label-arrow:before {content: \"▾\";}#sk-container-id-7 div.sk-estimator input.sk-toggleable__control:checked~label.sk-toggleable__label {background-color: #d4ebff;}#sk-container-id-7 div.sk-label input.sk-toggleable__control:checked~label.sk-toggleable__label {background-color: #d4ebff;}#sk-container-id-7 input.sk-hidden--visually {border: 0;clip: rect(1px 1px 1px 1px);clip: rect(1px, 1px, 1px, 1px);height: 1px;margin: -1px;overflow: hidden;padding: 0;position: absolute;width: 1px;}#sk-container-id-7 div.sk-estimator {font-family: monospace;background-color: #f0f8ff;border: 1px dotted black;border-radius: 0.25em;box-sizing: border-box;margin-bottom: 0.5em;}#sk-container-id-7 div.sk-estimator:hover {background-color: #d4ebff;}#sk-container-id-7 div.sk-parallel-item::after {content: \"\";width: 100%;border-bottom: 1px solid gray;flex-grow: 1;}#sk-container-id-7 div.sk-label:hover label.sk-toggleable__label {background-color: #d4ebff;}#sk-container-id-7 div.sk-serial::before {content: \"\";position: absolute;border-left: 1px solid gray;box-sizing: border-box;top: 0;bottom: 0;left: 50%;z-index: 0;}#sk-container-id-7 div.sk-serial {display: flex;flex-direction: column;align-items: center;background-color: white;padding-right: 0.2em;padding-left: 0.2em;position: relative;}#sk-container-id-7 div.sk-item {position: relative;z-index: 1;}#sk-container-id-7 div.sk-parallel {display: flex;align-items: stretch;justify-content: center;background-color: white;position: relative;}#sk-container-id-7 div.sk-item::before, #sk-container-id-7 div.sk-parallel-item::before {content: \"\";position: absolute;border-left: 1px solid gray;box-sizing: border-box;top: 0;bottom: 0;left: 50%;z-index: -1;}#sk-container-id-7 div.sk-parallel-item {display: flex;flex-direction: column;z-index: 1;position: relative;background-color: white;}#sk-container-id-7 div.sk-parallel-item:first-child::after {align-self: flex-end;width: 50%;}#sk-container-id-7 div.sk-parallel-item:last-child::after {align-self: flex-start;width: 50%;}#sk-container-id-7 div.sk-parallel-item:only-child::after {width: 0;}#sk-container-id-7 div.sk-dashed-wrapped {border: 1px dashed gray;margin: 0 0.4em 0.5em 0.4em;box-sizing: border-box;padding-bottom: 0.4em;background-color: white;}#sk-container-id-7 div.sk-label label {font-family: monospace;font-weight: bold;display: inline-block;line-height: 1.2em;}#sk-container-id-7 div.sk-label-container {text-align: center;}#sk-container-id-7 div.sk-container {/* jupyter's `normalize.less` sets `[hidden] { display: none; }` but bootstrap.min.css set `[hidden] { display: none !important; }` so we also need the `!important` here to be able to override the default hidden behavior on the sphinx rendered scikit-learn.org. See: https://github.com/scikit-learn/scikit-learn/issues/21755 */display: inline-block !important;position: relative;}#sk-container-id-7 div.sk-text-repr-fallback {display: none;}</style><div id=\"sk-container-id-7\" class=\"sk-top-container\"><div class=\"sk-text-repr-fallback\"><pre>LinearSVR(epsilon=0.3)</pre><b>In a Jupyter environment, please rerun this cell to show the HTML representation or trust the notebook. <br />On GitHub, the HTML representation is unable to render, please try loading this page with nbviewer.org.</b></div><div class=\"sk-container\" hidden><div class=\"sk-item\"><div class=\"sk-estimator sk-toggleable\"><input class=\"sk-toggleable__control sk-hidden--visually\" id=\"sk-estimator-id-7\" type=\"checkbox\" checked><label for=\"sk-estimator-id-7\" class=\"sk-toggleable__label sk-toggleable__label-arrow\">LinearSVR</label><div class=\"sk-toggleable__content\"><pre>LinearSVR(epsilon=0.3)</pre></div></div></div></div></div>"
      ],
      "text/plain": [
       "LinearSVR(epsilon=0.3)"
      ]
     },
     "execution_count": 83,
     "metadata": {},
     "output_type": "execute_result"
    }
   ],
   "source": [
    "svm_reg = LinearSVR(epsilon = 0.3)\n",
    "svm_reg.fit(X_train_transformed, y_train)"
   ]
  },
  {
   "cell_type": "code",
   "execution_count": 84,
   "id": "1e4bb725",
   "metadata": {},
   "outputs": [],
   "source": [
    "y_pred =svm_reg.predict(X_test_transformed)"
   ]
  },
  {
   "cell_type": "code",
   "execution_count": 85,
   "id": "022d13c1",
   "metadata": {},
   "outputs": [],
   "source": [
    "MSE= round(mean_squared_error(y_test, y_pred),3)\n",
    "MAE= round(metrics.mean_absolute_error(y_test, y_pred),3)\n",
    "R2_Score= round(metrics.r2_score(y_test, y_pred),3)\n",
    "RMSE= round(np.sqrt(mean_squared_error(y_test, y_pred)),3)"
   ]
  },
  {
   "cell_type": "code",
   "execution_count": 86,
   "id": "571b5b15",
   "metadata": {},
   "outputs": [
    {
     "data": {
      "text/html": [
       "<div>\n",
       "<style scoped>\n",
       "    .dataframe tbody tr th:only-of-type {\n",
       "        vertical-align: middle;\n",
       "    }\n",
       "\n",
       "    .dataframe tbody tr th {\n",
       "        vertical-align: top;\n",
       "    }\n",
       "\n",
       "    .dataframe thead th {\n",
       "        text-align: right;\n",
       "    }\n",
       "</style>\n",
       "<table border=\"1\" class=\"dataframe\">\n",
       "  <thead>\n",
       "    <tr style=\"text-align: right;\">\n",
       "      <th></th>\n",
       "      <th>Model</th>\n",
       "      <th>MSE</th>\n",
       "      <th>MAE</th>\n",
       "      <th>R2_Score</th>\n",
       "      <th>RMSE</th>\n",
       "    </tr>\n",
       "  </thead>\n",
       "  <tbody>\n",
       "    <tr>\n",
       "      <th>0</th>\n",
       "      <td>SVM</td>\n",
       "      <td>0.08</td>\n",
       "      <td>0.257</td>\n",
       "      <td>-0.13</td>\n",
       "      <td>0.283</td>\n",
       "    </tr>\n",
       "  </tbody>\n",
       "</table>\n",
       "</div>"
      ],
      "text/plain": [
       "  Model   MSE    MAE  R2_Score   RMSE\n",
       "0   SVM  0.08  0.257     -0.13  0.283"
      ]
     },
     "execution_count": 86,
     "metadata": {},
     "output_type": "execute_result"
    }
   ],
   "source": [
    "Results_svm_reg = pd.DataFrame([['SVM', MSE , MAE, R2_Score , RMSE]],\n",
    "               columns = ['Model', 'MSE', 'MAE', 'R2_Score' , 'RMSE'])\n",
    "Results_svm_reg"
   ]
  },
  {
   "cell_type": "code",
   "execution_count": 87,
   "id": "16f7f47a",
   "metadata": {},
   "outputs": [
    {
     "name": "stdout",
     "output_type": "stream",
     "text": [
      "Scores: [0.31308675 0.32075649 0.27799854 0.29550461 0.29302903]\n",
      "Mean: 0.30007508409945516\n",
      "Standard deviation: 0.015198247126027626\n"
     ]
    }
   ],
   "source": [
    "# Cross-validation On Traing set:\n",
    "\n",
    "scores = cross_val_score(svm_reg, X_train_transformed, y_train, cv=5, scoring='neg_mean_squared_error')\n",
    "\n",
    "print(\"Scores:\", np.sqrt(-scores))\n",
    "print(\"Mean:\", np.sqrt(-scores).mean())\n",
    "print(\"Standard deviation:\", np.sqrt(-scores).std())"
   ]
  },
  {
   "cell_type": "code",
   "execution_count": 88,
   "id": "186d98f3",
   "metadata": {},
   "outputs": [
    {
     "name": "stdout",
     "output_type": "stream",
     "text": [
      "Mean Accuracy:  -82.162 % Variance:  2.431 %\n"
     ]
    }
   ],
   "source": [
    "# Cross-validation On Traing set:\n",
    "\n",
    "cv_scores = cross_val_score(svm_reg, X_train_transformed, y_train, cv=5)\n",
    "print('Mean Accuracy: ', round(cv_scores.mean()*100, 3), '% Variance: ', round(cv_scores.var()*100, 3),'%')"
   ]
  },
  {
   "cell_type": "code",
   "execution_count": 89,
   "id": "0af2d37d",
   "metadata": {},
   "outputs": [
    {
     "data": {
      "text/html": [
       "<div>\n",
       "<style scoped>\n",
       "    .dataframe tbody tr th:only-of-type {\n",
       "        vertical-align: middle;\n",
       "    }\n",
       "\n",
       "    .dataframe tbody tr th {\n",
       "        vertical-align: top;\n",
       "    }\n",
       "\n",
       "    .dataframe thead th {\n",
       "        text-align: right;\n",
       "    }\n",
       "</style>\n",
       "<table border=\"1\" class=\"dataframe\">\n",
       "  <thead>\n",
       "    <tr style=\"text-align: right;\">\n",
       "      <th></th>\n",
       "      <th>Model</th>\n",
       "      <th>Mean Accuracy</th>\n",
       "      <th>Std Accuracy</th>\n",
       "    </tr>\n",
       "  </thead>\n",
       "  <tbody>\n",
       "    <tr>\n",
       "      <th>0</th>\n",
       "      <td>CV_SVM_Reg</td>\n",
       "      <td>-82.162</td>\n",
       "      <td>1.559</td>\n",
       "    </tr>\n",
       "  </tbody>\n",
       "</table>\n",
       "</div>"
      ],
      "text/plain": [
       "        Model  Mean Accuracy  Std Accuracy\n",
       "0  CV_SVM_Reg        -82.162         1.559"
      ]
     },
     "execution_count": 89,
     "metadata": {},
     "output_type": "execute_result"
    }
   ],
   "source": [
    "# Calculate mean and variance of the cross-validation scores On Training set:\n",
    "mean_accuracy = cv_scores.mean() * 100\n",
    "var_accuracy = cv_scores.var() * 100\n",
    "\n",
    "# Calculate standard deviation from variance\n",
    "std_accuracy = np.sqrt(var_accuracy)\n",
    "\n",
    "# Create a DataFrame to store the results\n",
    "CV_SVM_Reg  = pd.DataFrame({\n",
    "    'Mean Accuracy': [round(mean_accuracy, 3)],\n",
    "    'Std Accuracy': [round(std_accuracy, 3)]})\n",
    "\n",
    "# Add a new column to the DataFrame\n",
    "MODEL = [\"CV_SVM_Reg\"] * len(CV_SVM_Reg ) \n",
    "CV_SVM_Reg  = pd.concat([pd.Series(MODEL, name='Model'), CV_SVM_Reg  ], axis=1)\n",
    "\n",
    "CV_SVM_Reg "
   ]
  },
  {
   "cell_type": "code",
   "execution_count": 90,
   "id": "88ff1dd0",
   "metadata": {},
   "outputs": [
    {
     "data": {
      "image/png": "[encoded data removed]",
      "text/plain": [
       "<Figure size 600x300 with 1 Axes>"
      ]
     },
     "metadata": {},
     "output_type": "display_data"
    }
   ],
   "source": [
    "# Ploting the learning curve:\n",
    "\n",
    "from sklearn.model_selection import learning_curve\n",
    "train_sizes, train_scores, test_scores = learning_curve(estimator=svm_reg, X=X_train_transformed, y=y_train,\n",
    "                                                       cv=10, train_sizes=np.linspace(0.1, 1.0, 10), n_jobs=-1)\n",
    "\n",
    "plt.figure(figsize=(6,3))\n",
    "# Calculate training and test mean and std\n",
    "\n",
    "train_mean = np.mean(train_scores, axis=1)\n",
    "train_std = np.std(train_scores, axis=1)\n",
    "test_mean = np.mean(test_scores, axis=1)\n",
    "test_std = np.std(test_scores, axis=1)\n",
    "\n",
    "# Plot the learning curve\n",
    "\n",
    "plt.plot(train_sizes, train_mean, color='blue', marker='o', markersize=5, label='Training Score')\n",
    "plt.fill_between(train_sizes, train_mean + train_std, train_mean - train_std, alpha=0.15, color='blue')\n",
    "\n",
    "plt.plot(train_sizes, test_mean, color='green', marker='o', markersize=5, label='Cross-Validation Score')\n",
    "plt.fill_between(train_sizes, test_mean + test_std, test_mean - test_std, alpha=0.15, color='green')\n",
    "\n",
    "plt.title('Linear SVM Regression Learning Curve ')\n",
    "plt.xlabel('Training Example', fontsize=12)\n",
    "plt.ylabel('Accuracy Score', fontsize=12)\n",
    "\n",
    "plt.legend(loc='lower center', fontsize=8)\n",
    "plt.show()"
   ]
  },
  {
   "cell_type": "markdown",
   "id": "6020875d",
   "metadata": {},
   "source": [
    "**K-Nearest Neighbors**"
   ]
  },
  {
   "cell_type": "code",
   "execution_count": 91,
   "id": "bdc2eda8",
   "metadata": {},
   "outputs": [],
   "source": [
    "from sklearn.neighbors import KNeighborsRegressor"
   ]
  },
  {
   "cell_type": "code",
   "execution_count": 92,
   "id": "7b8aecbe",
   "metadata": {},
   "outputs": [
    {
     "data": {
      "text/html": [
       "<style>#sk-container-id-8 {color: black;background-color: white;}#sk-container-id-8 pre{padding: 0;}#sk-container-id-8 div.sk-toggleable {background-color: white;}#sk-container-id-8 label.sk-toggleable__label {cursor: pointer;display: block;width: 100%;margin-bottom: 0;padding: 0.3em;box-sizing: border-box;text-align: center;}#sk-container-id-8 label.sk-toggleable__label-arrow:before {content: \"▸\";float: left;margin-right: 0.25em;color: #696969;}#sk-container-id-8 label.sk-toggleable__label-arrow:hover:before {color: black;}#sk-container-id-8 div.sk-estimator:hover label.sk-toggleable__label-arrow:before {color: black;}#sk-container-id-8 div.sk-toggleable__content {max-height: 0;max-width: 0;overflow: hidden;text-align: left;background-color: #f0f8ff;}#sk-container-id-8 div.sk-toggleable__content pre {margin: 0.2em;color: black;border-radius: 0.25em;background-color: #f0f8ff;}#sk-container-id-8 input.sk-toggleable__control:checked~div.sk-toggleable__content {max-height: 200px;max-width: 100%;overflow: auto;}#sk-container-id-8 input.sk-toggleable__control:checked~label.sk-toggleable__label-arrow:before {content: \"▾\";}#sk-container-id-8 div.sk-estimator input.sk-toggleable__control:checked~label.sk-toggleable__label {background-color: #d4ebff;}#sk-container-id-8 div.sk-label input.sk-toggleable__control:checked~label.sk-toggleable__label {background-color: #d4ebff;}#sk-container-id-8 input.sk-hidden--visually {border: 0;clip: rect(1px 1px 1px 1px);clip: rect(1px, 1px, 1px, 1px);height: 1px;margin: -1px;overflow: hidden;padding: 0;position: absolute;width: 1px;}#sk-container-id-8 div.sk-estimator {font-family: monospace;background-color: #f0f8ff;border: 1px dotted black;border-radius: 0.25em;box-sizing: border-box;margin-bottom: 0.5em;}#sk-container-id-8 div.sk-estimator:hover {background-color: #d4ebff;}#sk-container-id-8 div.sk-parallel-item::after {content: \"\";width: 100%;border-bottom: 1px solid gray;flex-grow: 1;}#sk-container-id-8 div.sk-label:hover label.sk-toggleable__label {background-color: #d4ebff;}#sk-container-id-8 div.sk-serial::before {content: \"\";position: absolute;border-left: 1px solid gray;box-sizing: border-box;top: 0;bottom: 0;left: 50%;z-index: 0;}#sk-container-id-8 div.sk-serial {display: flex;flex-direction: column;align-items: center;background-color: white;padding-right: 0.2em;padding-left: 0.2em;position: relative;}#sk-container-id-8 div.sk-item {position: relative;z-index: 1;}#sk-container-id-8 div.sk-parallel {display: flex;align-items: stretch;justify-content: center;background-color: white;position: relative;}#sk-container-id-8 div.sk-item::before, #sk-container-id-8 div.sk-parallel-item::before {content: \"\";position: absolute;border-left: 1px solid gray;box-sizing: border-box;top: 0;bottom: 0;left: 50%;z-index: -1;}#sk-container-id-8 div.sk-parallel-item {display: flex;flex-direction: column;z-index: 1;position: relative;background-color: white;}#sk-container-id-8 div.sk-parallel-item:first-child::after {align-self: flex-end;width: 50%;}#sk-container-id-8 div.sk-parallel-item:last-child::after {align-self: flex-start;width: 50%;}#sk-container-id-8 div.sk-parallel-item:only-child::after {width: 0;}#sk-container-id-8 div.sk-dashed-wrapped {border: 1px dashed gray;margin: 0 0.4em 0.5em 0.4em;box-sizing: border-box;padding-bottom: 0.4em;background-color: white;}#sk-container-id-8 div.sk-label label {font-family: monospace;font-weight: bold;display: inline-block;line-height: 1.2em;}#sk-container-id-8 div.sk-label-container {text-align: center;}#sk-container-id-8 div.sk-container {/* jupyter's `normalize.less` sets `[hidden] { display: none; }` but bootstrap.min.css set `[hidden] { display: none !important; }` so we also need the `!important` here to be able to override the default hidden behavior on the sphinx rendered scikit-learn.org. See: https://github.com/scikit-learn/scikit-learn/issues/21755 */display: inline-block !important;position: relative;}#sk-container-id-8 div.sk-text-repr-fallback {display: none;}</style><div id=\"sk-container-id-8\" class=\"sk-top-container\"><div class=\"sk-text-repr-fallback\"><pre>KNeighborsRegressor()</pre><b>In a Jupyter environment, please rerun this cell to show the HTML representation or trust the notebook. <br />On GitHub, the HTML representation is unable to render, please try loading this page with nbviewer.org.</b></div><div class=\"sk-container\" hidden><div class=\"sk-item\"><div class=\"sk-estimator sk-toggleable\"><input class=\"sk-toggleable__control sk-hidden--visually\" id=\"sk-estimator-id-8\" type=\"checkbox\" checked><label for=\"sk-estimator-id-8\" class=\"sk-toggleable__label sk-toggleable__label-arrow\">KNeighborsRegressor</label><div class=\"sk-toggleable__content\"><pre>KNeighborsRegressor()</pre></div></div></div></div></div>"
      ],
      "text/plain": [
       "KNeighborsRegressor()"
      ]
     },
     "execution_count": 92,
     "metadata": {},
     "output_type": "execute_result"
    }
   ],
   "source": [
    "knn = KNeighborsRegressor()\n",
    "knn.fit(X_train_transformed, y_train)"
   ]
  },
  {
   "cell_type": "code",
   "execution_count": 93,
   "id": "2f9c9e09",
   "metadata": {},
   "outputs": [],
   "source": [
    "y_pred =knn.predict(X_test_transformed)"
   ]
  },
  {
   "cell_type": "code",
   "execution_count": 94,
   "id": "157913a1",
   "metadata": {},
   "outputs": [],
   "source": [
    "MSE= round(mean_squared_error(y_test, y_pred),3)\n",
    "MAE= round(metrics.mean_absolute_error(y_test, y_pred),3)\n",
    "R2_Score= round(metrics.r2_score(y_test, y_pred),3)\n",
    "RMSE= round(np.sqrt(mean_squared_error(y_test, y_pred)),3)\n"
   ]
  },
  {
   "cell_type": "code",
   "execution_count": 95,
   "id": "58ac476e",
   "metadata": {},
   "outputs": [
    {
     "data": {
      "text/html": [
       "<div>\n",
       "<style scoped>\n",
       "    .dataframe tbody tr th:only-of-type {\n",
       "        vertical-align: middle;\n",
       "    }\n",
       "\n",
       "    .dataframe tbody tr th {\n",
       "        vertical-align: top;\n",
       "    }\n",
       "\n",
       "    .dataframe thead th {\n",
       "        text-align: right;\n",
       "    }\n",
       "</style>\n",
       "<table border=\"1\" class=\"dataframe\">\n",
       "  <thead>\n",
       "    <tr style=\"text-align: right;\">\n",
       "      <th></th>\n",
       "      <th>Model</th>\n",
       "      <th>MSE</th>\n",
       "      <th>MAE</th>\n",
       "      <th>R2_Score</th>\n",
       "      <th>RMSE</th>\n",
       "    </tr>\n",
       "  </thead>\n",
       "  <tbody>\n",
       "    <tr>\n",
       "      <th>0</th>\n",
       "      <td>KNN</td>\n",
       "      <td>0.026</td>\n",
       "      <td>0.034</td>\n",
       "      <td>0.632</td>\n",
       "      <td>0.162</td>\n",
       "    </tr>\n",
       "  </tbody>\n",
       "</table>\n",
       "</div>"
      ],
      "text/plain": [
       "  Model    MSE    MAE  R2_Score   RMSE\n",
       "0   KNN  0.026  0.034     0.632  0.162"
      ]
     },
     "execution_count": 95,
     "metadata": {},
     "output_type": "execute_result"
    }
   ],
   "source": [
    "Results_KNN = pd.DataFrame([['KNN', MSE , MAE, R2_Score , RMSE]],\n",
    "               columns = ['Model', 'MSE', 'MAE', 'R2_Score' , 'RMSE'])\n",
    "Results_KNN"
   ]
  },
  {
   "cell_type": "code",
   "execution_count": 96,
   "id": "722ebac3",
   "metadata": {},
   "outputs": [
    {
     "name": "stdout",
     "output_type": "stream",
     "text": [
      "Scores: [0.17204993 0.15946886 0.11923684 0.10780374 0.14210498]\n",
      "Mean: 0.14013286933398478\n",
      "Standard deviation: 0.023992854177337472\n"
     ]
    }
   ],
   "source": [
    "# Cross-validation On Traing set:\n",
    "\n",
    "scores = cross_val_score(knn, X_train_transformed, y_train, cv=5, scoring='neg_mean_squared_error')\n",
    "\n",
    "print(\"Scores:\", np.sqrt(-scores))\n",
    "print(\"Mean:\", np.sqrt(-scores).mean())\n",
    "print(\"Standard deviation:\", np.sqrt(-scores).std())"
   ]
  },
  {
   "cell_type": "code",
   "execution_count": 97,
   "id": "da4d2d13",
   "metadata": {},
   "outputs": [
    {
     "name": "stdout",
     "output_type": "stream",
     "text": [
      "Mean Accuracy:  63.559 % Variance:  0.903 %\n"
     ]
    }
   ],
   "source": [
    "# Cross-validation On Traing set:\n",
    "\n",
    "cv_scores = cross_val_score(knn, X_train_transformed, y_train, cv=5)\n",
    "print('Mean Accuracy: ', round(cv_scores.mean()*100, 3), '% Variance: ', round(cv_scores.var()*100, 3),'%')"
   ]
  },
  {
   "cell_type": "code",
   "execution_count": 98,
   "id": "a705545b",
   "metadata": {},
   "outputs": [
    {
     "data": {
      "text/html": [
       "<div>\n",
       "<style scoped>\n",
       "    .dataframe tbody tr th:only-of-type {\n",
       "        vertical-align: middle;\n",
       "    }\n",
       "\n",
       "    .dataframe tbody tr th {\n",
       "        vertical-align: top;\n",
       "    }\n",
       "\n",
       "    .dataframe thead th {\n",
       "        text-align: right;\n",
       "    }\n",
       "</style>\n",
       "<table border=\"1\" class=\"dataframe\">\n",
       "  <thead>\n",
       "    <tr style=\"text-align: right;\">\n",
       "      <th></th>\n",
       "      <th>Model</th>\n",
       "      <th>Mean Accuracy</th>\n",
       "      <th>Std Accuracy</th>\n",
       "    </tr>\n",
       "  </thead>\n",
       "  <tbody>\n",
       "    <tr>\n",
       "      <th>0</th>\n",
       "      <td>KNN</td>\n",
       "      <td>63.559</td>\n",
       "      <td>0.951</td>\n",
       "    </tr>\n",
       "  </tbody>\n",
       "</table>\n",
       "</div>"
      ],
      "text/plain": [
       "  Model  Mean Accuracy  Std Accuracy\n",
       "0   KNN         63.559         0.951"
      ]
     },
     "execution_count": 98,
     "metadata": {},
     "output_type": "execute_result"
    }
   ],
   "source": [
    "# Calculate mean and variance of the cross-validation scores On Training set:\n",
    "mean_accuracy = cv_scores.mean() * 100\n",
    "var_accuracy = cv_scores.var() * 100\n",
    "\n",
    "# Calculate standard deviation from variance\n",
    "std_accuracy = np.sqrt(var_accuracy)\n",
    "\n",
    "# Create a DataFrame to store the results\n",
    "CV_KNN  = pd.DataFrame({\n",
    "    'Mean Accuracy': [round(mean_accuracy, 3)],\n",
    "    'Std Accuracy': [round(std_accuracy, 3)]})\n",
    "\n",
    "# Add a new column to the DataFrame\n",
    "MODEL = [\"KNN\"] * len(CV_KNN ) \n",
    "CV_KNN  = pd.concat([pd.Series(MODEL, name='Model'), CV_KNN  ], axis=1)\n",
    "\n",
    "CV_KNN "
   ]
  },
  {
   "cell_type": "code",
   "execution_count": 99,
   "id": "391a9907",
   "metadata": {},
   "outputs": [
    {
     "data": {
      "image/png": "[encoded data removed]",
      "text/plain": [
       "<Figure size 600x300 with 1 Axes>"
      ]
     },
     "metadata": {},
     "output_type": "display_data"
    }
   ],
   "source": [
    "# Ploting the learning curve:\n",
    "\n",
    "from sklearn.model_selection import learning_curve\n",
    "train_sizes, train_scores, test_scores = learning_curve(estimator=knn, X=X_train_transformed, y=y_train,\n",
    "                                                       cv=10, train_sizes=np.linspace(0.1, 1.0, 10), n_jobs=-1)\n",
    "\n",
    "plt.figure(figsize=(6,3))\n",
    "# Calculate training and test mean and std\n",
    "\n",
    "train_mean = np.mean(train_scores, axis=1)\n",
    "train_std = np.std(train_scores, axis=1)\n",
    "test_mean = np.mean(test_scores, axis=1)\n",
    "test_std = np.std(test_scores, axis=1)\n",
    "\n",
    "# Plot the learning curve\n",
    "\n",
    "plt.plot(train_sizes, train_mean, color='blue', marker='o', markersize=5, label='Training Score')\n",
    "plt.fill_between(train_sizes, train_mean + train_std, train_mean - train_std, alpha=0.15, color='blue')\n",
    "\n",
    "plt.plot(train_sizes, test_mean, color='green', marker='o', markersize=5, label='Cross-Validation Score')\n",
    "plt.fill_between(train_sizes, test_mean + test_std, test_mean - test_std, alpha=0.15, color='green')\n",
    "\n",
    "plt.title('K-Nearest Neighbors Learning Curve ')\n",
    "plt.xlabel('Training Example', fontsize=12)\n",
    "plt.ylabel('Accuracy Score', fontsize=12)\n",
    "\n",
    "plt.legend(loc='lower center', fontsize=8)\n",
    "plt.show()"
   ]
  },
  {
   "cell_type": "markdown",
   "id": "7f7471c9",
   "metadata": {},
   "source": [
    "**Random Forest Regressor**"
   ]
  },
  {
   "cell_type": "code",
   "execution_count": 100,
   "id": "fea31c8c",
   "metadata": {},
   "outputs": [],
   "source": [
    "from sklearn.ensemble import RandomForestRegressor"
   ]
  },
  {
   "cell_type": "code",
   "execution_count": 101,
   "id": "bf7cdf23",
   "metadata": {},
   "outputs": [
    {
     "data": {
      "text/html": [
       "<style>#sk-container-id-9 {color: black;background-color: white;}#sk-container-id-9 pre{padding: 0;}#sk-container-id-9 div.sk-toggleable {background-color: white;}#sk-container-id-9 label.sk-toggleable__label {cursor: pointer;display: block;width: 100%;margin-bottom: 0;padding: 0.3em;box-sizing: border-box;text-align: center;}#sk-container-id-9 label.sk-toggleable__label-arrow:before {content: \"▸\";float: left;margin-right: 0.25em;color: #696969;}#sk-container-id-9 label.sk-toggleable__label-arrow:hover:before {color: black;}#sk-container-id-9 div.sk-estimator:hover label.sk-toggleable__label-arrow:before {color: black;}#sk-container-id-9 div.sk-toggleable__content {max-height: 0;max-width: 0;overflow: hidden;text-align: left;background-color: #f0f8ff;}#sk-container-id-9 div.sk-toggleable__content pre {margin: 0.2em;color: black;border-radius: 0.25em;background-color: #f0f8ff;}#sk-container-id-9 input.sk-toggleable__control:checked~div.sk-toggleable__content {max-height: 200px;max-width: 100%;overflow: auto;}#sk-container-id-9 input.sk-toggleable__control:checked~label.sk-toggleable__label-arrow:before {content: \"▾\";}#sk-container-id-9 div.sk-estimator input.sk-toggleable__control:checked~label.sk-toggleable__label {background-color: #d4ebff;}#sk-container-id-9 div.sk-label input.sk-toggleable__control:checked~label.sk-toggleable__label {background-color: #d4ebff;}#sk-container-id-9 input.sk-hidden--visually {border: 0;clip: rect(1px 1px 1px 1px);clip: rect(1px, 1px, 1px, 1px);height: 1px;margin: -1px;overflow: hidden;padding: 0;position: absolute;width: 1px;}#sk-container-id-9 div.sk-estimator {font-family: monospace;background-color: #f0f8ff;border: 1px dotted black;border-radius: 0.25em;box-sizing: border-box;margin-bottom: 0.5em;}#sk-container-id-9 div.sk-estimator:hover {background-color: #d4ebff;}#sk-container-id-9 div.sk-parallel-item::after {content: \"\";width: 100%;border-bottom: 1px solid gray;flex-grow: 1;}#sk-container-id-9 div.sk-label:hover label.sk-toggleable__label {background-color: #d4ebff;}#sk-container-id-9 div.sk-serial::before {content: \"\";position: absolute;border-left: 1px solid gray;box-sizing: border-box;top: 0;bottom: 0;left: 50%;z-index: 0;}#sk-container-id-9 div.sk-serial {display: flex;flex-direction: column;align-items: center;background-color: white;padding-right: 0.2em;padding-left: 0.2em;position: relative;}#sk-container-id-9 div.sk-item {position: relative;z-index: 1;}#sk-container-id-9 div.sk-parallel {display: flex;align-items: stretch;justify-content: center;background-color: white;position: relative;}#sk-container-id-9 div.sk-item::before, #sk-container-id-9 div.sk-parallel-item::before {content: \"\";position: absolute;border-left: 1px solid gray;box-sizing: border-box;top: 0;bottom: 0;left: 50%;z-index: -1;}#sk-container-id-9 div.sk-parallel-item {display: flex;flex-direction: column;z-index: 1;position: relative;background-color: white;}#sk-container-id-9 div.sk-parallel-item:first-child::after {align-self: flex-end;width: 50%;}#sk-container-id-9 div.sk-parallel-item:last-child::after {align-self: flex-start;width: 50%;}#sk-container-id-9 div.sk-parallel-item:only-child::after {width: 0;}#sk-container-id-9 div.sk-dashed-wrapped {border: 1px dashed gray;margin: 0 0.4em 0.5em 0.4em;box-sizing: border-box;padding-bottom: 0.4em;background-color: white;}#sk-container-id-9 div.sk-label label {font-family: monospace;font-weight: bold;display: inline-block;line-height: 1.2em;}#sk-container-id-9 div.sk-label-container {text-align: center;}#sk-container-id-9 div.sk-container {/* jupyter's `normalize.less` sets `[hidden] { display: none; }` but bootstrap.min.css set `[hidden] { display: none !important; }` so we also need the `!important` here to be able to override the default hidden behavior on the sphinx rendered scikit-learn.org. See: https://github.com/scikit-learn/scikit-learn/issues/21755 */display: inline-block !important;position: relative;}#sk-container-id-9 div.sk-text-repr-fallback {display: none;}</style><div id=\"sk-container-id-9\" class=\"sk-top-container\"><div class=\"sk-text-repr-fallback\"><pre>RandomForestRegressor(max_leaf_nodes=16, n_estimators=50, n_jobs=-1)</pre><b>In a Jupyter environment, please rerun this cell to show the HTML representation or trust the notebook. <br />On GitHub, the HTML representation is unable to render, please try loading this page with nbviewer.org.</b></div><div class=\"sk-container\" hidden><div class=\"sk-item\"><div class=\"sk-estimator sk-toggleable\"><input class=\"sk-toggleable__control sk-hidden--visually\" id=\"sk-estimator-id-9\" type=\"checkbox\" checked><label for=\"sk-estimator-id-9\" class=\"sk-toggleable__label sk-toggleable__label-arrow\">RandomForestRegressor</label><div class=\"sk-toggleable__content\"><pre>RandomForestRegressor(max_leaf_nodes=16, n_estimators=50, n_jobs=-1)</pre></div></div></div></div></div>"
      ],
      "text/plain": [
       "RandomForestRegressor(max_leaf_nodes=16, n_estimators=50, n_jobs=-1)"
      ]
     },
     "execution_count": 101,
     "metadata": {},
     "output_type": "execute_result"
    }
   ],
   "source": [
    "rnd=RandomForestRegressor(n_estimators=50, max_leaf_nodes=16, n_jobs=-1)\n",
    "rnd.fit(X_train_transformed, y_train)"
   ]
  },
  {
   "cell_type": "code",
   "execution_count": 102,
   "id": "b5e45d67",
   "metadata": {},
   "outputs": [],
   "source": [
    "y_pred =rnd.predict(X_test_transformed)\n",
    "#y_pred"
   ]
  },
  {
   "cell_type": "code",
   "execution_count": 103,
   "id": "b3d452b0",
   "metadata": {},
   "outputs": [],
   "source": [
    "MSE= round(mean_squared_error(y_test, y_pred),3)\n",
    "MAE= round(metrics.mean_absolute_error(y_test, y_pred),3)\n",
    "R2_Score= round(metrics.r2_score(y_test, y_pred),3)\n",
    "RMSE= round(np.sqrt(mean_squared_error(y_test, y_pred)),3)"
   ]
  },
  {
   "cell_type": "code",
   "execution_count": 104,
   "id": "44ec24d4",
   "metadata": {},
   "outputs": [
    {
     "data": {
      "text/html": [
       "<div>\n",
       "<style scoped>\n",
       "    .dataframe tbody tr th:only-of-type {\n",
       "        vertical-align: middle;\n",
       "    }\n",
       "\n",
       "    .dataframe tbody tr th {\n",
       "        vertical-align: top;\n",
       "    }\n",
       "\n",
       "    .dataframe thead th {\n",
       "        text-align: right;\n",
       "    }\n",
       "</style>\n",
       "<table border=\"1\" class=\"dataframe\">\n",
       "  <thead>\n",
       "    <tr style=\"text-align: right;\">\n",
       "      <th></th>\n",
       "      <th>Model</th>\n",
       "      <th>MSE</th>\n",
       "      <th>MAE</th>\n",
       "      <th>R2_Score</th>\n",
       "      <th>RMSE</th>\n",
       "    </tr>\n",
       "  </thead>\n",
       "  <tbody>\n",
       "    <tr>\n",
       "      <th>0</th>\n",
       "      <td>Random Forest</td>\n",
       "      <td>0.012</td>\n",
       "      <td>0.014</td>\n",
       "      <td>0.828</td>\n",
       "      <td>0.111</td>\n",
       "    </tr>\n",
       "  </tbody>\n",
       "</table>\n",
       "</div>"
      ],
      "text/plain": [
       "           Model    MSE    MAE  R2_Score   RMSE\n",
       "0  Random Forest  0.012  0.014     0.828  0.111"
      ]
     },
     "execution_count": 104,
     "metadata": {},
     "output_type": "execute_result"
    }
   ],
   "source": [
    "Results_RandomForestReg = pd.DataFrame([['Random Forest', MSE , MAE, R2_Score,RMSE]],\n",
    "               columns = ['Model', 'MSE', 'MAE', 'R2_Score', \"RMSE\"])\n",
    "Results_RandomForestReg"
   ]
  },
  {
   "cell_type": "code",
   "execution_count": 105,
   "id": "108ffca8",
   "metadata": {},
   "outputs": [
    {
     "name": "stdout",
     "output_type": "stream",
     "text": [
      "Scores: [0.0985806  0.10483015 0.07034221 0.05358061 0.0555568 ]\n",
      "Mean: 0.07657807613122034\n",
      "Standard deviation: 0.021410065836617236\n"
     ]
    }
   ],
   "source": [
    "# Cross-validation On Traing set:\n",
    "\n",
    "scores = cross_val_score(rnd, X_train_transformed, y_train, cv=5, scoring='neg_mean_squared_error')\n",
    "\n",
    "print(\"Scores:\", np.sqrt(-scores))\n",
    "print(\"Mean:\", np.sqrt(-scores).mean())\n",
    "print(\"Standard deviation:\", np.sqrt(-scores).std())"
   ]
  },
  {
   "cell_type": "code",
   "execution_count": 106,
   "id": "6246a8ff",
   "metadata": {},
   "outputs": [
    {
     "name": "stdout",
     "output_type": "stream",
     "text": [
      "Mean Accuracy:  89.505 % Variance:  0.266 %\n"
     ]
    }
   ],
   "source": [
    "# Cross-validation On Traing set:\n",
    "\n",
    "cv_scores = cross_val_score(rnd, X_train_transformed, y_train, cv=5)\n",
    "print('Mean Accuracy: ', round(cv_scores.mean()*100, 3), '% Variance: ', round(cv_scores.var()*100, 3),'%')"
   ]
  },
  {
   "cell_type": "code",
   "execution_count": 107,
   "id": "56a0b5e3",
   "metadata": {},
   "outputs": [
    {
     "data": {
      "text/html": [
       "<div>\n",
       "<style scoped>\n",
       "    .dataframe tbody tr th:only-of-type {\n",
       "        vertical-align: middle;\n",
       "    }\n",
       "\n",
       "    .dataframe tbody tr th {\n",
       "        vertical-align: top;\n",
       "    }\n",
       "\n",
       "    .dataframe thead th {\n",
       "        text-align: right;\n",
       "    }\n",
       "</style>\n",
       "<table border=\"1\" class=\"dataframe\">\n",
       "  <thead>\n",
       "    <tr style=\"text-align: right;\">\n",
       "      <th></th>\n",
       "      <th>Model</th>\n",
       "      <th>Mean Accuracy</th>\n",
       "      <th>Std Accuracy</th>\n",
       "    </tr>\n",
       "  </thead>\n",
       "  <tbody>\n",
       "    <tr>\n",
       "      <th>0</th>\n",
       "      <td>Random Forest</td>\n",
       "      <td>89.505</td>\n",
       "      <td>0.516</td>\n",
       "    </tr>\n",
       "  </tbody>\n",
       "</table>\n",
       "</div>"
      ],
      "text/plain": [
       "           Model  Mean Accuracy  Std Accuracy\n",
       "0  Random Forest         89.505         0.516"
      ]
     },
     "execution_count": 107,
     "metadata": {},
     "output_type": "execute_result"
    }
   ],
   "source": [
    "# Calculate mean and variance of the cross-validation scores On Training set:\n",
    "mean_accuracy = cv_scores.mean() * 100\n",
    "var_accuracy = cv_scores.var() * 100\n",
    "\n",
    "# Calculate standard deviation from variance\n",
    "std_accuracy = np.sqrt(var_accuracy)\n",
    "\n",
    "# Create a DataFrame to store the results\n",
    "CV_RandomForest = pd.DataFrame({\n",
    "    'Mean Accuracy': [round(mean_accuracy, 3)],\n",
    "    'Std Accuracy': [round(std_accuracy, 3)]})\n",
    "\n",
    "# Add a new column to the DataFrame\n",
    "MODEL = [\"Random Forest\"] * len(CV_Lasso)  \n",
    "CV_RandomForest = pd.concat([pd.Series(MODEL, name='Model'), CV_RandomForest], axis=1)\n",
    "\n",
    "CV_RandomForest"
   ]
  },
  {
   "cell_type": "code",
   "execution_count": 108,
   "id": "218216e4",
   "metadata": {},
   "outputs": [
    {
     "data": {
      "image/png": "[encoded data removed]",
      "text/plain": [
       "<Figure size 600x300 with 1 Axes>"
      ]
     },
     "metadata": {},
     "output_type": "display_data"
    }
   ],
   "source": [
    "# Ploting the learning curve:\n",
    "\n",
    "from sklearn.model_selection import learning_curve\n",
    "train_sizes, train_scores, test_scores = learning_curve(estimator=rnd, X=X_train_transformed, y=y_train,\n",
    "                                                       cv=10, train_sizes=np.linspace(0.1, 1.0, 10), n_jobs=-1)\n",
    "\n",
    "plt.figure(figsize=(6,3))\n",
    "# Calculate training and test mean and std\n",
    "\n",
    "train_mean = np.mean(train_scores, axis=1)\n",
    "train_std = np.std(train_scores, axis=1)\n",
    "test_mean = np.mean(test_scores, axis=1)\n",
    "test_std = np.std(test_scores, axis=1)\n",
    "\n",
    "# Plot the learning curve\n",
    "\n",
    "plt.plot(train_sizes, train_mean, color='blue', marker='o', markersize=5, label='Training Score')\n",
    "plt.fill_between(train_sizes, train_mean + train_std, train_mean - train_std, alpha=0.15, color='blue')\n",
    "\n",
    "plt.plot(train_sizes, test_mean, color='green', marker='o', markersize=5, label='Cross-Validation Score')\n",
    "plt.fill_between(train_sizes, test_mean + test_std, test_mean - test_std, alpha=0.15, color='green')\n",
    "\n",
    "plt.title('Random Forest Regression Learning Curve ')\n",
    "plt.xlabel('Training Example', fontsize=12)\n",
    "plt.ylabel('Accuracy Score', fontsize=12)\n",
    "\n",
    "plt.legend(loc='lower center', fontsize=8)\n",
    "plt.show()"
   ]
  },
  {
   "cell_type": "markdown",
   "id": "8afdfb9f",
   "metadata": {},
   "source": [
    "# **Quick Results: precipitation_rate**"
   ]
  },
  {
   "cell_type": "code",
   "execution_count": 109,
   "id": "1ce14a87",
   "metadata": {},
   "outputs": [
    {
     "data": {
      "text/html": [
       "<div>\n",
       "<style scoped>\n",
       "    .dataframe tbody tr th:only-of-type {\n",
       "        vertical-align: middle;\n",
       "    }\n",
       "\n",
       "    .dataframe tbody tr th {\n",
       "        vertical-align: top;\n",
       "    }\n",
       "\n",
       "    .dataframe thead th {\n",
       "        text-align: right;\n",
       "    }\n",
       "</style>\n",
       "<table border=\"1\" class=\"dataframe\">\n",
       "  <thead>\n",
       "    <tr style=\"text-align: right;\">\n",
       "      <th></th>\n",
       "      <th>Model</th>\n",
       "      <th>MSE</th>\n",
       "      <th>MAE</th>\n",
       "      <th>R2_Score</th>\n",
       "      <th>RMSE</th>\n",
       "    </tr>\n",
       "    <tr>\n",
       "      <th>precipitation_rate</th>\n",
       "      <th></th>\n",
       "      <th></th>\n",
       "      <th></th>\n",
       "      <th></th>\n",
       "      <th></th>\n",
       "    </tr>\n",
       "  </thead>\n",
       "  <tbody>\n",
       "    <tr>\n",
       "      <th>0</th>\n",
       "      <td>Linear_Reg</td>\n",
       "      <td>0.012</td>\n",
       "      <td>0.039</td>\n",
       "      <td>0.830</td>\n",
       "      <td>0.110</td>\n",
       "    </tr>\n",
       "    <tr>\n",
       "      <th>0</th>\n",
       "      <td>Ridge</td>\n",
       "      <td>0.012</td>\n",
       "      <td>0.039</td>\n",
       "      <td>0.830</td>\n",
       "      <td>0.110</td>\n",
       "    </tr>\n",
       "    <tr>\n",
       "      <th>0</th>\n",
       "      <td>Lasso</td>\n",
       "      <td>0.014</td>\n",
       "      <td>0.041</td>\n",
       "      <td>0.806</td>\n",
       "      <td>0.117</td>\n",
       "    </tr>\n",
       "    <tr>\n",
       "      <th>0</th>\n",
       "      <td>ElasticNet</td>\n",
       "      <td>0.013</td>\n",
       "      <td>0.038</td>\n",
       "      <td>0.814</td>\n",
       "      <td>0.115</td>\n",
       "    </tr>\n",
       "    <tr>\n",
       "      <th>0</th>\n",
       "      <td>Bayesian_Reg</td>\n",
       "      <td>0.012</td>\n",
       "      <td>0.038</td>\n",
       "      <td>0.830</td>\n",
       "      <td>0.110</td>\n",
       "    </tr>\n",
       "    <tr>\n",
       "      <th>0</th>\n",
       "      <td>Decision Tree</td>\n",
       "      <td>0.009</td>\n",
       "      <td>0.015</td>\n",
       "      <td>0.870</td>\n",
       "      <td>0.096</td>\n",
       "    </tr>\n",
       "    <tr>\n",
       "      <th>0</th>\n",
       "      <td>SVM</td>\n",
       "      <td>0.080</td>\n",
       "      <td>0.257</td>\n",
       "      <td>-0.130</td>\n",
       "      <td>0.283</td>\n",
       "    </tr>\n",
       "    <tr>\n",
       "      <th>0</th>\n",
       "      <td>KNN</td>\n",
       "      <td>0.026</td>\n",
       "      <td>0.034</td>\n",
       "      <td>0.632</td>\n",
       "      <td>0.162</td>\n",
       "    </tr>\n",
       "    <tr>\n",
       "      <th>0</th>\n",
       "      <td>Random Forest</td>\n",
       "      <td>0.012</td>\n",
       "      <td>0.014</td>\n",
       "      <td>0.828</td>\n",
       "      <td>0.111</td>\n",
       "    </tr>\n",
       "  </tbody>\n",
       "</table>\n",
       "</div>"
      ],
      "text/plain": [
       "                            Model    MSE    MAE  R2_Score   RMSE\n",
       "precipitation_rate                                              \n",
       "0                      Linear_Reg  0.012  0.039     0.830  0.110\n",
       "0                           Ridge  0.012  0.039     0.830  0.110\n",
       "0                           Lasso  0.014  0.041     0.806  0.117\n",
       "0                      ElasticNet  0.013  0.038     0.814  0.115\n",
       "0                    Bayesian_Reg  0.012  0.038     0.830  0.110\n",
       "0                   Decision Tree  0.009  0.015     0.870  0.096\n",
       "0                             SVM  0.080  0.257    -0.130  0.283\n",
       "0                             KNN  0.026  0.034     0.632  0.162\n",
       "0                   Random Forest  0.012  0.014     0.828  0.111"
      ]
     },
     "execution_count": 109,
     "metadata": {},
     "output_type": "execute_result"
    }
   ],
   "source": [
    "Result=pd.concat([Results_LinearReg, Results_Ridge, Results_Lasso, Results_ElasticNet, Results_Bayesian_Reg, Results_DecisionTree, Results_svm_reg, Results_KNN, Results_RandomForestReg])\n",
    "Result.set_index('Model')\n",
    "Result = Result.rename_axis('precipitation_rate')\n",
    "Result"
   ]
  },
  {
   "cell_type": "markdown",
   "id": "73f4e665",
   "metadata": {},
   "source": [
    "* the Decision Tree model stands out with the lowest errors and the highest R2 score, indicating more predictive power. \n",
    "\n",
    "* The Linear, Ridge, and Bayesian models also perform well in terms of error metrics and R2 scores. \n",
    "\n",
    "* The SVM and KNN models appear to be less suitable based on the R2 scores and error metrics."
   ]
  },
  {
   "cell_type": "code",
   "execution_count": 110,
   "id": "590f5c29",
   "metadata": {},
   "outputs": [
    {
     "data": {
      "text/html": [
       "<div>\n",
       "<style scoped>\n",
       "    .dataframe tbody tr th:only-of-type {\n",
       "        vertical-align: middle;\n",
       "    }\n",
       "\n",
       "    .dataframe tbody tr th {\n",
       "        vertical-align: top;\n",
       "    }\n",
       "\n",
       "    .dataframe thead th {\n",
       "        text-align: right;\n",
       "    }\n",
       "</style>\n",
       "<table border=\"1\" class=\"dataframe\">\n",
       "  <thead>\n",
       "    <tr style=\"text-align: right;\">\n",
       "      <th></th>\n",
       "      <th>Model</th>\n",
       "      <th>Mean Accuracy</th>\n",
       "      <th>Std Accuracy</th>\n",
       "    </tr>\n",
       "    <tr>\n",
       "      <th>precipitation_rate</th>\n",
       "      <th></th>\n",
       "      <th></th>\n",
       "      <th></th>\n",
       "    </tr>\n",
       "  </thead>\n",
       "  <tbody>\n",
       "    <tr>\n",
       "      <th>0</th>\n",
       "      <td>Linear_Reg</td>\n",
       "      <td>72.546</td>\n",
       "      <td>1.047</td>\n",
       "    </tr>\n",
       "    <tr>\n",
       "      <th>0</th>\n",
       "      <td>Ridge</td>\n",
       "      <td>72.546</td>\n",
       "      <td>1.047</td>\n",
       "    </tr>\n",
       "    <tr>\n",
       "      <th>0</th>\n",
       "      <td>Lasso</td>\n",
       "      <td>71.078</td>\n",
       "      <td>1.211</td>\n",
       "    </tr>\n",
       "    <tr>\n",
       "      <th>0</th>\n",
       "      <td>ElasticNet</td>\n",
       "      <td>71.582</td>\n",
       "      <td>1.174</td>\n",
       "    </tr>\n",
       "    <tr>\n",
       "      <th>0</th>\n",
       "      <td>Bayesian_Reg</td>\n",
       "      <td>72.563</td>\n",
       "      <td>1.053</td>\n",
       "    </tr>\n",
       "    <tr>\n",
       "      <th>0</th>\n",
       "      <td>Decision Tree</td>\n",
       "      <td>86.439</td>\n",
       "      <td>0.801</td>\n",
       "    </tr>\n",
       "    <tr>\n",
       "      <th>0</th>\n",
       "      <td>CV_SVM_Reg</td>\n",
       "      <td>-82.162</td>\n",
       "      <td>1.559</td>\n",
       "    </tr>\n",
       "    <tr>\n",
       "      <th>0</th>\n",
       "      <td>KNN</td>\n",
       "      <td>63.559</td>\n",
       "      <td>0.951</td>\n",
       "    </tr>\n",
       "    <tr>\n",
       "      <th>0</th>\n",
       "      <td>Random Forest</td>\n",
       "      <td>89.505</td>\n",
       "      <td>0.516</td>\n",
       "    </tr>\n",
       "  </tbody>\n",
       "</table>\n",
       "</div>"
      ],
      "text/plain": [
       "                            Model  Mean Accuracy  Std Accuracy\n",
       "precipitation_rate                                            \n",
       "0                      Linear_Reg         72.546         1.047\n",
       "0                           Ridge         72.546         1.047\n",
       "0                           Lasso         71.078         1.211\n",
       "0                      ElasticNet         71.582         1.174\n",
       "0                    Bayesian_Reg         72.563         1.053\n",
       "0                   Decision Tree         86.439         0.801\n",
       "0                      CV_SVM_Reg        -82.162         1.559\n",
       "0                             KNN         63.559         0.951\n",
       "0                   Random Forest         89.505         0.516"
      ]
     },
     "execution_count": 110,
     "metadata": {},
     "output_type": "execute_result"
    }
   ],
   "source": [
    "# Result from Cross-validation on Training Set:\n",
    "\n",
    "CV_Result=pd.concat([CV_LinearReg, CV_Ridge, CV_Lasso, CV_ElasticNet, CV_Bayesian_Reg, CV_Desicion_Tree,CV_SVM_Reg, CV_KNN, CV_RandomForest])\n",
    "CV_Result.set_index('Model')\n",
    "CV_Result = CV_Result.rename_axis('precipitation_rate')\n",
    "CV_Result"
   ]
  },
  {
   "cell_type": "markdown",
   "id": "3f9d0aad",
   "metadata": {},
   "source": [
    "* Decision Tree and Random Forest models have the highest mean accuracies and relatively low standard deviations, indicating consistent and better performance. \n",
    "\n",
    "* Linear, Ridge, and Bayesian models also show consistent accuracy.\n",
    "\n",
    "* SVM and KNN models seem to have limitations in their performance based on negative accuracy or lower accuracy compared to other models"
   ]
  },
  {
   "cell_type": "code",
   "execution_count": null,
   "id": "56ddbfd6",
   "metadata": {},
   "outputs": [],
   "source": []
  }
 ],
 "metadata": {
  "kernelspec": {
   "display_name": "Python 3 (ipykernel)",
   "language": "python",
   "name": "python3"
  },
  "language_info": {
   "codemirror_mode": {
    "name": "ipython",
    "version": 3
   },
   "file_extension": ".py",
   "mimetype": "text/x-python",
   "name": "python",
   "nbconvert_exporter": "python",
   "pygments_lexer": "ipython3",
   "version": "3.8.17"
  }
 },
 "nbformat": 4,
 "nbformat_minor": 5
}
